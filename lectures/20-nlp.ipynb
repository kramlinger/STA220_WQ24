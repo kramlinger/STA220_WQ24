{
 "cells": [
  {
   "cell_type": "markdown",
   "id": "ff704263",
   "metadata": {
    "slideshow": {
     "slide_type": "slide"
    }
   },
   "source": [
    "# STA 220 Data & Web Technologies for Data Analysis\n",
    "\n",
    "### Lecture 20, 3/14/24, Natural language processing\n"
   ]
  },
  {
   "cell_type": "markdown",
   "id": "ef4068f8",
   "metadata": {},
   "source": [
    "### Announcements \n",
    "\n",
    "- Extra OH tomorrow, 3/15, 10-11 AM via Zoom."
   ]
  },
  {
   "cell_type": "markdown",
   "id": "ca23514a",
   "metadata": {},
   "source": [
    "### Final Project Report\n",
    "- Structure: Title, abstract, main body (motivation, explaining challenges, preliminary interpretation of the data)\n",
    "- Formal, consise, professional (-> use spell check, but do not let ChatGPT write your report!)\n",
    "- Data visualization (if any) and code should be provided seperately"
   ]
  },
  {
   "cell_type": "markdown",
   "id": "f7bb3382",
   "metadata": {
    "slideshow": {
     "slide_type": "slide"
    }
   },
   "source": [
    "### Today's topics\n",
    "- Named Entity Recognition\n",
    "- Relation Extraction\n",
    "- Analyzing Sentence Structure"
   ]
  },
  {
   "cell_type": "markdown",
   "id": "e87ffd89",
   "metadata": {},
   "source": [
    "### Named Entity Recognition\n",
    "Named entities are definite noun phrases that refer to specific types of individuals, such as organizations,\n",
    "persons, dates, and so on.\n",
    "\n",
    "| NAMED ENTITY | EXAMPLE | \n",
    "| ---- | ---- |\n",
    "| ORGANIZATION | Georgia-Pacific Corp., WHO |\n",
    "| PERSON | Eddy Bonte, President Obama |\n",
    "| LOCATION | Murray River, Mount Everest |\n",
    "| DATE | June, 2008-06-29 |\n",
    "| TIME | two fifty a m, 1:30 p.m. |\n",
    "| FACILITY | Washington Monument, Stonehenge |\n",
    "| GEO-POLITICAL ENTITIES | South East Asia, Midlothian |\n",
    "\n",
    "The goal of a named entity recognition (NER) system is to identify textual mentions\n",
    "of the named entities. This can be broken down into two subtasks: identifying\n",
    "the boundaries of the NE, and identifying its type. \n",
    "\n",
    "How do we go about identifying named entities? One option would be to look up each\n",
    "word in an appropriate list of names. However, this is prone to errors caused by the fact that many named entity terms\n",
    "are ambiguous.\n",
    "\n",
    "Named entity recognition is a task that is well suited to the type of classifier-based\n",
    "approach that we saw for noun phrase chunking. In particular, we can build a tagger\n",
    "that labels each word in a sentence using the IOB format, where chunks are labeled by\n",
    "their appropriate type.\n",
    "\n",
    "NLTK provides a classifier that has already been trained to recognize named entities,\n",
    "accessed with the function `nltk.ne_chunk()`. If we set the parameter `binary=True`,\n",
    "then named entities are just tagged as `NE`; otherwise, the classifier adds category labels\n",
    "such as `PERSON`, `ORGANIZATION`, and `GPE`."
   ]
  },
  {
   "cell_type": "code",
   "execution_count": 5,
   "id": "71aae1de",
   "metadata": {},
   "outputs": [],
   "source": [
    "import requests\n",
    "import lxml.html as lx"
   ]
  },
  {
   "cell_type": "code",
   "execution_count": 6,
   "id": "fce6b0f0",
   "metadata": {},
   "outputs": [],
   "source": [
    "r=requests.get('https://plato.stanford.edu/entries/liberalism-latin-america/')\n",
    "html=lx.fromstring(r.text)\n",
    "d=\" \".join(html.xpath('//div[@id=\"aueditable\"]//p//text()'))"
   ]
  },
  {
   "cell_type": "code",
   "execution_count": 7,
   "id": "7718dab5",
   "metadata": {},
   "outputs": [
    {
     "data": {
      "text/plain": [
       "'\\nLiberal political discourse was dominant in Latin America during most\\nof the nineteenth century. In'"
      ]
     },
     "execution_count": 7,
     "metadata": {},
     "output_type": "execute_result"
    }
   ],
   "source": [
    "d[:100]"
   ]
  },
  {
   "cell_type": "code",
   "execution_count": 8,
   "id": "7b875770",
   "metadata": {},
   "outputs": [],
   "source": [
    "import nltk\n",
    "import re\n",
    "def preprocess(document):\n",
    "    document = re.sub(\"\\s+\", \" \", document)\n",
    "    sentences = nltk.sent_tokenize(document)\n",
    "    sentences = [nltk.word_tokenize(sent) for sent in sentences]\n",
    "    sentences = [nltk.pos_tag(sent) for sent in sentences]\n",
    "    return sentences"
   ]
  },
  {
   "cell_type": "code",
   "execution_count": 9,
   "id": "55d928b1",
   "metadata": {},
   "outputs": [],
   "source": [
    "document=preprocess(d)"
   ]
  },
  {
   "cell_type": "code",
   "execution_count": 10,
   "id": "120e809f",
   "metadata": {},
   "outputs": [
    {
     "data": {
      "text/plain": [
       "[('Liberal', 'JJ'),\n",
       " ('political', 'JJ'),\n",
       " ('discourse', 'NN'),\n",
       " ('was', 'VBD'),\n",
       " ('dominant', 'JJ'),\n",
       " ('in', 'IN'),\n",
       " ('Latin', 'NNP'),\n",
       " ('America', 'NNP'),\n",
       " ('during', 'IN'),\n",
       " ('most', 'JJS'),\n",
       " ('of', 'IN'),\n",
       " ('the', 'DT'),\n",
       " ('nineteenth', 'JJ'),\n",
       " ('century', 'NN'),\n",
       " ('.', '.')]"
      ]
     },
     "execution_count": 10,
     "metadata": {},
     "output_type": "execute_result"
    }
   ],
   "source": [
    "document[0]"
   ]
  },
  {
   "cell_type": "code",
   "execution_count": 11,
   "id": "fc7a27e1",
   "metadata": {},
   "outputs": [],
   "source": [
    "t=[nltk.ne_chunk(sentence) for sentence in document]"
   ]
  },
  {
   "cell_type": "code",
   "execution_count": 12,
   "id": "ee5f923f",
   "metadata": {},
   "outputs": [
    {
     "data": {
      "image/svg+xml": [
       "<svg baseProfile=\"full\" height=\"168px\" preserveAspectRatio=\"xMidYMid meet\" style=\"font-family: times, serif; font-weight: normal; font-style: normal; font-size: 16px;\" version=\"1.1\" viewBox=\"0,0,2208.0,168.0\" width=\"2208px\" xmlns=\"http://www.w3.org/2000/svg\" xmlns:ev=\"http://www.w3.org/2001/xml-events\" xmlns:xlink=\"http://www.w3.org/1999/xlink\"><defs /><svg width=\"100%\" x=\"0\" y=\"0px\"><defs /><text text-anchor=\"middle\" x=\"50%\" y=\"16px\">S</text></svg><svg width=\"2.17391%\" x=\"0%\" y=\"48px\"><defs /><svg width=\"100%\" x=\"0\" y=\"0px\"><defs /><text text-anchor=\"middle\" x=\"50%\" y=\"16px\">This</text></svg><svg width=\"100%\" x=\"0%\" y=\"48px\"><defs /><svg width=\"100%\" x=\"0\" y=\"0px\"><defs /><text text-anchor=\"middle\" x=\"50%\" y=\"16px\">DT</text></svg></svg><line stroke=\"black\" x1=\"50%\" x2=\"50%\" y1=\"19.2px\" y2=\"48px\" /></svg><line stroke=\"black\" x1=\"50%\" x2=\"1.08696%\" y1=\"19.2px\" y2=\"48px\" /><svg width=\"1.81159%\" x=\"2.17391%\" y=\"48px\"><defs /><svg width=\"100%\" x=\"0\" y=\"0px\"><defs /><text text-anchor=\"middle\" x=\"50%\" y=\"16px\">is</text></svg><svg width=\"100%\" x=\"0%\" y=\"48px\"><defs /><svg width=\"100%\" x=\"0\" y=\"0px\"><defs /><text text-anchor=\"middle\" x=\"50%\" y=\"16px\">VBZ</text></svg></svg><line stroke=\"black\" x1=\"50%\" x2=\"50%\" y1=\"19.2px\" y2=\"48px\" /></svg><line stroke=\"black\" x1=\"50%\" x2=\"3.07971%\" y1=\"19.2px\" y2=\"48px\" /><svg width=\"1.81159%\" x=\"3.98551%\" y=\"48px\"><defs /><svg width=\"100%\" x=\"0\" y=\"0px\"><defs /><text text-anchor=\"middle\" x=\"50%\" y=\"16px\">not</text></svg><svg width=\"100%\" x=\"0%\" y=\"48px\"><defs /><svg width=\"100%\" x=\"0\" y=\"0px\"><defs /><text text-anchor=\"middle\" x=\"50%\" y=\"16px\">RB</text></svg></svg><line stroke=\"black\" x1=\"50%\" x2=\"50%\" y1=\"19.2px\" y2=\"48px\" /></svg><line stroke=\"black\" x1=\"50%\" x2=\"4.8913%\" y1=\"19.2px\" y2=\"48px\" /><svg width=\"1.44928%\" x=\"5.7971%\" y=\"48px\"><defs /><svg width=\"100%\" x=\"0\" y=\"0px\"><defs /><text text-anchor=\"middle\" x=\"50%\" y=\"16px\">to</text></svg><svg width=\"100%\" x=\"0%\" y=\"48px\"><defs /><svg width=\"100%\" x=\"0\" y=\"0px\"><defs /><text text-anchor=\"middle\" x=\"50%\" y=\"16px\">TO</text></svg></svg><line stroke=\"black\" x1=\"50%\" x2=\"50%\" y1=\"19.2px\" y2=\"48px\" /></svg><line stroke=\"black\" x1=\"50%\" x2=\"6.52174%\" y1=\"19.2px\" y2=\"48px\" /><svg width=\"2.17391%\" x=\"7.24638%\" y=\"48px\"><defs /><svg width=\"100%\" x=\"0\" y=\"0px\"><defs /><text text-anchor=\"middle\" x=\"50%\" y=\"16px\">deny</text></svg><svg width=\"100%\" x=\"0%\" y=\"48px\"><defs /><svg width=\"100%\" x=\"0\" y=\"0px\"><defs /><text text-anchor=\"middle\" x=\"50%\" y=\"16px\">VB</text></svg></svg><line stroke=\"black\" x1=\"50%\" x2=\"50%\" y1=\"19.2px\" y2=\"48px\" /></svg><line stroke=\"black\" x1=\"50%\" x2=\"8.33333%\" y1=\"19.2px\" y2=\"48px\" /><svg width=\"2.17391%\" x=\"9.42029%\" y=\"48px\"><defs /><svg width=\"100%\" x=\"0\" y=\"0px\"><defs /><text text-anchor=\"middle\" x=\"50%\" y=\"16px\">that</text></svg><svg width=\"100%\" x=\"0%\" y=\"48px\"><defs /><svg width=\"100%\" x=\"0\" y=\"0px\"><defs /><text text-anchor=\"middle\" x=\"50%\" y=\"16px\">IN</text></svg></svg><line stroke=\"black\" x1=\"50%\" x2=\"50%\" y1=\"19.2px\" y2=\"48px\" /></svg><line stroke=\"black\" x1=\"50%\" x2=\"10.5072%\" y1=\"19.2px\" y2=\"48px\" /><svg width=\"2.17391%\" x=\"11.5942%\" y=\"48px\"><defs /><svg width=\"100%\" x=\"0\" y=\"0px\"><defs /><text text-anchor=\"middle\" x=\"50%\" y=\"16px\">some</text></svg><svg width=\"100%\" x=\"0%\" y=\"48px\"><defs /><svg width=\"100%\" x=\"0\" y=\"0px\"><defs /><text text-anchor=\"middle\" x=\"50%\" y=\"16px\">DT</text></svg></svg><line stroke=\"black\" x1=\"50%\" x2=\"50%\" y1=\"19.2px\" y2=\"48px\" /></svg><line stroke=\"black\" x1=\"50%\" x2=\"12.6812%\" y1=\"19.2px\" y2=\"48px\" /><svg width=\"3.26087%\" x=\"13.7681%\" y=\"48px\"><defs /><svg width=\"100%\" x=\"0\" y=\"0px\"><defs /><text text-anchor=\"middle\" x=\"50%\" y=\"16px\">liberal</text></svg><svg width=\"100%\" x=\"0%\" y=\"48px\"><defs /><svg width=\"100%\" x=\"0\" y=\"0px\"><defs /><text text-anchor=\"middle\" x=\"50%\" y=\"16px\">JJ</text></svg></svg><line stroke=\"black\" x1=\"50%\" x2=\"50%\" y1=\"19.2px\" y2=\"48px\" /></svg><line stroke=\"black\" x1=\"50%\" x2=\"15.3986%\" y1=\"19.2px\" y2=\"48px\" /><svg width=\"2.53623%\" x=\"17.029%\" y=\"48px\"><defs /><svg width=\"100%\" x=\"0\" y=\"0px\"><defs /><text text-anchor=\"middle\" x=\"50%\" y=\"16px\">Latin</text></svg><svg width=\"100%\" x=\"0%\" y=\"48px\"><defs /><svg width=\"100%\" x=\"0\" y=\"0px\"><defs /><text text-anchor=\"middle\" x=\"50%\" y=\"16px\">JJ</text></svg></svg><line stroke=\"black\" x1=\"50%\" x2=\"50%\" y1=\"19.2px\" y2=\"48px\" /></svg><line stroke=\"black\" x1=\"50%\" x2=\"18.2971%\" y1=\"19.2px\" y2=\"48px\" /><svg width=\"3.62319%\" x=\"19.5652%\" y=\"48px\"><defs /><svg width=\"100%\" x=\"0\" y=\"0px\"><defs /><text text-anchor=\"middle\" x=\"50%\" y=\"16px\">GPE</text></svg><svg width=\"100%\" x=\"0%\" y=\"48px\"><defs /><svg width=\"100%\" x=\"0\" y=\"0px\"><defs /><text text-anchor=\"middle\" x=\"50%\" y=\"16px\">American</text></svg><svg width=\"100%\" x=\"0%\" y=\"48px\"><defs /><svg width=\"100%\" x=\"0\" y=\"0px\"><defs /><text text-anchor=\"middle\" x=\"50%\" y=\"16px\">JJ</text></svg></svg><line stroke=\"black\" x1=\"50%\" x2=\"50%\" y1=\"19.2px\" y2=\"48px\" /></svg><line stroke=\"black\" x1=\"50%\" x2=\"50%\" y1=\"19.2px\" y2=\"48px\" /></svg><line stroke=\"black\" x1=\"50%\" x2=\"21.3768%\" y1=\"19.2px\" y2=\"48px\" /><svg width=\"5.43478%\" x=\"23.1884%\" y=\"48px\"><defs /><svg width=\"100%\" x=\"0\" y=\"0px\"><defs /><text text-anchor=\"middle\" x=\"50%\" y=\"16px\">intellectuals</text></svg><svg width=\"100%\" x=\"0%\" y=\"48px\"><defs /><svg width=\"100%\" x=\"0\" y=\"0px\"><defs /><text text-anchor=\"middle\" x=\"50%\" y=\"16px\">NNS</text></svg></svg><line stroke=\"black\" x1=\"50%\" x2=\"50%\" y1=\"19.2px\" y2=\"48px\" /></svg><line stroke=\"black\" x1=\"50%\" x2=\"25.9058%\" y1=\"19.2px\" y2=\"48px\" /><svg width=\"1.81159%\" x=\"28.6232%\" y=\"48px\"><defs /><svg width=\"100%\" x=\"0\" y=\"0px\"><defs /><text text-anchor=\"middle\" x=\"50%\" y=\"16px\">did</text></svg><svg width=\"100%\" x=\"0%\" y=\"48px\"><defs /><svg width=\"100%\" x=\"0\" y=\"0px\"><defs /><text text-anchor=\"middle\" x=\"50%\" y=\"16px\">VBD</text></svg></svg><line stroke=\"black\" x1=\"50%\" x2=\"50%\" y1=\"19.2px\" y2=\"48px\" /></svg><line stroke=\"black\" x1=\"50%\" x2=\"29.529%\" y1=\"19.2px\" y2=\"48px\" /><svg width=\"3.26087%\" x=\"30.4348%\" y=\"48px\"><defs /><svg width=\"100%\" x=\"0\" y=\"0px\"><defs /><text text-anchor=\"middle\" x=\"50%\" y=\"16px\">produce</text></svg><svg width=\"100%\" x=\"0%\" y=\"48px\"><defs /><svg width=\"100%\" x=\"0\" y=\"0px\"><defs /><text text-anchor=\"middle\" x=\"50%\" y=\"16px\">VB</text></svg></svg><line stroke=\"black\" x1=\"50%\" x2=\"50%\" y1=\"19.2px\" y2=\"48px\" /></svg><line stroke=\"black\" x1=\"50%\" x2=\"32.0652%\" y1=\"19.2px\" y2=\"48px\" /><svg width=\"4.71014%\" x=\"33.6957%\" y=\"48px\"><defs /><svg width=\"100%\" x=\"0\" y=\"0px\"><defs /><text text-anchor=\"middle\" x=\"50%\" y=\"16px\">theoretical</text></svg><svg width=\"100%\" x=\"0%\" y=\"48px\"><defs /><svg width=\"100%\" x=\"0\" y=\"0px\"><defs /><text text-anchor=\"middle\" x=\"50%\" y=\"16px\">JJ</text></svg></svg><line stroke=\"black\" x1=\"50%\" x2=\"50%\" y1=\"19.2px\" y2=\"48px\" /></svg><line stroke=\"black\" x1=\"50%\" x2=\"36.0507%\" y1=\"19.2px\" y2=\"48px\" /><svg width=\"2.53623%\" x=\"38.4058%\" y=\"48px\"><defs /><svg width=\"100%\" x=\"0\" y=\"0px\"><defs /><text text-anchor=\"middle\" x=\"50%\" y=\"16px\">works</text></svg><svg width=\"100%\" x=\"0%\" y=\"48px\"><defs /><svg width=\"100%\" x=\"0\" y=\"0px\"><defs /><text text-anchor=\"middle\" x=\"50%\" y=\"16px\">NNS</text></svg></svg><line stroke=\"black\" x1=\"50%\" x2=\"50%\" y1=\"19.2px\" y2=\"48px\" /></svg><line stroke=\"black\" x1=\"50%\" x2=\"39.6739%\" y1=\"19.2px\" y2=\"48px\" /><svg width=\"2.17391%\" x=\"40.942%\" y=\"48px\"><defs /><svg width=\"100%\" x=\"0\" y=\"0px\"><defs /><text text-anchor=\"middle\" x=\"50%\" y=\"16px\">that</text></svg><svg width=\"100%\" x=\"0%\" y=\"48px\"><defs /><svg width=\"100%\" x=\"0\" y=\"0px\"><defs /><text text-anchor=\"middle\" x=\"50%\" y=\"16px\">WDT</text></svg></svg><line stroke=\"black\" x1=\"50%\" x2=\"50%\" y1=\"19.2px\" y2=\"48px\" /></svg><line stroke=\"black\" x1=\"50%\" x2=\"42.029%\" y1=\"19.2px\" y2=\"48px\" /><svg width=\"1.81159%\" x=\"43.1159%\" y=\"48px\"><defs /><svg width=\"100%\" x=\"0\" y=\"0px\"><defs /><text text-anchor=\"middle\" x=\"50%\" y=\"16px\">are</text></svg><svg width=\"100%\" x=\"0%\" y=\"48px\"><defs /><svg width=\"100%\" x=\"0\" y=\"0px\"><defs /><text text-anchor=\"middle\" x=\"50%\" y=\"16px\">VBP</text></svg></svg><line stroke=\"black\" x1=\"50%\" x2=\"50%\" y1=\"19.2px\" y2=\"48px\" /></svg><line stroke=\"black\" x1=\"50%\" x2=\"44.0217%\" y1=\"19.2px\" y2=\"48px\" /><svg width=\"2.53623%\" x=\"44.9275%\" y=\"48px\"><defs /><svg width=\"100%\" x=\"0\" y=\"0px\"><defs /><text text-anchor=\"middle\" x=\"50%\" y=\"16px\">worth</text></svg><svg width=\"100%\" x=\"0%\" y=\"48px\"><defs /><svg width=\"100%\" x=\"0\" y=\"0px\"><defs /><text text-anchor=\"middle\" x=\"50%\" y=\"16px\">JJ</text></svg></svg><line stroke=\"black\" x1=\"50%\" x2=\"50%\" y1=\"19.2px\" y2=\"48px\" /></svg><line stroke=\"black\" x1=\"50%\" x2=\"46.1957%\" y1=\"19.2px\" y2=\"48px\" /><svg width=\"3.98551%\" x=\"47.4638%\" y=\"48px\"><defs /><svg width=\"100%\" x=\"0\" y=\"0px\"><defs /><text text-anchor=\"middle\" x=\"50%\" y=\"16px\">examining</text></svg><svg width=\"100%\" x=\"0%\" y=\"48px\"><defs /><svg width=\"100%\" x=\"0\" y=\"0px\"><defs /><text text-anchor=\"middle\" x=\"50%\" y=\"16px\">VBG</text></svg></svg><line stroke=\"black\" x1=\"50%\" x2=\"50%\" y1=\"19.2px\" y2=\"48px\" /></svg><line stroke=\"black\" x1=\"50%\" x2=\"49.4565%\" y1=\"19.2px\" y2=\"48px\" /><svg width=\"1.44928%\" x=\"51.4493%\" y=\"48px\"><defs /><svg width=\"100%\" x=\"0\" y=\"0px\"><defs /><text text-anchor=\"middle\" x=\"50%\" y=\"16px\">in</text></svg><svg width=\"100%\" x=\"0%\" y=\"48px\"><defs /><svg width=\"100%\" x=\"0\" y=\"0px\"><defs /><text text-anchor=\"middle\" x=\"50%\" y=\"16px\">IN</text></svg></svg><line stroke=\"black\" x1=\"50%\" x2=\"50%\" y1=\"19.2px\" y2=\"48px\" /></svg><line stroke=\"black\" x1=\"50%\" x2=\"52.1739%\" y1=\"19.2px\" y2=\"48px\" /><svg width=\"2.53623%\" x=\"52.8986%\" y=\"48px\"><defs /><svg width=\"100%\" x=\"0\" y=\"0px\"><defs /><text text-anchor=\"middle\" x=\"50%\" y=\"16px\">their</text></svg><svg width=\"100%\" x=\"0%\" y=\"48px\"><defs /><svg width=\"100%\" x=\"0\" y=\"0px\"><defs /><text text-anchor=\"middle\" x=\"50%\" y=\"16px\">PRP$</text></svg></svg><line stroke=\"black\" x1=\"50%\" x2=\"50%\" y1=\"19.2px\" y2=\"48px\" /></svg><line stroke=\"black\" x1=\"50%\" x2=\"54.1667%\" y1=\"19.2px\" y2=\"48px\" /><svg width=\"1.81159%\" x=\"55.4348%\" y=\"48px\"><defs /><svg width=\"100%\" x=\"0\" y=\"0px\"><defs /><text text-anchor=\"middle\" x=\"50%\" y=\"16px\">own</text></svg><svg width=\"100%\" x=\"0%\" y=\"48px\"><defs /><svg width=\"100%\" x=\"0\" y=\"0px\"><defs /><text text-anchor=\"middle\" x=\"50%\" y=\"16px\">JJ</text></svg></svg><line stroke=\"black\" x1=\"50%\" x2=\"50%\" y1=\"19.2px\" y2=\"48px\" /></svg><line stroke=\"black\" x1=\"50%\" x2=\"56.3406%\" y1=\"19.2px\" y2=\"48px\" /><svg width=\"2.53623%\" x=\"57.2464%\" y=\"48px\"><defs /><svg width=\"100%\" x=\"0\" y=\"0px\"><defs /><text text-anchor=\"middle\" x=\"50%\" y=\"16px\">right</text></svg><svg width=\"100%\" x=\"0%\" y=\"48px\"><defs /><svg width=\"100%\" x=\"0\" y=\"0px\"><defs /><text text-anchor=\"middle\" x=\"50%\" y=\"16px\">NN</text></svg></svg><line stroke=\"black\" x1=\"50%\" x2=\"50%\" y1=\"19.2px\" y2=\"48px\" /></svg><line stroke=\"black\" x1=\"50%\" x2=\"58.5145%\" y1=\"19.2px\" y2=\"48px\" /><svg width=\"1.08696%\" x=\"59.7826%\" y=\"48px\"><defs /><svg width=\"100%\" x=\"0\" y=\"0px\"><defs /><text text-anchor=\"middle\" x=\"50%\" y=\"16px\">,</text></svg><svg width=\"100%\" x=\"0%\" y=\"48px\"><defs /><svg width=\"100%\" x=\"0\" y=\"0px\"><defs /><text text-anchor=\"middle\" x=\"50%\" y=\"16px\">,</text></svg></svg><line stroke=\"black\" x1=\"50%\" x2=\"50%\" y1=\"19.2px\" y2=\"48px\" /></svg><line stroke=\"black\" x1=\"50%\" x2=\"60.3261%\" y1=\"19.2px\" y2=\"48px\" /><svg width=\"2.17391%\" x=\"60.8696%\" y=\"48px\"><defs /><svg width=\"100%\" x=\"0\" y=\"0px\"><defs /><text text-anchor=\"middle\" x=\"50%\" y=\"16px\">such</text></svg><svg width=\"100%\" x=\"0%\" y=\"48px\"><defs /><svg width=\"100%\" x=\"0\" y=\"0px\"><defs /><text text-anchor=\"middle\" x=\"50%\" y=\"16px\">JJ</text></svg></svg><line stroke=\"black\" x1=\"50%\" x2=\"50%\" y1=\"19.2px\" y2=\"48px\" /></svg><line stroke=\"black\" x1=\"50%\" x2=\"61.9565%\" y1=\"19.2px\" y2=\"48px\" /><svg width=\"1.44928%\" x=\"63.0435%\" y=\"48px\"><defs /><svg width=\"100%\" x=\"0\" y=\"0px\"><defs /><text text-anchor=\"middle\" x=\"50%\" y=\"16px\">as</text></svg><svg width=\"100%\" x=\"0%\" y=\"48px\"><defs /><svg width=\"100%\" x=\"0\" y=\"0px\"><defs /><text text-anchor=\"middle\" x=\"50%\" y=\"16px\">IN</text></svg></svg><line stroke=\"black\" x1=\"50%\" x2=\"50%\" y1=\"19.2px\" y2=\"48px\" /></svg><line stroke=\"black\" x1=\"50%\" x2=\"63.7681%\" y1=\"19.2px\" y2=\"48px\" /><svg width=\"2.53623%\" x=\"64.4928%\" y=\"48px\"><defs /><svg width=\"100%\" x=\"0\" y=\"0px\"><defs /><text text-anchor=\"middle\" x=\"50%\" y=\"16px\">those</text></svg><svg width=\"100%\" x=\"0%\" y=\"48px\"><defs /><svg width=\"100%\" x=\"0\" y=\"0px\"><defs /><text text-anchor=\"middle\" x=\"50%\" y=\"16px\">DT</text></svg></svg><line stroke=\"black\" x1=\"50%\" x2=\"50%\" y1=\"19.2px\" y2=\"48px\" /></svg><line stroke=\"black\" x1=\"50%\" x2=\"65.7609%\" y1=\"19.2px\" y2=\"48px\" /><svg width=\"1.44928%\" x=\"67.029%\" y=\"48px\"><defs /><svg width=\"100%\" x=\"0\" y=\"0px\"><defs /><text text-anchor=\"middle\" x=\"50%\" y=\"16px\">by</text></svg><svg width=\"100%\" x=\"0%\" y=\"48px\"><defs /><svg width=\"100%\" x=\"0\" y=\"0px\"><defs /><text text-anchor=\"middle\" x=\"50%\" y=\"16px\">IN</text></svg></svg><line stroke=\"black\" x1=\"50%\" x2=\"50%\" y1=\"19.2px\" y2=\"48px\" /></svg><line stroke=\"black\" x1=\"50%\" x2=\"67.7536%\" y1=\"19.2px\" y2=\"48px\" /><svg width=\"9.05797%\" x=\"68.4783%\" y=\"48px\"><defs /><svg width=\"100%\" x=\"0\" y=\"0px\"><defs /><text text-anchor=\"middle\" x=\"50%\" y=\"16px\">PERSON</text></svg><svg width=\"24%\" x=\"0%\" y=\"48px\"><defs /><svg width=\"100%\" x=\"0\" y=\"0px\"><defs /><text text-anchor=\"middle\" x=\"50%\" y=\"16px\">Juan</text></svg><svg width=\"100%\" x=\"0%\" y=\"48px\"><defs /><svg width=\"100%\" x=\"0\" y=\"0px\"><defs /><text text-anchor=\"middle\" x=\"50%\" y=\"16px\">NNP</text></svg></svg><line stroke=\"black\" x1=\"50%\" x2=\"50%\" y1=\"19.2px\" y2=\"48px\" /></svg><line stroke=\"black\" x1=\"50%\" x2=\"12%\" y1=\"19.2px\" y2=\"48px\" /><svg width=\"40%\" x=\"24%\" y=\"48px\"><defs /><svg width=\"100%\" x=\"0\" y=\"0px\"><defs /><text text-anchor=\"middle\" x=\"50%\" y=\"16px\">Bautista</text></svg><svg width=\"100%\" x=\"0%\" y=\"48px\"><defs /><svg width=\"100%\" x=\"0\" y=\"0px\"><defs /><text text-anchor=\"middle\" x=\"50%\" y=\"16px\">NNP</text></svg></svg><line stroke=\"black\" x1=\"50%\" x2=\"50%\" y1=\"19.2px\" y2=\"48px\" /></svg><line stroke=\"black\" x1=\"50%\" x2=\"44%\" y1=\"19.2px\" y2=\"48px\" /><svg width=\"36%\" x=\"64%\" y=\"48px\"><defs /><svg width=\"100%\" x=\"0\" y=\"0px\"><defs /><text text-anchor=\"middle\" x=\"50%\" y=\"16px\">Alberdi</text></svg><svg width=\"100%\" x=\"0%\" y=\"48px\"><defs /><svg width=\"100%\" x=\"0\" y=\"0px\"><defs /><text text-anchor=\"middle\" x=\"50%\" y=\"16px\">NNP</text></svg></svg><line stroke=\"black\" x1=\"50%\" x2=\"50%\" y1=\"19.2px\" y2=\"48px\" /></svg><line stroke=\"black\" x1=\"50%\" x2=\"82%\" y1=\"19.2px\" y2=\"48px\" /></svg><line stroke=\"black\" x1=\"50%\" x2=\"73.0072%\" y1=\"19.2px\" y2=\"48px\" /><svg width=\"1.44928%\" x=\"77.5362%\" y=\"48px\"><defs /><svg width=\"100%\" x=\"0\" y=\"0px\"><defs /><text text-anchor=\"middle\" x=\"50%\" y=\"16px\">in</text></svg><svg width=\"100%\" x=\"0%\" y=\"48px\"><defs /><svg width=\"100%\" x=\"0\" y=\"0px\"><defs /><text text-anchor=\"middle\" x=\"50%\" y=\"16px\">IN</text></svg></svg><line stroke=\"black\" x1=\"50%\" x2=\"50%\" y1=\"19.2px\" y2=\"48px\" /></svg><line stroke=\"black\" x1=\"50%\" x2=\"78.2609%\" y1=\"19.2px\" y2=\"48px\" /><svg width=\"3.98551%\" x=\"78.9855%\" y=\"48px\"><defs /><svg width=\"100%\" x=\"0\" y=\"0px\"><defs /><text text-anchor=\"middle\" x=\"50%\" y=\"16px\">GPE</text></svg><svg width=\"100%\" x=\"0%\" y=\"48px\"><defs /><svg width=\"100%\" x=\"0\" y=\"0px\"><defs /><text text-anchor=\"middle\" x=\"50%\" y=\"16px\">Argentina</text></svg><svg width=\"100%\" x=\"0%\" y=\"48px\"><defs /><svg width=\"100%\" x=\"0\" y=\"0px\"><defs /><text text-anchor=\"middle\" x=\"50%\" y=\"16px\">NNP</text></svg></svg><line stroke=\"black\" x1=\"50%\" x2=\"50%\" y1=\"19.2px\" y2=\"48px\" /></svg><line stroke=\"black\" x1=\"50%\" x2=\"50%\" y1=\"19.2px\" y2=\"48px\" /></svg><line stroke=\"black\" x1=\"50%\" x2=\"80.9783%\" y1=\"19.2px\" y2=\"48px\" /><svg width=\"1.81159%\" x=\"82.971%\" y=\"48px\"><defs /><svg width=\"100%\" x=\"0\" y=\"0px\"><defs /><text text-anchor=\"middle\" x=\"50%\" y=\"16px\">and</text></svg><svg width=\"100%\" x=\"0%\" y=\"48px\"><defs /><svg width=\"100%\" x=\"0\" y=\"0px\"><defs /><text text-anchor=\"middle\" x=\"50%\" y=\"16px\">CC</text></svg></svg><line stroke=\"black\" x1=\"50%\" x2=\"50%\" y1=\"19.2px\" y2=\"48px\" /></svg><line stroke=\"black\" x1=\"50%\" x2=\"83.8768%\" y1=\"19.2px\" y2=\"48px\" /><svg width=\"10.1449%\" x=\"84.7826%\" y=\"48px\"><defs /><svg width=\"100%\" x=\"0\" y=\"0px\"><defs /><text text-anchor=\"middle\" x=\"50%\" y=\"16px\">PERSON</text></svg><svg width=\"21.4286%\" x=\"0%\" y=\"48px\"><defs /><svg width=\"100%\" x=\"0\" y=\"0px\"><defs /><text text-anchor=\"middle\" x=\"50%\" y=\"16px\">José</text></svg><svg width=\"100%\" x=\"0%\" y=\"48px\"><defs /><svg width=\"100%\" x=\"0\" y=\"0px\"><defs /><text text-anchor=\"middle\" x=\"50%\" y=\"16px\">NNP</text></svg></svg><line stroke=\"black\" x1=\"50%\" x2=\"50%\" y1=\"19.2px\" y2=\"48px\" /></svg><line stroke=\"black\" x1=\"50%\" x2=\"10.7143%\" y1=\"19.2px\" y2=\"48px\" /><svg width=\"39.2857%\" x=\"21.4286%\" y=\"48px\"><defs /><svg width=\"100%\" x=\"0\" y=\"0px\"><defs /><text text-anchor=\"middle\" x=\"50%\" y=\"16px\">Victorino</text></svg><svg width=\"100%\" x=\"0%\" y=\"48px\"><defs /><svg width=\"100%\" x=\"0\" y=\"0px\"><defs /><text text-anchor=\"middle\" x=\"50%\" y=\"16px\">NNP</text></svg></svg><line stroke=\"black\" x1=\"50%\" x2=\"50%\" y1=\"19.2px\" y2=\"48px\" /></svg><line stroke=\"black\" x1=\"50%\" x2=\"41.0714%\" y1=\"19.2px\" y2=\"48px\" /><svg width=\"39.2857%\" x=\"60.7143%\" y=\"48px\"><defs /><svg width=\"100%\" x=\"0\" y=\"0px\"><defs /><text text-anchor=\"middle\" x=\"50%\" y=\"16px\">Lastarria</text></svg><svg width=\"100%\" x=\"0%\" y=\"48px\"><defs /><svg width=\"100%\" x=\"0\" y=\"0px\"><defs /><text text-anchor=\"middle\" x=\"50%\" y=\"16px\">NNP</text></svg></svg><line stroke=\"black\" x1=\"50%\" x2=\"50%\" y1=\"19.2px\" y2=\"48px\" /></svg><line stroke=\"black\" x1=\"50%\" x2=\"80.3571%\" y1=\"19.2px\" y2=\"48px\" /></svg><line stroke=\"black\" x1=\"50%\" x2=\"89.8551%\" y1=\"19.2px\" y2=\"48px\" /><svg width=\"1.44928%\" x=\"94.9275%\" y=\"48px\"><defs /><svg width=\"100%\" x=\"0\" y=\"0px\"><defs /><text text-anchor=\"middle\" x=\"50%\" y=\"16px\">in</text></svg><svg width=\"100%\" x=\"0%\" y=\"48px\"><defs /><svg width=\"100%\" x=\"0\" y=\"0px\"><defs /><text text-anchor=\"middle\" x=\"50%\" y=\"16px\">IN</text></svg></svg><line stroke=\"black\" x1=\"50%\" x2=\"50%\" y1=\"19.2px\" y2=\"48px\" /></svg><line stroke=\"black\" x1=\"50%\" x2=\"95.6522%\" y1=\"19.2px\" y2=\"48px\" /><svg width=\"2.53623%\" x=\"96.3768%\" y=\"48px\"><defs /><svg width=\"100%\" x=\"0\" y=\"0px\"><defs /><text text-anchor=\"middle\" x=\"50%\" y=\"16px\">GPE</text></svg><svg width=\"100%\" x=\"0%\" y=\"48px\"><defs /><svg width=\"100%\" x=\"0\" y=\"0px\"><defs /><text text-anchor=\"middle\" x=\"50%\" y=\"16px\">Chile</text></svg><svg width=\"100%\" x=\"0%\" y=\"48px\"><defs /><svg width=\"100%\" x=\"0\" y=\"0px\"><defs /><text text-anchor=\"middle\" x=\"50%\" y=\"16px\">NNP</text></svg></svg><line stroke=\"black\" x1=\"50%\" x2=\"50%\" y1=\"19.2px\" y2=\"48px\" /></svg><line stroke=\"black\" x1=\"50%\" x2=\"50%\" y1=\"19.2px\" y2=\"48px\" /></svg><line stroke=\"black\" x1=\"50%\" x2=\"97.6449%\" y1=\"19.2px\" y2=\"48px\" /><svg width=\"1.08696%\" x=\"98.913%\" y=\"48px\"><defs /><svg width=\"100%\" x=\"0\" y=\"0px\"><defs /><text text-anchor=\"middle\" x=\"50%\" y=\"16px\">.</text></svg><svg width=\"100%\" x=\"0%\" y=\"48px\"><defs /><svg width=\"100%\" x=\"0\" y=\"0px\"><defs /><text text-anchor=\"middle\" x=\"50%\" y=\"16px\">.</text></svg></svg><line stroke=\"black\" x1=\"50%\" x2=\"50%\" y1=\"19.2px\" y2=\"48px\" /></svg><line stroke=\"black\" x1=\"50%\" x2=\"99.4565%\" y1=\"19.2px\" y2=\"48px\" /></svg>"
      ],
      "text/plain": [
       "Tree('S', [('This', 'DT'), ('is', 'VBZ'), ('not', 'RB'), ('to', 'TO'), ('deny', 'VB'), ('that', 'IN'), ('some', 'DT'), ('liberal', 'JJ'), ('Latin', 'JJ'), Tree('GPE', [('American', 'JJ')]), ('intellectuals', 'NNS'), ('did', 'VBD'), ('produce', 'VB'), ('theoretical', 'JJ'), ('works', 'NNS'), ('that', 'WDT'), ('are', 'VBP'), ('worth', 'JJ'), ('examining', 'VBG'), ('in', 'IN'), ('their', 'PRP$'), ('own', 'JJ'), ('right', 'NN'), (',', ','), ('such', 'JJ'), ('as', 'IN'), ('those', 'DT'), ('by', 'IN'), Tree('PERSON', [('Juan', 'NNP'), ('Bautista', 'NNP'), ('Alberdi', 'NNP')]), ('in', 'IN'), Tree('GPE', [('Argentina', 'NNP')]), ('and', 'CC'), Tree('PERSON', [('José', 'NNP'), ('Victorino', 'NNP'), ('Lastarria', 'NNP')]), ('in', 'IN'), Tree('GPE', [('Chile', 'NNP')]), ('.', '.')])"
      ]
     },
     "execution_count": 12,
     "metadata": {},
     "output_type": "execute_result"
    }
   ],
   "source": [
    "t[15]"
   ]
  },
  {
   "cell_type": "code",
   "execution_count": 13,
   "id": "9e6e0aa2",
   "metadata": {
    "scrolled": true
   },
   "outputs": [
    {
     "name": "stdout",
     "output_type": "stream",
     "text": [
      "(GPE Latin/NNP America/NNP)\n",
      "(GPE Hispanic/NNP America/NNP)\n",
      "(GPE Liberal/JJ)\n",
      "(GPE Colombia/NNP)\n",
      "(PERSON Latin/JJ American/JJ)\n",
      "(ORGANIZATION American/JJ)\n",
      "(GPE American/JJ)\n",
      "(GPE Portuguese/NNP)\n",
      "(GPE Brazil/NNP)\n",
      "(GPE Spain/NNP)\n",
      "(GPE Portugal/NNP)\n",
      "(GPE American/JJ)\n",
      "(GPE Brazil/NNP)\n",
      "(GPE Spanish/JJ)\n",
      "(GPE Liberal/JJ)\n",
      "(GPE Liberal/JJ)\n",
      "(GPE American/JJ)\n",
      "(PERSON Juan/NNP Bautista/NNP Alberdi/NNP)\n",
      "(GPE Argentina/NNP)\n",
      "(PERSON José/NNP Victorino/NNP Lastarria/NNP)\n",
      "(GPE Chile/NNP)\n",
      "(GPE American/JJ)\n",
      "(GPE Chief/NNP)\n",
      "(GPE Central/JJ)\n",
      "(ORGANIZATION Catholic/NNP)\n",
      "(ORGANIZATION Catholic/NNP Church/NNP)\n",
      "(GPE American/JJ)\n",
      "(PERSON Juan/NNP Bautista/NNP Alberdi/NNP)\n",
      "(GPE Argentina/NNP)\n",
      "(PERSON José/NNP María/NNP Luis/NNP Mora/NNP)\n",
      "(GPE Mexico/NNP)\n",
      "(PERSON José/NNP Victorino/NNP Lastarria/NNP)\n",
      "(GPE Chile/NNP)\n",
      "(PERSON Alberdi/NNP)\n",
      "(GSP Lastarria/NNP)\n",
      "(GPE Second/JJ)\n",
      "(GPE American/JJ)\n",
      "(GPE American/JJ)\n",
      "(ORGANIZATION Catholic/NNP Church/NNP)\n",
      "(PERSON Latin/JJ)\n",
      "(GPE American/JJ)\n",
      "(PERSON Latin/JJ)\n",
      "(GPE American/JJ)\n",
      "(ORGANIZATION Bolívar/NNP)\n",
      "(GPE Latin/JJ)\n",
      "(GPE American/JJ)\n",
      "(GPE Latin/JJ)\n",
      "(GPE American/JJ)\n",
      "(GPE European/JJ)\n",
      "(GPE North/JJ)\n",
      "(GPE American/JJ)\n",
      "(GPE American/JJ)\n",
      "(GPE Novel/NNP)\n",
      "(PERSON Jáksic/NNP)\n",
      "(PERSON Posada/NNP Carbó/NNP)\n",
      "(ORGANIZATION Gargarella/NNP)\n",
      "(ORGANIZATION Comtean/NNP)\n",
      "(PERSON Fernández/NNP Sebastián/NNP)\n",
      "(GPE American/JJ)\n",
      "(GPE Latin/JJ)\n",
      "(GPE American/JJ)\n",
      "(GPE Latin/JJ)\n",
      "(GPE American/JJ)\n",
      "(PERSON Alberdi/NNP)\n",
      "(PERSON Mora/NNP)\n",
      "(GSP Lastarria/NNP)\n",
      "(GPE Spanish/JJ)\n",
      "(GPE American/JJ)\n",
      "(GPE Latin/NNP America/NNP)\n",
      "(GPE Liberal/NNP)\n",
      "(GPE Latin/JJ)\n",
      "(GPE American/JJ)\n",
      "(GPE Spanish/JJ)\n",
      "(GPE Spanish/JJ)\n",
      "(ORGANIZATION Cádiz/NNP Courts/NNP)\n",
      "(ORGANIZATION Napoleonic/NNP)\n",
      "(GPE Iberian/JJ)\n",
      "(GPE Cádiz/NNP)\n",
      "(GPE French/JJ)\n",
      "(GPE Latin/NNP America/NNP)\n",
      "(GPE American/JJ)\n",
      "(GPE Spanish/VB)\n",
      "(GPE French/JJ)\n",
      "(GPE Spanish/JJ)\n",
      "(GPE Portuguese/JJ)\n",
      "(ORGANIZATION Napoleonic/NNP)\n",
      "(PERSON Latin/NNP America/NNP)\n",
      "(GPE Spanish/NN)\n",
      "(GPE Portuguese/JJ)\n",
      "(GPE Cádiz/NNP)\n",
      "(GPE Portuguese/JJ Americas/NNP)\n",
      "(GPE Spanish/NNPS)\n",
      "(GPE Portuguese/NNP)\n",
      "(GPE French/JJ)\n",
      "(GPE Spanish/JJ)\n",
      "(GPE Portuguese/NNPS)\n",
      "(GPE Brazil/NNP)\n",
      "(GPE Hispanic/NNP America/NNP)\n",
      "(GPE Brazil/NNP)\n",
      "(ORGANIZATION Hispanic/NNP)\n",
      "(GPE French/JJ)\n",
      "(GPE Spanish/JJ)\n",
      "(GPE American/JJ)\n",
      "(GPE America/NNP)\n",
      "(GPE Cuba/NNP)\n",
      "(PERSON Puerto/NNP Rico/NNP)\n",
      "(ORGANIZATION Napoleonic/NNP)\n",
      "(GPE Brazil/NNP)\n",
      "(GPE Portuguese/NNP)\n",
      "(GPE Hispanic/NNP America/NNP)\n",
      "(GPE Brazilian/JJ)\n",
      "(GPE Hispanic/JJ)\n",
      "(GPE American/JJ)\n",
      "(GPE Brazilian/JJ)\n",
      "(GPE Mexico/NNP)\n",
      "(GPE Brazil/NNP)\n",
      "(GPE French/JJ)\n",
      "(PERSON Benjamin/NNP Constant/NNP)\n",
      "(GPE Latin/JJ)\n",
      "(GPE American/JJ)\n",
      "(GPE French/JJ)\n",
      "(GPE American/JJ)\n",
      "(GPE British/JJ)\n",
      "(LOCATION North/JJ)\n",
      "(GPE American/JJ)\n",
      "(GPE Montesquieu/NNP)\n",
      "(PERSON Jeremy/NNP Bentham/NNP)\n",
      "(ORGANIZATION Constant/NNP)\n",
      "(GPE European/JJ)\n",
      "(GPE Montesquieu/NNP)\n",
      "(PERSON Bentham/NNP)\n",
      "(ORGANIZATION Catholic/NNP)\n",
      "(ORGANIZATION Catholic/NNP Church/NNP)\n",
      "(GPE Pope/NNP)\n",
      "(PERSON Pius/NNP IX/NNP)\n",
      "(ORGANIZATION Syllabus/NNP)\n",
      "(PERSON Errors/NNP)\n",
      "(GPE British/JJ)\n",
      "(GPE Bentham/NNP)\n",
      "(GPE French/JJ)\n",
      "(GPE German/JJ)\n",
      "(PERSON Friedrich/NNP Karl/NNP)\n",
      "(GPE French/JJ)\n",
      "(PERSON Eugène/NNP Lerminier/NNP)\n",
      "(PERSON Auguste/NNP Comte/NNP)\n",
      "(PERSON Herbert/NNP Spencer/NNP)\n",
      "(PERSON Liberalism/NN)\n",
      "(GPE Spain/NNP)\n",
      "(GPE Brazil/NNP)\n",
      "(GPE American/JJ)\n",
      "(PERSON Latin/JJ)\n",
      "(GPE American/JJ)\n",
      "(PERSON Latin/JJ)\n",
      "(GPE American/JJ)\n",
      "(GPE American/JJ)\n",
      "(PERSON Marxist/NNP)\n",
      "(GPE Latin/NNP America/NNP)\n",
      "(GPE English/NNP)\n",
      "(PERSON John/NNP Rawls/NNP)\n",
      "(PERSON Ronald/NNP Dworkin/NNP)\n",
      "(PERSON Joseph/NNP Raz/NNP)\n",
      "(PERSON Latin/JJ)\n",
      "(GPE American/JJ)\n",
      "(GPE American/JJ)\n",
      "(GPE American/JJ)\n",
      "(GPE French/JJ)\n",
      "(GPE Spanish/JJ)\n",
      "(GPE Spanish/JJ)\n",
      "(ORGANIZATION Courts/NNS)\n",
      "(GPE Spanish/JJ)\n",
      "(GPE Cádiz/NNP)\n",
      "(GPE French/JJ)\n",
      "(PERSON Varela/NNP Suanzes/NNP)\n",
      "(GPE Cádiz/NNP)\n",
      "(GPE Enlightenment/NNP)\n",
      "(GPE Montesquieu/NNP)\n",
      "(GPE Rousseau/NNP)\n",
      "(PERSON Varela/NNP Suanzes1987/NNP)\n",
      "(GPE French/JJ)\n",
      "(GPE Cádiz/NNP)\n",
      "(PERSON Locke/NNP)\n",
      "(GPE Montesquieu/NNP)\n",
      "(PERSON Varela/NNP Suanzes1983/NNP)\n",
      "(GPE Cádiz/NNP)\n",
      "(GPE French/JJ)\n",
      "(GPE Catholicism/NNP)\n",
      "(GPE Cádiz/NNP)\n",
      "(GPE Spanish/JJ)\n",
      "(PERSON Varela/NNP Suanzes1987/NNP)\n",
      "(GPE Cádiz/NNP)\n",
      "(ORGANIZATION Catholic/NNP)\n",
      "(ORGANIZATION Catholic/NNP Church/NNP)\n",
      "(GPE Spanish/JJ)\n",
      "(ORGANIZATION Cádiz/NNP Courts/NNP)\n",
      "(PERSON Varela/NNP Suanzes1987/NNP)\n",
      "(GPE Spanish/JJ)\n",
      "(GPE Spanish/JJ)\n",
      "(ORGANIZATION America/NNP)\n",
      "(GPE Spanish/JJ)\n",
      "(GPE Religious/JJ)\n",
      "(GPE American/JJ)\n",
      "(GPE American/JJ)\n",
      "(GPE Spanish/JJ)\n",
      "(GPE American/JJ)\n",
      "(GPE America/NNP)\n",
      "(GPE Brazilian/JJ)\n",
      "(GPE Cádiz/NNP)\n",
      "(GPE American/JJ)\n",
      "(ORGANIZATION Catholic/NNP)\n",
      "(ORGANIZATION Catholic/NNP Church/NNP)\n",
      "(GPE Spanish/JJ)\n",
      "(GPE Spanish/JJ)\n",
      "(GPE American/JJ)\n",
      "(GPE American/JJ)\n",
      "(GPE Spanish/JJ)\n",
      "(GPE Independence/NN)\n",
      "(GPE Spain/NNP)\n",
      "(GPE Spanish/JJ)\n",
      "(GPE American/JJ)\n",
      "(GPE Liberal/JJ)\n",
      "(GPE American/JJ)\n",
      "(GPE American/JJ)\n",
      "(GPE American/JJ)\n",
      "(GPE American/JJ)\n",
      "(ORGANIZATION Hispanic/JJ Americans/NNPS)\n",
      "(GPE Mexico/NNP)\n",
      "(GPE American/JJ)\n",
      "(GPE American/JJ)\n",
      "(GPE Brazilian/JJ)\n",
      "(GPE Brazilian/JJ)\n",
      "(GPE Brazilian/JJ)\n",
      "(GPE Brazilian/JJ)\n",
      "(GPE North/JJ)\n",
      "(GPE American/JJ)\n",
      "(GPE Brazilian/JJ)\n",
      "(ORGANIZATION Viotti/NNP)\n",
      "(GPE French/JJ)\n",
      "(GPE Cadiz/NNP)\n",
      "(GPE Cadiz/NNP)\n",
      "(ORGANIZATION Catholic/NNP)\n",
      "(PERSON Lucas/NNP Alamán/NNP)\n",
      "(GPE Mexico/NNP)\n",
      "(PERSON Simón/NNP Bolívar/NNP)\n",
      "(GPE Venezuela/NNP)\n",
      "(ORGANIZATION Chilean/NNP)\n",
      "(GPE Liberal/JJ)\n",
      "(GPE Rousseau/NNP)\n",
      "(GPE Montesquieu/NNP)\n",
      "(ORGANIZATION Constant/NNP)\n",
      "(GPE Bentham/NNP)\n",
      "(ORGANIZATION Safford/NNP)\n",
      "(GPE Bentham/NNP)\n",
      "(GPE Rousseau/NNP)\n",
      "(GPE Mexico/NNP)\n",
      "(PERSON Rousseau/NNP)\n",
      "(PERSON Bolívar/NNP)\n",
      "(GPE Bolivian/JJ)\n",
      "(ORGANIZATION Constant/NNP)\n",
      "(PERSON José/NNP María/NNP Luis/NNP Mora/NNP)\n",
      "(GPE Mexico/NNP)\n",
      "(GPE Mexican/NNP)\n",
      "(GPE Brazilian/JJ)\n",
      "(GPE American/JJ)\n",
      "(ORGANIZATION Catholic/NNP)\n",
      "(PERSON Fernández/NNP Sebastián/NNP)\n",
      "(ORGANIZATION Hispanic/JJ Americans/NNPS)\n",
      "(GPE Spanish/JJ)\n",
      "(GPE Spanish/JJ)\n",
      "(GPE American/JJ)\n",
      "(GPE Cádiz/NNP)\n",
      "(GPE Spanish/JJ)\n",
      "(GPE American/JJ)\n",
      "(GPE Spanish/JJ)\n",
      "(GPE Latin/NNP America/NNP)\n",
      "(GPE Cadiz/NNP)\n",
      "(GPE Colombian/JJ)\n",
      "(PERSON Martínez/NNP Garnica/NNP)\n",
      "(GPE American/JJ)\n",
      "(GPE Spanish/JJ)\n",
      "(GPE Spanish/JJ)\n",
      "(GPE American/JJ)\n",
      "(PERSON Bolívar/NNP)\n",
      "(ORGANIZATION Hispanic/NNP America/NNP)\n",
      "(ORGANIZATION Jamaica/NNP)\n",
      "(ORGANIZATION Bolívar/NNP)\n",
      "(GPE Spanish/JJ)\n",
      "(GPE Catholicism/NNP)\n",
      "(GPE European/JJ)\n",
      "(GPE American/JJ)\n",
      "(GPE French/JJ)\n",
      "(GPE Colombian/JJ)\n",
      "(GPE French/JJ)\n",
      "(ORGANIZATION Bushnell/NNP)\n",
      "(GPE Colombia/NNP)\n",
      "(ORGANIZATION Americas/NNPS)\n",
      "(ORGANIZATION Bushnell/NNP)\n",
      "(GPE European/JJ)\n",
      "(GPE American/JJ)\n",
      "(GPE American/JJ)\n",
      "(PERSON Bolívar/NNP)\n",
      "(ORGANIZATION American/JJ)\n",
      "(GPE Venezuela/NNP)\n",
      "(GPE New/NNP Granada/NNP)\n",
      "(GPE Colombia/NNP)\n",
      "(GPE Chile/NNP)\n",
      "(ORGANIZATION Catholic/NNP)\n",
      "(PERSON Juan/NNP)\n",
      "(PERSON Bautista/NNP Alberdi/NNP)\n",
      "(GPE Argentina/NNP)\n",
      "(GPE Mexico/NNP)\n",
      "(PERSON José/NNP María/NNP Luis/NNP Mora/NNP)\n",
      "(PERSON Juan/NNP)\n",
      "(PERSON Bautista/NNP Alberdi/NNP)\n",
      "(GPE Argentinian/JJ)\n",
      "(GPE Bases/NNP)\n",
      "(GPE Argentine/NNP)\n",
      "(PERSON Bases/NNP)\n",
      "(ORGANIZATION República/NNP Argentina/NNP)\n",
      "(LOCATION South/JJ)\n",
      "(GPE American/JJ)\n",
      "(PERSON Alberdi/NNP)\n",
      "(GPE European/JJ)\n",
      "(GPE California/NNP)\n",
      "(PERSON Alberdi/NNP)\n",
      "(GPE South/NNP America/NNP)\n",
      "(GPE Northern/NNP European/JJ)\n",
      "(GPE American/JJ)\n",
      "(GPE Europe/NNP)\n",
      "(GPE Hence/NNP)\n",
      "(PERSON Alberdi/NNP)\n",
      "(GPE German/JJ)\n",
      "(PERSON Friedrich/NNP Karl/NNP)\n",
      "(GPE French/JJ)\n",
      "(PERSON Eugène/NNP Lerminier/NNP)\n",
      "(ORGANIZATION Alberdi/NNP)\n",
      "(LOCATION South/NNP)\n",
      "(GPE American/JJ)\n",
      "(ORGANIZATION Hispanic/NNP America/NNP)\n",
      "(PERSON Bolívar/NNP)\n",
      "(GPE Spanish/JJ)\n",
      "(ORGANIZATION America/NNP)\n",
      "(ORGANIZATION Alberdi/NNP)\n",
      "(GPE South/NNP America/NNP)\n",
      "(PERSON Alberdi/NNP)\n",
      "(LOCATION South/JJ)\n",
      "(ORGANIZATION American/JJ Republic/NNP)\n",
      "(GPE European/JJ)\n",
      "(PERSON Alberdi/NNP)\n",
      "(PERSON Domingo/NNP Sarmiento/NNP)\n",
      "(GPE Argentina/NNP)\n",
      "(ORGANIZATION Sarmiento/NNP)\n",
      "(PERSON Sarmiento/NNP)\n",
      "(PERSON Alberdi/NNP)\n",
      "(PERSON Adam/NNP Smith/NNP)\n",
      "(GPE European/JJ)\n",
      "(GPE America/NNP)\n",
      "(PERSON Alberdi/NNP)\n",
      "(GPE European/JJ)\n",
      "(PERSON Catholicism/NNP)\n",
      "(GPE American/JJ)\n",
      "(PERSON Church/NNP)\n",
      "(PERSON Alberdi/NNP)\n",
      "(GPE Argentinian/JJ)\n",
      "(ORGANIZATION Catholic/NNP Church/NNP)\n",
      "(GPE Mexico/NNP)\n",
      "(GPE Colombia/NNP)\n",
      "(PERSON Latin/JJ)\n",
      "(GPE American/JJ)\n",
      "(ORGANIZATION Hispanic/NNP America/NNP)\n",
      "(GPE Argentina/NNP)\n",
      "(ORGANIZATION Halperín/NNP)\n",
      "(ORGANIZATION Catholic/NNP Church/NNP)\n",
      "(GPE Liberals/NNS)\n",
      "(ORGANIZATION Church/NNP)\n",
      "(GPE Hispanic/NNP America/NNP)\n",
      "(GPE Brazil/NNP)\n",
      "(GPE Brazilian/JJ)\n",
      "(ORGANIZATION Viotti/NNP)\n",
      "(GPE Radical/JJ)\n",
      "(GPE Brazilian/JJ)\n",
      "(GPE Hispanic/NNP America/NNP)\n",
      "(GPE Chile/NNP)\n",
      "(GPE Chilean/NNP)\n",
      "(GSP Chilean/JJ)\n",
      "(ORGANIZATION Catholic/NNP Church/NNP)\n",
      "(GPE Colombia/NNP)\n",
      "(ORGANIZATION Catholic/NNP Church/NNP)\n",
      "(ORGANIZATION Catholicism/NNP)\n",
      "(ORGANIZATION Catholic/NNP Church/NNP)\n",
      "(GPE Colombian/JJ)\n",
      "(GPE Americas/NNPS)\n",
      "(GPE Chilean/JJ)\n",
      "(GPE Colombian/JJ)\n",
      "(GPE Colombian/JJ)\n",
      "(ORGANIZATION Catholic/NNP Church/NNP)\n",
      "(GPE Hispanic/NNP America/NNP)\n",
      "(ORGANIZATION Catholic/NNP)\n",
      "(PERSON Lucas/NNP Alamán/NNP)\n",
      "(GPE Mexico/NNP)\n",
      "(ORGANIZATION Catholic/NNP)\n",
      "(GPE Alamán/NNP)\n",
      "(PERSON Miguel/NNP Antonio/NNP Caro/NNP)\n",
      "(GPE Colombia/NNP)\n",
      "(PERSON Gabriel/NNP García/NNP Moreno/NNP)\n",
      "(GSP Ecuador/NNP)\n",
      "(GPE Colombia/NNP)\n",
      "(ORGANIZATION Del/NNP Par/NNP)\n",
      "(GPE Hispanic/NNP America/NNP)\n",
      "(ORGANIZATION Bushnell/NNP)\n",
      "(GPE Hispanic/NNP America/NNP)\n",
      "(GPE Argentina/NNP)\n",
      "(ORGANIZATION Catholic/NNP Church/NNP)\n",
      "(GPE Mexico/NNP)\n",
      "(GPE Colombia/NNP)\n",
      "(GPE France/NNP)\n",
      "(ORGANIZATION Americas/NNPS)\n",
      "(ORGANIZATION State/NNP)\n",
      "(ORGANIZATION Catholic/NNP Church/NNP)\n",
      "(PERSON Miguel/NNP Antonio/NNP Caro/NNP)\n",
      "(GPE New/NNP Granada/NNP)\n",
      "(PERSON Diego/NNP Portales/NNP)\n",
      "(GPE Chilean/NNP)\n",
      "(PERSON Lucas/NNP Alamán/NNP)\n",
      "(GPE Catholicism/NNP)\n",
      "(ORGANIZATION Safford/NNP)\n",
      "(GPE Mexico/NNP)\n",
      "(PERSON Reform/NNP Laws/NNP)\n",
      "(GPE Mexican/JJ)\n",
      "(PERSON José/NNP María/NNP Luis/NNP Mora/NNP)\n",
      "(GPE Mexican/JJ)\n",
      "(GPE Cádiz/NNP)\n",
      "(GPE Montesquieu/NNP)\n",
      "(ORGANIZATION Constant/NNP)\n",
      "(PERSON Mora/NNP)\n",
      "(PERSON Montesquieu/NNP)\n",
      "(PERSON Mora/NNP)\n",
      "(GPE Cadiz/NNP)\n",
      "(PERSON Mora/NNP)\n",
      "(ORGANIZATION Constant/NNP)\n",
      "(PERSON Rousseau/NNP)\n",
      "(ORGANIZATION Constant/NNP)\n",
      "(ORGANIZATION Constant/NNP)\n",
      "(PERSON Mora/NNP)\n",
      "(PERSON Montesquieu/NNP)\n",
      "(GPE Mora/NNP)\n",
      "(GPE French/JJ)\n",
      "(PERSON Mora/NNP)\n",
      "(PERSON Mora/NNP)\n",
      "(GPE French/JJ)\n",
      "(GPE Second/JJ)\n",
      "(PERSON Mora/NNP)\n",
      "(ORGANIZATION Constant/NNP)\n",
      "(GPE Latin/NNP America/NNP)\n",
      "(GPE Brazilian/JJ)\n",
      "(PERSON Mora/NNP)\n",
      "(GPE French/JJ)\n",
      "(GPE Cádiz/NNP)\n",
      "(PERSON Mora/NNP)\n",
      "(PERSON Mora/NNP)\n",
      "(PERSON Mora/NNP)\n",
      "(PERSON Mora/NNP)\n",
      "(GPE Mexico/NNP)\n",
      "(PERSON Mora/NNP)\n",
      "(GPE Argentinian/JJ)\n",
      "(PERSON Alberdi/NNP)\n",
      "(ORGANIZATION Catholic/NNP Church/NNP)\n",
      "(PERSON Mora/NNP)\n",
      "(GPE Mora/NNP)\n",
      "(PERSON Alberdi/NNP)\n",
      "(ORGANIZATION Catholic/NNP Church/NNP)\n",
      "(GPE Such/JJ)\n",
      "(GPE Church/NNP)\n",
      "(ORGANIZATION Catholic/NNP Church/NNP)\n",
      "(GPE Central/NNP)\n",
      "(PERSON Mora/NNP)\n",
      "(GPE Mexico/NNP)\n",
      "(GPE Colombia/NNP)\n",
      "(PERSON Church/NNP)\n",
      "(GPE Mexico/NNP)\n",
      "(GPE Colombia/NNP)\n",
      "(PERSON Regeneración/NNP)\n",
      "(GPE Venezuela/NNP)\n",
      "(ORGANIZATION Central/JJ)\n",
      "(GPE American/JJ)\n",
      "(GPE Chile/NNP)\n",
      "(GPE Argentina/NNP)\n",
      "(GPE Uruguay/NNP)\n",
      "(GPE Ecuador/NNP)\n",
      "(GPE Bolivia/NNP)\n",
      "(GPE Perú/NNP)\n",
      "(GPE Brazil/NNP)\n",
      "(ORGANIZATION Church/NNP)\n",
      "(GPE Church/NNP)\n",
      "(GPE Colombia/NNP)\n",
      "(ORGANIZATION Catholic/NNP)\n",
      "(PERSON Latin/NNP America/NNP)\n",
      "(PERSON Auguste/NNP Comte/NNP)\n",
      "(PERSON Positive/NNP Philosophy/NNP)\n",
      "(ORGANIZATION Comte/NNP)\n",
      "(GPE Latin/NNP America/NNP)\n",
      "(PERSON Herbert/NNP Spencer/NNP)\n",
      "(PERSON Victorino/NNP Lastarria/NNP)\n",
      "(GPE Chile/NNP)\n",
      "(PERSON Justo/NNP Sierra/NNP)\n",
      "(GPE Mexico/NNP)\n",
      "(GPE Comtean/JJ)\n",
      "(ORGANIZATION Comte/NNP)\n",
      "(GPE American/JJ)\n",
      "(ORGANIZATION Comte/NNP)\n",
      "(GPE Brazil/NNP)\n",
      "(PERSON José/NNP)\n",
      "(PERSON Victorino/NNP Lastarria/NNP)\n",
      "(GPE Chilean/JJ)\n",
      "(PERSON John/NNP Stuart/NNP Mill/NNP)\n",
      "(ORGANIZATION Auguste/NNP Comte/NNP)\n",
      "(PERSON Positivism/NNP)\n",
      "(PERSON Émile/NNP Littré/NNP)\n",
      "(ORGANIZATION Comte/NNP)\n",
      "(PERSON Federico/NNP Errazuriz/NNP)\n",
      "(PERSON Lastarria/NNP)\n",
      "(PERSON Reform/NNP)\n",
      "(GPE Chilean/NNP)\n",
      "(GSP Chilean/JJ)\n",
      "(ORGANIZATION Jaksic/NNP)\n",
      "(GSP Lastarria/NNP)\n",
      "(PERSON Lessons/NNP)\n",
      "(ORGANIZATION Positivist/NNP Politics/NNP)\n",
      "(PERSON Lecciones/NNP de/NNP)\n",
      "(ORGANIZATION Comte/NNP)\n",
      "(PERSON Lastarria/NNP)\n",
      "(PERSON Lastarria/NNP)\n",
      "(ORGANIZATION Comte/NNP)\n",
      "(ORGANIZATION Comte/NNP)\n",
      "(PERSON Lastarria/NNP)\n",
      "(GPE Lastarria/NNP)\n",
      "(ORGANIZATION Lecciones/NNP)\n",
      "(PERSON Lesson/NNP)\n",
      "(GPE Social/NNP)\n",
      "(GPE Lastarria/NNP)\n",
      "(ORGANIZATION Comte/NNP)\n",
      "(GPE French/JJ)\n",
      "(GSP Lastarria/NNP)\n",
      "(LOCATION North/JJ)\n",
      "(GPE American/JJ)\n",
      "(GPE Lastarria/NNP)\n",
      "(ORGANIZATION Lecciones/NNP)\n",
      "(PERSON Lesson/NNP)\n",
      "(GPE North/NNP America/NNP)\n",
      "(GPE American/JJ)\n",
      "(PERSON Lastarria/NNP)\n",
      "(ORGANIZATION State/NNP)\n",
      "(GSP Lastarria/NNP)\n",
      "(GPE American/JJ)\n",
      "(GPE Mexico/NNP)\n",
      "(GPE Brazil/NNP)\n",
      "(GPE Brazilian/JJ)\n",
      "(PERSON Latin/NNP America/NNP)\n",
      "(GPE Latin/JJ)\n",
      "(GPE American/JJ)\n",
      "(GPE Venezuela/NNP)\n",
      "(GPE Mexico/NNP)\n",
      "(GPE Mexico/NNP)\n",
      "(ORGANIZATION Rabasa/NNP)\n",
      "(GPE Venezuela/NNP)\n",
      "(PERSON Laureano/NNP Vallenilla/NNP)\n",
      "(GPE American/JJ)\n",
      "(ORGANIZATION Vallenilla/NNP)\n",
      "(GPE Chile/NNP)\n",
      "(GPE Chilean/JJ)\n",
      "(ORGANIZATION Correa/NNP)\n",
      "(GPE Argentina/NNP)\n",
      "(GPE Brazilian/JJ)\n",
      "(PERSON Marxist/NNP)\n",
      "(PERSON Latin/JJ)\n",
      "(GPE American/JJ)\n",
      "(GPE Mexican/JJ)\n",
      "(PERSON Reyes/NNP Heroles/NNP)\n",
      "(ORGANIZATION Jaksic/NNP)\n",
      "(PERSON Posada/NNP Carbó/NNP)\n",
      "(ORGANIZATION Detailed/JJ)\n",
      "(GPE Palti/NNP)\n",
      "(PERSON Linares/VBZ Londoño/NNP)\n",
      "(PERSON Leopoldo/NNP Zea/NNP)\n",
      "(GPE Europe/NNP)\n",
      "(PERSON Anglo/NNP North/NNP America/NNP)\n",
      "(GPE American/JJ)\n",
      "(PERSON Montalvo/NNP Ortega/NNP)\n",
      "(PERSON Latin/JJ)\n",
      "(GPE American/JJ)\n",
      "(GPE American/JJ)\n",
      "(PERSON Linares/NNP Londoño/NNP)\n",
      "(GPE American/JJ)\n",
      "(PERSON Latin/JJ)\n",
      "(GPE American/JJ)\n",
      "(GPE European/JJ)\n",
      "(PERSON Anglo/NNP North/NNP American/JJ)\n",
      "(GPE American/JJ)\n",
      "(ORGANIZATION Gargarella/NNP)\n",
      "(PERSON Fernández/NNP Sebastián/NNP)\n",
      "(ORGANIZATION Gargarella/NNP)\n",
      "(PERSON Latin/NNP America/NNP)\n",
      "(PERSON Marxist/NNP)\n",
      "(PERSON John/NNP Rawls/NNP)\n",
      "(PERSON Ronald/NNP Dworkin/NNP)\n",
      "(PERSON Joseph/NNP Raz/NNP)\n",
      "(GPE American/JJ)\n",
      "(GPE Little/JJ)\n",
      "(GPE American/JJ)\n",
      "(GPE Latin/JJ)\n",
      "(ORGANIZATION American/JJ Philosophy/NNP)\n"
     ]
    }
   ],
   "source": [
    "for sent in t:\n",
    "    for chunk in sent:\n",
    "        if hasattr(chunk, \"label\"):\n",
    "            print(chunk)"
   ]
  },
  {
   "cell_type": "markdown",
   "id": "d2b1cf22",
   "metadata": {},
   "source": [
    "### Relation Extraction\n",
    "\n",
    "Once named entities have been identified in a text, we then want to extract the relations\n",
    "that exist between them. We will typically be looking for relations\n",
    "between specified types of named entity. One way of approaching this task is to initially\n",
    "look for all triples of the form `(X, α, Y)`, where `X` and `Y` are named entities of the required\n",
    "types, and `α` is the string of words that intervenes between `X` and `Y`."
   ]
  },
  {
   "cell_type": "code",
   "execution_count": 14,
   "id": "599b6407",
   "metadata": {},
   "outputs": [],
   "source": [
    "from nltk.tree import ParentedTree\n",
    "newtree = ParentedTree.convert(t[0])"
   ]
  },
  {
   "cell_type": "code",
   "execution_count": 15,
   "id": "8a47ca4e",
   "metadata": {},
   "outputs": [
    {
     "name": "stdout",
     "output_type": "stream",
     "text": [
      "{'Juan Bautista Alberdi': 'Argentina'}\n",
      "{'José Victorino Lastarria': 'Chile'}\n",
      "{'Juan Bautista Alberdi': 'Argentina'}\n",
      "{'José María Luis Mora': 'Mexico'}\n",
      "{'José Victorino Lastarria': 'Chile'}\n",
      "{'Lucas Alamán': 'Mexico'}\n",
      "{'Simón Bolívar': 'Venezuela'}\n",
      "{'José María Luis Mora': 'Mexico'}\n",
      "{'Lucas Alamán': 'Mexico'}\n",
      "{'Miguel Antonio Caro': 'Colombia'}\n",
      "{'Gabriel García Moreno': 'Ecuador'}\n",
      "{'Miguel Antonio Caro': 'New Granada'}\n",
      "{'Victorino Lastarria': 'Chile'}\n",
      "{'Justo Sierra': 'Mexico'}\n",
      "{'Lessons': 'Positivist Politics'}\n"
     ]
    }
   ],
   "source": [
    "for sent in t:\n",
    "    for i, chunk in enumerate(sent):\n",
    "        try: \n",
    "            if (hasattr(sent[i], \"label\") and sent[i].label()==\"PERSON\" \n",
    "                and sent[i+1][1]=='IN' and hasattr(sent[i], \"label\") and sent[i].label()==\"PERSON\"): \n",
    "                relation = {\n",
    "                    \" \".join([i[0] for i in sent[i].leaves()]): \n",
    "                    \" \".join([i[0] for i in sent[i+2].leaves()])\n",
    "                }\n",
    "                print(relation)\n",
    "        except: \n",
    "            pass "
   ]
  },
  {
   "cell_type": "markdown",
   "id": "3c386be2",
   "metadata": {},
   "source": [
    "### Analyzing Sentence Structure\n",
    "\n",
    "Now, we will adopt the formal framework of “generative grammar,” in which\n",
    "a “language” is considered to be nothing more than an enormous collection of all\n",
    "grammatical sentences, and a grammar is a formal notation that can be used for “generating”\n",
    "the members of this set. Grammars use recursive productions of the form\n",
    "“S” → “S and S”. \n",
    "\n",
    "> While hunting in Africa, I shot an elephant in my pajamas. How an elephant\n",
    "got into my pajamas I’ll never know."
   ]
  },
  {
   "cell_type": "code",
   "execution_count": 16,
   "id": "58e4c0ea",
   "metadata": {},
   "outputs": [
    {
     "data": {
      "text/plain": [
       "[('I', 'N'),\n",
       " ('shot', 'V'),\n",
       " ('an', 'D'),\n",
       " ('elephant', 'N'),\n",
       " ('in', 'P'),\n",
       " ('my', 'D'),\n",
       " ('pajamas', 'N')]"
      ]
     },
     "execution_count": 16,
     "metadata": {},
     "output_type": "execute_result"
    }
   ],
   "source": [
    "groucho = re.split(\" \", \"I shot an elephant in my pajamas\")\n",
    "patterns = [(r'(elephant|pajamas|I)', 'N'), \n",
    "            (r'(shot)', 'V'),\n",
    "            (r'(in)', 'P'),\n",
    "            (r'(an|my)', 'D')]\n",
    "regexp_tagger = nltk.RegexpTagger(patterns)\n",
    "s = regexp_tagger.tag(groucho)\n",
    "s"
   ]
  },
  {
   "cell_type": "code",
   "execution_count": 17,
   "id": "233ff295",
   "metadata": {},
   "outputs": [
    {
     "data": {
      "text/plain": [
       "['I', 'shot', 'an', 'elephant', 'in', 'my', 'pajamas']"
      ]
     },
     "execution_count": 17,
     "metadata": {},
     "output_type": "execute_result"
    }
   ],
   "source": [
    "groucho"
   ]
  },
  {
   "cell_type": "code",
   "execution_count": 18,
   "id": "6175e150",
   "metadata": {},
   "outputs": [
    {
     "data": {
      "image/svg+xml": [
       "<svg baseProfile=\"full\" height=\"264px\" preserveAspectRatio=\"xMidYMid meet\" style=\"font-family: times, serif; font-weight: normal; font-style: normal; font-size: 16px;\" version=\"1.1\" viewBox=\"0,0,328.0,264.0\" width=\"328px\" xmlns=\"http://www.w3.org/2000/svg\" xmlns:ev=\"http://www.w3.org/2001/xml-events\" xmlns:xlink=\"http://www.w3.org/1999/xlink\"><defs /><svg width=\"100%\" x=\"0\" y=\"0px\"><defs /><text text-anchor=\"middle\" x=\"50%\" y=\"16px\">S</text></svg><svg width=\"9.7561%\" x=\"0%\" y=\"48px\"><defs /><svg width=\"100%\" x=\"0\" y=\"0px\"><defs /><text text-anchor=\"middle\" x=\"50%\" y=\"16px\">NP</text></svg><svg width=\"100%\" x=\"0%\" y=\"48px\"><defs /><svg width=\"100%\" x=\"0\" y=\"0px\"><defs /><text text-anchor=\"middle\" x=\"50%\" y=\"16px\">I</text></svg><svg width=\"100%\" x=\"0%\" y=\"48px\"><defs /><svg width=\"100%\" x=\"0\" y=\"0px\"><defs /><text text-anchor=\"middle\" x=\"50%\" y=\"16px\">N</text></svg></svg><line stroke=\"black\" x1=\"50%\" x2=\"50%\" y1=\"19.2px\" y2=\"48px\" /></svg><line stroke=\"black\" x1=\"50%\" x2=\"50%\" y1=\"19.2px\" y2=\"48px\" /></svg><line stroke=\"black\" x1=\"50%\" x2=\"4.87805%\" y1=\"19.2px\" y2=\"48px\" /><svg width=\"90.2439%\" x=\"9.7561%\" y=\"48px\"><defs /><svg width=\"100%\" x=\"0\" y=\"0px\"><defs /><text text-anchor=\"middle\" x=\"50%\" y=\"16px\">VP</text></svg><svg width=\"54.0541%\" x=\"0%\" y=\"48px\"><defs /><svg width=\"100%\" x=\"0\" y=\"0px\"><defs /><text text-anchor=\"middle\" x=\"50%\" y=\"16px\">VP</text></svg><svg width=\"30%\" x=\"0%\" y=\"48px\"><defs /><svg width=\"100%\" x=\"0\" y=\"0px\"><defs /><text text-anchor=\"middle\" x=\"50%\" y=\"16px\">shot</text></svg><svg width=\"100%\" x=\"0%\" y=\"48px\"><defs /><svg width=\"100%\" x=\"0\" y=\"0px\"><defs /><text text-anchor=\"middle\" x=\"50%\" y=\"16px\">V</text></svg></svg><line stroke=\"black\" x1=\"50%\" x2=\"50%\" y1=\"19.2px\" y2=\"48px\" /></svg><line stroke=\"black\" x1=\"50%\" x2=\"15%\" y1=\"19.2px\" y2=\"48px\" /><svg width=\"70%\" x=\"30%\" y=\"48px\"><defs /><svg width=\"100%\" x=\"0\" y=\"0px\"><defs /><text text-anchor=\"middle\" x=\"50%\" y=\"16px\">NP</text></svg><svg width=\"28.5714%\" x=\"0%\" y=\"48px\"><defs /><svg width=\"100%\" x=\"0\" y=\"0px\"><defs /><text text-anchor=\"middle\" x=\"50%\" y=\"16px\">an</text></svg><svg width=\"100%\" x=\"0%\" y=\"48px\"><defs /><svg width=\"100%\" x=\"0\" y=\"0px\"><defs /><text text-anchor=\"middle\" x=\"50%\" y=\"16px\">D</text></svg></svg><line stroke=\"black\" x1=\"50%\" x2=\"50%\" y1=\"19.2px\" y2=\"48px\" /></svg><line stroke=\"black\" x1=\"50%\" x2=\"14.2857%\" y1=\"19.2px\" y2=\"48px\" /><svg width=\"71.4286%\" x=\"28.5714%\" y=\"48px\"><defs /><svg width=\"100%\" x=\"0\" y=\"0px\"><defs /><text text-anchor=\"middle\" x=\"50%\" y=\"16px\">elephant</text></svg><svg width=\"100%\" x=\"0%\" y=\"48px\"><defs /><svg width=\"100%\" x=\"0\" y=\"0px\"><defs /><text text-anchor=\"middle\" x=\"50%\" y=\"16px\">N</text></svg></svg><line stroke=\"black\" x1=\"50%\" x2=\"50%\" y1=\"19.2px\" y2=\"48px\" /></svg><line stroke=\"black\" x1=\"50%\" x2=\"64.2857%\" y1=\"19.2px\" y2=\"48px\" /></svg><line stroke=\"black\" x1=\"50%\" x2=\"65%\" y1=\"19.2px\" y2=\"48px\" /></svg><line stroke=\"black\" x1=\"50%\" x2=\"27.027%\" y1=\"19.2px\" y2=\"48px\" /><svg width=\"45.9459%\" x=\"54.0541%\" y=\"48px\"><defs /><svg width=\"100%\" x=\"0\" y=\"0px\"><defs /><text text-anchor=\"middle\" x=\"50%\" y=\"16px\">PP</text></svg><svg width=\"23.5294%\" x=\"0%\" y=\"48px\"><defs /><svg width=\"100%\" x=\"0\" y=\"0px\"><defs /><text text-anchor=\"middle\" x=\"50%\" y=\"16px\">in</text></svg><svg width=\"100%\" x=\"0%\" y=\"48px\"><defs /><svg width=\"100%\" x=\"0\" y=\"0px\"><defs /><text text-anchor=\"middle\" x=\"50%\" y=\"16px\">P</text></svg></svg><line stroke=\"black\" x1=\"50%\" x2=\"50%\" y1=\"19.2px\" y2=\"48px\" /></svg><line stroke=\"black\" x1=\"50%\" x2=\"11.7647%\" y1=\"19.2px\" y2=\"48px\" /><svg width=\"76.4706%\" x=\"23.5294%\" y=\"48px\"><defs /><svg width=\"100%\" x=\"0\" y=\"0px\"><defs /><text text-anchor=\"middle\" x=\"50%\" y=\"16px\">NP</text></svg><svg width=\"30.7692%\" x=\"0%\" y=\"48px\"><defs /><svg width=\"100%\" x=\"0\" y=\"0px\"><defs /><text text-anchor=\"middle\" x=\"50%\" y=\"16px\">my</text></svg><svg width=\"100%\" x=\"0%\" y=\"48px\"><defs /><svg width=\"100%\" x=\"0\" y=\"0px\"><defs /><text text-anchor=\"middle\" x=\"50%\" y=\"16px\">D</text></svg></svg><line stroke=\"black\" x1=\"50%\" x2=\"50%\" y1=\"19.2px\" y2=\"48px\" /></svg><line stroke=\"black\" x1=\"50%\" x2=\"15.3846%\" y1=\"19.2px\" y2=\"48px\" /><svg width=\"69.2308%\" x=\"30.7692%\" y=\"48px\"><defs /><svg width=\"100%\" x=\"0\" y=\"0px\"><defs /><text text-anchor=\"middle\" x=\"50%\" y=\"16px\">pajamas</text></svg><svg width=\"100%\" x=\"0%\" y=\"48px\"><defs /><svg width=\"100%\" x=\"0\" y=\"0px\"><defs /><text text-anchor=\"middle\" x=\"50%\" y=\"16px\">N</text></svg></svg><line stroke=\"black\" x1=\"50%\" x2=\"50%\" y1=\"19.2px\" y2=\"48px\" /></svg><line stroke=\"black\" x1=\"50%\" x2=\"65.3846%\" y1=\"19.2px\" y2=\"48px\" /></svg><line stroke=\"black\" x1=\"50%\" x2=\"61.7647%\" y1=\"19.2px\" y2=\"48px\" /></svg><line stroke=\"black\" x1=\"50%\" x2=\"77.027%\" y1=\"19.2px\" y2=\"48px\" /></svg><line stroke=\"black\" x1=\"50%\" x2=\"54.878%\" y1=\"19.2px\" y2=\"48px\" /></svg>"
      ],
      "text/plain": [
       "Tree('S', [Tree('NP', [('I', 'N')]), Tree('VP', [Tree('VP', [('shot', 'V'), Tree('NP', [('an', 'D'), ('elephant', 'N')])]), Tree('PP', [('in', 'P'), Tree('NP', [('my', 'D'), ('pajamas', 'N')])])])])"
      ]
     },
     "execution_count": 18,
     "metadata": {},
     "output_type": "execute_result"
    }
   ],
   "source": [
    "grammar = r\"\"\"\n",
    "    NP: {<D><N><PP>|<N>|<D><N>} \n",
    "    PP: {<P><NP>} \n",
    "    VP: {<V><NP>|<VP><PP>} \n",
    "\"\"\"\n",
    "cp=nltk.RegexpParser(grammar, loop=2)\n",
    "cp.parse(s)"
   ]
  },
  {
   "cell_type": "code",
   "execution_count": 19,
   "id": "7dfa5db4",
   "metadata": {},
   "outputs": [
    {
     "data": {
      "image/svg+xml": [
       "<svg baseProfile=\"full\" height=\"360px\" preserveAspectRatio=\"xMidYMid meet\" style=\"font-family: times, serif; font-weight: normal; font-style: normal; font-size: 16px;\" version=\"1.1\" viewBox=\"0,0,328.0,360.0\" width=\"328px\" xmlns=\"http://www.w3.org/2000/svg\" xmlns:ev=\"http://www.w3.org/2001/xml-events\" xmlns:xlink=\"http://www.w3.org/1999/xlink\"><defs /><svg width=\"100%\" x=\"0\" y=\"0px\"><defs /><text text-anchor=\"middle\" x=\"50%\" y=\"16px\">S</text></svg><svg width=\"9.7561%\" x=\"0%\" y=\"48px\"><defs /><svg width=\"100%\" x=\"0\" y=\"0px\"><defs /><text text-anchor=\"middle\" x=\"50%\" y=\"16px\">NP</text></svg><svg width=\"100%\" x=\"0%\" y=\"48px\"><defs /><svg width=\"100%\" x=\"0\" y=\"0px\"><defs /><text text-anchor=\"middle\" x=\"50%\" y=\"16px\">I</text></svg><svg width=\"100%\" x=\"0%\" y=\"48px\"><defs /><svg width=\"100%\" x=\"0\" y=\"0px\"><defs /><text text-anchor=\"middle\" x=\"50%\" y=\"16px\">N</text></svg></svg><line stroke=\"black\" x1=\"50%\" x2=\"50%\" y1=\"19.2px\" y2=\"48px\" /></svg><line stroke=\"black\" x1=\"50%\" x2=\"50%\" y1=\"19.2px\" y2=\"48px\" /></svg><line stroke=\"black\" x1=\"50%\" x2=\"4.87805%\" y1=\"19.2px\" y2=\"48px\" /><svg width=\"90.2439%\" x=\"9.7561%\" y=\"48px\"><defs /><svg width=\"100%\" x=\"0\" y=\"0px\"><defs /><text text-anchor=\"middle\" x=\"50%\" y=\"16px\">VP</text></svg><svg width=\"16.2162%\" x=\"0%\" y=\"48px\"><defs /><svg width=\"100%\" x=\"0\" y=\"0px\"><defs /><text text-anchor=\"middle\" x=\"50%\" y=\"16px\">shot</text></svg><svg width=\"100%\" x=\"0%\" y=\"48px\"><defs /><svg width=\"100%\" x=\"0\" y=\"0px\"><defs /><text text-anchor=\"middle\" x=\"50%\" y=\"16px\">V</text></svg></svg><line stroke=\"black\" x1=\"50%\" x2=\"50%\" y1=\"19.2px\" y2=\"48px\" /></svg><line stroke=\"black\" x1=\"50%\" x2=\"8.10811%\" y1=\"19.2px\" y2=\"48px\" /><svg width=\"83.7838%\" x=\"16.2162%\" y=\"48px\"><defs /><svg width=\"100%\" x=\"0\" y=\"0px\"><defs /><text text-anchor=\"middle\" x=\"50%\" y=\"16px\">NP</text></svg><svg width=\"12.9032%\" x=\"0%\" y=\"48px\"><defs /><svg width=\"100%\" x=\"0\" y=\"0px\"><defs /><text text-anchor=\"middle\" x=\"50%\" y=\"16px\">an</text></svg><svg width=\"100%\" x=\"0%\" y=\"48px\"><defs /><svg width=\"100%\" x=\"0\" y=\"0px\"><defs /><text text-anchor=\"middle\" x=\"50%\" y=\"16px\">D</text></svg></svg><line stroke=\"black\" x1=\"50%\" x2=\"50%\" y1=\"19.2px\" y2=\"48px\" /></svg><line stroke=\"black\" x1=\"50%\" x2=\"6.45161%\" y1=\"19.2px\" y2=\"48px\" /><svg width=\"32.2581%\" x=\"12.9032%\" y=\"48px\"><defs /><svg width=\"100%\" x=\"0\" y=\"0px\"><defs /><text text-anchor=\"middle\" x=\"50%\" y=\"16px\">elephant</text></svg><svg width=\"100%\" x=\"0%\" y=\"48px\"><defs /><svg width=\"100%\" x=\"0\" y=\"0px\"><defs /><text text-anchor=\"middle\" x=\"50%\" y=\"16px\">N</text></svg></svg><line stroke=\"black\" x1=\"50%\" x2=\"50%\" y1=\"19.2px\" y2=\"48px\" /></svg><line stroke=\"black\" x1=\"50%\" x2=\"29.0323%\" y1=\"19.2px\" y2=\"48px\" /><svg width=\"54.8387%\" x=\"45.1613%\" y=\"48px\"><defs /><svg width=\"100%\" x=\"0\" y=\"0px\"><defs /><text text-anchor=\"middle\" x=\"50%\" y=\"16px\">PP</text></svg><svg width=\"100%\" x=\"0%\" y=\"48px\"><defs /><svg width=\"100%\" x=\"0\" y=\"8px\"><defs /></svg><svg width=\"23.5294%\" x=\"0%\" y=\"48px\"><defs /><svg width=\"100%\" x=\"0\" y=\"0px\"><defs /><text text-anchor=\"middle\" x=\"50%\" y=\"16px\">in</text></svg><svg width=\"100%\" x=\"0%\" y=\"48px\"><defs /><svg width=\"100%\" x=\"0\" y=\"0px\"><defs /><text text-anchor=\"middle\" x=\"50%\" y=\"16px\">P</text></svg></svg><line stroke=\"black\" x1=\"50%\" x2=\"50%\" y1=\"19.2px\" y2=\"48px\" /></svg><line stroke=\"black\" x1=\"50%\" x2=\"11.7647%\" y1=\"8px\" y2=\"48px\" /><svg width=\"76.4706%\" x=\"23.5294%\" y=\"48px\"><defs /><svg width=\"100%\" x=\"0\" y=\"0px\"><defs /><text text-anchor=\"middle\" x=\"50%\" y=\"16px\">NP</text></svg><svg width=\"30.7692%\" x=\"0%\" y=\"48px\"><defs /><svg width=\"100%\" x=\"0\" y=\"0px\"><defs /><text text-anchor=\"middle\" x=\"50%\" y=\"16px\">my</text></svg><svg width=\"100%\" x=\"0%\" y=\"48px\"><defs /><svg width=\"100%\" x=\"0\" y=\"0px\"><defs /><text text-anchor=\"middle\" x=\"50%\" y=\"16px\">D</text></svg></svg><line stroke=\"black\" x1=\"50%\" x2=\"50%\" y1=\"19.2px\" y2=\"48px\" /></svg><line stroke=\"black\" x1=\"50%\" x2=\"15.3846%\" y1=\"19.2px\" y2=\"48px\" /><svg width=\"69.2308%\" x=\"30.7692%\" y=\"48px\"><defs /><svg width=\"100%\" x=\"0\" y=\"0px\"><defs /><text text-anchor=\"middle\" x=\"50%\" y=\"16px\">pajamas</text></svg><svg width=\"100%\" x=\"0%\" y=\"48px\"><defs /><svg width=\"100%\" x=\"0\" y=\"0px\"><defs /><text text-anchor=\"middle\" x=\"50%\" y=\"16px\">N</text></svg></svg><line stroke=\"black\" x1=\"50%\" x2=\"50%\" y1=\"19.2px\" y2=\"48px\" /></svg><line stroke=\"black\" x1=\"50%\" x2=\"65.3846%\" y1=\"19.2px\" y2=\"48px\" /></svg><line stroke=\"black\" x1=\"50%\" x2=\"61.7647%\" y1=\"8px\" y2=\"48px\" /></svg><line stroke=\"black\" x1=\"50%\" x2=\"50%\" y1=\"19.2px\" y2=\"56px\" /></svg><line stroke=\"black\" x1=\"50%\" x2=\"72.5806%\" y1=\"19.2px\" y2=\"48px\" /></svg><line stroke=\"black\" x1=\"50%\" x2=\"58.1081%\" y1=\"19.2px\" y2=\"48px\" /></svg><line stroke=\"black\" x1=\"50%\" x2=\"54.878%\" y1=\"19.2px\" y2=\"48px\" /></svg>"
      ],
      "text/plain": [
       "Tree('S', [Tree('NP', [Tree('I', ['N'])]), Tree('VP', [Tree('shot', ['V']), Tree('NP', [Tree('an', ['D']), Tree('elephant', ['N']), Tree('PP', [Tree('', [Tree('in', ['P']), Tree('NP', [Tree('my', ['D']), Tree('pajamas', ['N'])])])])])])])"
      ]
     },
     "execution_count": 19,
     "metadata": {},
     "output_type": "execute_result"
    }
   ],
   "source": [
    "from nltk.tree import Tree\n",
    "Tree.fromstring(\"(S (NP (I N)) (VP (shot V) (NP (an D) (elephant N) (PP ((in P)(NP (my D)(pajamas N)))))))\")"
   ]
  },
  {
   "cell_type": "markdown",
   "id": "ab9a5ca2",
   "metadata": {},
   "source": [
    "Notice that there’s no ambiguity concerning the meaning of any of the words; e.g., the\n",
    "word `shot` doesn’t refer to the act of using a gun in the first sentence and using a camera\n",
    "in the second sentence. The ambiguity in meaning is solely induced by the grammar. "
   ]
  },
  {
   "cell_type": "markdown",
   "id": "d07b61d9",
   "metadata": {},
   "source": [
    "In this context, we distinguish between chunking and (grammar) parsing. A grammar might licence different parsed trees, and during parsing we verify whether the given sentence adheres to the grammar. "
   ]
  },
  {
   "cell_type": "markdown",
   "id": "f3dcdc43",
   "metadata": {},
   "source": [
    "Consider the sentence: \n",
    "> The worst part and clumsy looking for whoever heard light"
   ]
  },
  {
   "cell_type": "markdown",
   "id": "b845cca7",
   "metadata": {},
   "source": [
    "You intuitively know that these sequences are “word-salad,” but you probably find it\n",
    "hard to pin down what’s wrong with them. One benefit of studying grammar is that it\n",
    "provides a conceptual framework and vocabulary for spelling out these intuitions. \n",
    "\n",
    "The phrase \n",
    "> The worst part and clumsy looking\n",
    "\n",
    "is a coordinate structure, where two phrases are joined by a coordinating conjunction\n",
    "such as and, but, or or. One can conjoin two `NP`s, or adjective phrases (`AP`), but not `NP` “The worst part” and `AP` “clumsy looking”, as that would be ungrammatical. "
   ]
  },
  {
   "cell_type": "markdown",
   "id": "58261249",
   "metadata": {},
   "source": [
    "We can formalize this idea with the concept of __constituent structure__. Constituent structure is based on the observation that words combine with other words\n",
    "to form units.\n",
    "The evidence that a sequence of words forms such a unit is given by\n",
    "substitutability—that is, a sequence of words in a well-formed sentence can be replaced\n",
    "by a shorter sequence without rendering the sentence ill-formed."
   ]
  },
  {
   "cell_type": "code",
   "execution_count": 20,
   "id": "888f8ee8",
   "metadata": {},
   "outputs": [],
   "source": [
    "sentence = nltk.word_tokenize('The little bear saw the fine fat trout in the brook')"
   ]
  },
  {
   "cell_type": "code",
   "execution_count": 21,
   "id": "8238a9c8",
   "metadata": {},
   "outputs": [],
   "source": [
    "s=[(w, t) for w,t in zip(sentence, [\n",
    "    'DT', 'JJ', 'NN', 'VBD', 'DT', 'JJ', 'JJ', 'NN', 'IN', 'DT', 'NN'\n",
    "])]"
   ]
  },
  {
   "cell_type": "code",
   "execution_count": 22,
   "id": "1d12f684",
   "metadata": {},
   "outputs": [
    {
     "data": {
      "text/plain": [
       "[('The', 'DT'),\n",
       " ('little', 'JJ'),\n",
       " ('bear', 'NN'),\n",
       " ('saw', 'VBD'),\n",
       " ('the', 'DT'),\n",
       " ('fine', 'JJ'),\n",
       " ('fat', 'NN'),\n",
       " ('trout', 'NN'),\n",
       " ('in', 'IN'),\n",
       " ('the', 'DT'),\n",
       " ('brook', 'NN')]"
      ]
     },
     "execution_count": 22,
     "metadata": {},
     "output_type": "execute_result"
    }
   ],
   "source": [
    "nltk.pos_tag(sentence)"
   ]
  },
  {
   "cell_type": "code",
   "execution_count": 23,
   "id": "fbee6c82",
   "metadata": {},
   "outputs": [
    {
     "data": {
      "image/svg+xml": [
       "<svg baseProfile=\"full\" height=\"264px\" preserveAspectRatio=\"xMidYMid meet\" style=\"font-family: times, serif; font-weight: normal; font-style: normal; font-size: 16px;\" version=\"1.1\" viewBox=\"0,0,504.0,264.0\" width=\"504px\" xmlns=\"http://www.w3.org/2000/svg\" xmlns:ev=\"http://www.w3.org/2001/xml-events\" xmlns:xlink=\"http://www.w3.org/1999/xlink\"><defs /><svg width=\"100%\" x=\"0\" y=\"0px\"><defs /><text text-anchor=\"middle\" x=\"50%\" y=\"16px\">S</text></svg><svg width=\"30.1587%\" x=\"0%\" y=\"48px\"><defs /><svg width=\"100%\" x=\"0\" y=\"0px\"><defs /><text text-anchor=\"middle\" x=\"50%\" y=\"16px\">NP</text></svg><svg width=\"26.3158%\" x=\"0%\" y=\"48px\"><defs /><svg width=\"100%\" x=\"0\" y=\"0px\"><defs /><text text-anchor=\"middle\" x=\"50%\" y=\"16px\">The</text></svg><svg width=\"100%\" x=\"0%\" y=\"48px\"><defs /><svg width=\"100%\" x=\"0\" y=\"0px\"><defs /><text text-anchor=\"middle\" x=\"50%\" y=\"16px\">DT</text></svg></svg><line stroke=\"black\" x1=\"50%\" x2=\"50%\" y1=\"19.2px\" y2=\"48px\" /></svg><line stroke=\"black\" x1=\"50%\" x2=\"13.1579%\" y1=\"19.2px\" y2=\"48px\" /><svg width=\"42.1053%\" x=\"26.3158%\" y=\"48px\"><defs /><svg width=\"100%\" x=\"0\" y=\"0px\"><defs /><text text-anchor=\"middle\" x=\"50%\" y=\"16px\">little</text></svg><svg width=\"100%\" x=\"0%\" y=\"48px\"><defs /><svg width=\"100%\" x=\"0\" y=\"0px\"><defs /><text text-anchor=\"middle\" x=\"50%\" y=\"16px\">JJ</text></svg></svg><line stroke=\"black\" x1=\"50%\" x2=\"50%\" y1=\"19.2px\" y2=\"48px\" /></svg><line stroke=\"black\" x1=\"50%\" x2=\"47.3684%\" y1=\"19.2px\" y2=\"48px\" /><svg width=\"31.5789%\" x=\"68.4211%\" y=\"48px\"><defs /><svg width=\"100%\" x=\"0\" y=\"0px\"><defs /><text text-anchor=\"middle\" x=\"50%\" y=\"16px\">bear</text></svg><svg width=\"100%\" x=\"0%\" y=\"48px\"><defs /><svg width=\"100%\" x=\"0\" y=\"0px\"><defs /><text text-anchor=\"middle\" x=\"50%\" y=\"16px\">NN</text></svg></svg><line stroke=\"black\" x1=\"50%\" x2=\"50%\" y1=\"19.2px\" y2=\"48px\" /></svg><line stroke=\"black\" x1=\"50%\" x2=\"84.2105%\" y1=\"19.2px\" y2=\"48px\" /></svg><line stroke=\"black\" x1=\"50%\" x2=\"15.0794%\" y1=\"19.2px\" y2=\"48px\" /><svg width=\"69.8413%\" x=\"30.1587%\" y=\"48px\"><defs /><svg width=\"100%\" x=\"0\" y=\"0px\"><defs /><text text-anchor=\"middle\" x=\"50%\" y=\"16px\">VP</text></svg><svg width=\"63.6364%\" x=\"0%\" y=\"48px\"><defs /><svg width=\"100%\" x=\"0\" y=\"0px\"><defs /><text text-anchor=\"middle\" x=\"50%\" y=\"16px\">VP</text></svg><svg width=\"17.8571%\" x=\"0%\" y=\"48px\"><defs /><svg width=\"100%\" x=\"0\" y=\"0px\"><defs /><text text-anchor=\"middle\" x=\"50%\" y=\"16px\">saw</text></svg><svg width=\"100%\" x=\"0%\" y=\"48px\"><defs /><svg width=\"100%\" x=\"0\" y=\"0px\"><defs /><text text-anchor=\"middle\" x=\"50%\" y=\"16px\">VBD</text></svg></svg><line stroke=\"black\" x1=\"50%\" x2=\"50%\" y1=\"19.2px\" y2=\"48px\" /></svg><line stroke=\"black\" x1=\"50%\" x2=\"8.92857%\" y1=\"19.2px\" y2=\"48px\" /><svg width=\"82.1429%\" x=\"17.8571%\" y=\"48px\"><defs /><svg width=\"100%\" x=\"0\" y=\"0px\"><defs /><text text-anchor=\"middle\" x=\"50%\" y=\"16px\">NP</text></svg><svg width=\"21.7391%\" x=\"0%\" y=\"48px\"><defs /><svg width=\"100%\" x=\"0\" y=\"0px\"><defs /><text text-anchor=\"middle\" x=\"50%\" y=\"16px\">the</text></svg><svg width=\"100%\" x=\"0%\" y=\"48px\"><defs /><svg width=\"100%\" x=\"0\" y=\"0px\"><defs /><text text-anchor=\"middle\" x=\"50%\" y=\"16px\">DT</text></svg></svg><line stroke=\"black\" x1=\"50%\" x2=\"50%\" y1=\"19.2px\" y2=\"48px\" /></svg><line stroke=\"black\" x1=\"50%\" x2=\"10.8696%\" y1=\"19.2px\" y2=\"48px\" /><svg width=\"26.087%\" x=\"21.7391%\" y=\"48px\"><defs /><svg width=\"100%\" x=\"0\" y=\"0px\"><defs /><text text-anchor=\"middle\" x=\"50%\" y=\"16px\">fine</text></svg><svg width=\"100%\" x=\"0%\" y=\"48px\"><defs /><svg width=\"100%\" x=\"0\" y=\"0px\"><defs /><text text-anchor=\"middle\" x=\"50%\" y=\"16px\">JJ</text></svg></svg><line stroke=\"black\" x1=\"50%\" x2=\"50%\" y1=\"19.2px\" y2=\"48px\" /></svg><line stroke=\"black\" x1=\"50%\" x2=\"34.7826%\" y1=\"19.2px\" y2=\"48px\" /><svg width=\"21.7391%\" x=\"47.8261%\" y=\"48px\"><defs /><svg width=\"100%\" x=\"0\" y=\"0px\"><defs /><text text-anchor=\"middle\" x=\"50%\" y=\"16px\">fat</text></svg><svg width=\"100%\" x=\"0%\" y=\"48px\"><defs /><svg width=\"100%\" x=\"0\" y=\"0px\"><defs /><text text-anchor=\"middle\" x=\"50%\" y=\"16px\">JJ</text></svg></svg><line stroke=\"black\" x1=\"50%\" x2=\"50%\" y1=\"19.2px\" y2=\"48px\" /></svg><line stroke=\"black\" x1=\"50%\" x2=\"58.6957%\" y1=\"19.2px\" y2=\"48px\" /><svg width=\"30.4348%\" x=\"69.5652%\" y=\"48px\"><defs /><svg width=\"100%\" x=\"0\" y=\"0px\"><defs /><text text-anchor=\"middle\" x=\"50%\" y=\"16px\">trout</text></svg><svg width=\"100%\" x=\"0%\" y=\"48px\"><defs /><svg width=\"100%\" x=\"0\" y=\"0px\"><defs /><text text-anchor=\"middle\" x=\"50%\" y=\"16px\">NN</text></svg></svg><line stroke=\"black\" x1=\"50%\" x2=\"50%\" y1=\"19.2px\" y2=\"48px\" /></svg><line stroke=\"black\" x1=\"50%\" x2=\"84.7826%\" y1=\"19.2px\" y2=\"48px\" /></svg><line stroke=\"black\" x1=\"50%\" x2=\"58.9286%\" y1=\"19.2px\" y2=\"48px\" /></svg><line stroke=\"black\" x1=\"50%\" x2=\"31.8182%\" y1=\"19.2px\" y2=\"48px\" /><svg width=\"36.3636%\" x=\"63.6364%\" y=\"48px\"><defs /><svg width=\"100%\" x=\"0\" y=\"0px\"><defs /><text text-anchor=\"middle\" x=\"50%\" y=\"16px\">PP</text></svg><svg width=\"25%\" x=\"0%\" y=\"48px\"><defs /><svg width=\"100%\" x=\"0\" y=\"0px\"><defs /><text text-anchor=\"middle\" x=\"50%\" y=\"16px\">in</text></svg><svg width=\"100%\" x=\"0%\" y=\"48px\"><defs /><svg width=\"100%\" x=\"0\" y=\"0px\"><defs /><text text-anchor=\"middle\" x=\"50%\" y=\"16px\">IN</text></svg></svg><line stroke=\"black\" x1=\"50%\" x2=\"50%\" y1=\"19.2px\" y2=\"48px\" /></svg><line stroke=\"black\" x1=\"50%\" x2=\"12.5%\" y1=\"19.2px\" y2=\"48px\" /><svg width=\"75%\" x=\"25%\" y=\"48px\"><defs /><svg width=\"100%\" x=\"0\" y=\"0px\"><defs /><text text-anchor=\"middle\" x=\"50%\" y=\"16px\">NP</text></svg><svg width=\"41.6667%\" x=\"0%\" y=\"48px\"><defs /><svg width=\"100%\" x=\"0\" y=\"0px\"><defs /><text text-anchor=\"middle\" x=\"50%\" y=\"16px\">the</text></svg><svg width=\"100%\" x=\"0%\" y=\"48px\"><defs /><svg width=\"100%\" x=\"0\" y=\"0px\"><defs /><text text-anchor=\"middle\" x=\"50%\" y=\"16px\">DT</text></svg></svg><line stroke=\"black\" x1=\"50%\" x2=\"50%\" y1=\"19.2px\" y2=\"48px\" /></svg><line stroke=\"black\" x1=\"50%\" x2=\"20.8333%\" y1=\"19.2px\" y2=\"48px\" /><svg width=\"58.3333%\" x=\"41.6667%\" y=\"48px\"><defs /><svg width=\"100%\" x=\"0\" y=\"0px\"><defs /><text text-anchor=\"middle\" x=\"50%\" y=\"16px\">brook</text></svg><svg width=\"100%\" x=\"0%\" y=\"48px\"><defs /><svg width=\"100%\" x=\"0\" y=\"0px\"><defs /><text text-anchor=\"middle\" x=\"50%\" y=\"16px\">NN</text></svg></svg><line stroke=\"black\" x1=\"50%\" x2=\"50%\" y1=\"19.2px\" y2=\"48px\" /></svg><line stroke=\"black\" x1=\"50%\" x2=\"70.8333%\" y1=\"19.2px\" y2=\"48px\" /></svg><line stroke=\"black\" x1=\"50%\" x2=\"62.5%\" y1=\"19.2px\" y2=\"48px\" /></svg><line stroke=\"black\" x1=\"50%\" x2=\"81.8182%\" y1=\"19.2px\" y2=\"48px\" /></svg><line stroke=\"black\" x1=\"50%\" x2=\"65.0794%\" y1=\"19.2px\" y2=\"48px\" /></svg>"
      ],
      "text/plain": [
       "Tree('S', [Tree('NP', [('The', 'DT'), ('little', 'JJ'), ('bear', 'NN')]), Tree('VP', [Tree('VP', [('saw', 'VBD'), Tree('NP', [('the', 'DT'), ('fine', 'JJ'), ('fat', 'JJ'), ('trout', 'NN')])]), Tree('PP', [('in', 'IN'), Tree('NP', [('the', 'DT'), ('brook', 'NN')])])])])"
      ]
     },
     "execution_count": 23,
     "metadata": {},
     "output_type": "execute_result"
    }
   ],
   "source": [
    "grammar = r\"\"\"\n",
    "    NP: {<DT>?<JJ>*<NN.*>+} \n",
    "    PP: {<IN><NP>} \n",
    "    VP: {<V.*><PP|NP>} \n",
    "\"\"\"\n",
    "cp=nltk.RegexpParser(grammar, loop=3)\n",
    "cp.parse(s)"
   ]
  },
  {
   "cell_type": "markdown",
   "id": "570f0a56",
   "metadata": {},
   "source": [
    "We can replace each `NP` with a noun, `VP` with a verb, etc., and the sentence still makes sense. "
   ]
  },
  {
   "cell_type": "code",
   "execution_count": 24,
   "id": "4404f59a",
   "metadata": {},
   "outputs": [],
   "source": [
    "from nltk import CFG\n",
    "grammar = CFG.fromstring(\"\"\"\n",
    "    S -> NP VP\n",
    "    VP -> V NP | V NP PP\n",
    "    PP -> P NP\n",
    "    V -> \"saw\" | \"ate\" | \"walked\" | \"shot\"\n",
    "    NP -> \"John\" | \"Mary\" | \"Bob\" | DT N | DT N PP | \"I\"\n",
    "    DT -> \"a\" | \"an\" | \"the\" | \"my\"\n",
    "    N -> \"man\" | \"dog\" | \"cat\" | \"telescope\" | \"park\" | \"elephant\" | \"pajamas\"\n",
    "    P -> \"in\" | \"on\" | \"by\" | \"with\"\n",
    "\"\"\")"
   ]
  },
  {
   "cell_type": "code",
   "execution_count": 25,
   "id": "0317d111",
   "metadata": {},
   "outputs": [],
   "source": [
    "parser = nltk.RecursiveDescentParser(grammar)\n",
    "treelist=[tree for tree in parser.parse(nltk.word_tokenize('Mary saw Bob'))]"
   ]
  },
  {
   "cell_type": "code",
   "execution_count": 32,
   "id": "23b23668",
   "metadata": {},
   "outputs": [],
   "source": [
    "nltk.app.rdparser()"
   ]
  },
  {
   "cell_type": "code",
   "execution_count": 27,
   "id": "5bb6fba1",
   "metadata": {},
   "outputs": [
    {
     "data": {
      "image/svg+xml": [
       "<svg baseProfile=\"full\" height=\"168px\" preserveAspectRatio=\"xMidYMid meet\" style=\"font-family: times, serif; font-weight: normal; font-style: normal; font-size: 16px;\" version=\"1.1\" viewBox=\"0,0,128.0,168.0\" width=\"128px\" xmlns=\"http://www.w3.org/2000/svg\" xmlns:ev=\"http://www.w3.org/2001/xml-events\" xmlns:xlink=\"http://www.w3.org/1999/xlink\"><defs /><svg width=\"100%\" x=\"0\" y=\"0px\"><defs /><text text-anchor=\"middle\" x=\"50%\" y=\"16px\">S</text></svg><svg width=\"37.5%\" x=\"0%\" y=\"48px\"><defs /><svg width=\"100%\" x=\"0\" y=\"0px\"><defs /><text text-anchor=\"middle\" x=\"50%\" y=\"16px\">NP</text></svg><svg width=\"100%\" x=\"0%\" y=\"48px\"><defs /><svg width=\"100%\" x=\"0\" y=\"0px\"><defs /><text text-anchor=\"middle\" x=\"50%\" y=\"16px\">Mary</text></svg></svg><line stroke=\"black\" x1=\"50%\" x2=\"50%\" y1=\"19.2px\" y2=\"48px\" /></svg><line stroke=\"black\" x1=\"50%\" x2=\"18.75%\" y1=\"19.2px\" y2=\"48px\" /><svg width=\"62.5%\" x=\"37.5%\" y=\"48px\"><defs /><svg width=\"100%\" x=\"0\" y=\"0px\"><defs /><text text-anchor=\"middle\" x=\"50%\" y=\"16px\">VP</text></svg><svg width=\"50%\" x=\"0%\" y=\"48px\"><defs /><svg width=\"100%\" x=\"0\" y=\"0px\"><defs /><text text-anchor=\"middle\" x=\"50%\" y=\"16px\">V</text></svg><svg width=\"100%\" x=\"0%\" y=\"48px\"><defs /><svg width=\"100%\" x=\"0\" y=\"0px\"><defs /><text text-anchor=\"middle\" x=\"50%\" y=\"16px\">saw</text></svg></svg><line stroke=\"black\" x1=\"50%\" x2=\"50%\" y1=\"19.2px\" y2=\"48px\" /></svg><line stroke=\"black\" x1=\"50%\" x2=\"25%\" y1=\"19.2px\" y2=\"48px\" /><svg width=\"50%\" x=\"50%\" y=\"48px\"><defs /><svg width=\"100%\" x=\"0\" y=\"0px\"><defs /><text text-anchor=\"middle\" x=\"50%\" y=\"16px\">NP</text></svg><svg width=\"100%\" x=\"0%\" y=\"48px\"><defs /><svg width=\"100%\" x=\"0\" y=\"0px\"><defs /><text text-anchor=\"middle\" x=\"50%\" y=\"16px\">Bob</text></svg></svg><line stroke=\"black\" x1=\"50%\" x2=\"50%\" y1=\"19.2px\" y2=\"48px\" /></svg><line stroke=\"black\" x1=\"50%\" x2=\"75%\" y1=\"19.2px\" y2=\"48px\" /></svg><line stroke=\"black\" x1=\"50%\" x2=\"68.75%\" y1=\"19.2px\" y2=\"48px\" /></svg>"
      ],
      "text/plain": [
       "Tree('S', [Tree('NP', ['Mary']), Tree('VP', [Tree('V', ['saw']), Tree('NP', ['Bob'])])])"
      ]
     },
     "execution_count": 27,
     "metadata": {},
     "output_type": "execute_result"
    }
   ],
   "source": [
    "treelist[0]"
   ]
  },
  {
   "cell_type": "code",
   "execution_count": 28,
   "id": "ca3a6e23",
   "metadata": {},
   "outputs": [],
   "source": [
    "parser = nltk.RecursiveDescentParser(grammar)\n",
    "treelist=[tree for tree in parser.parse(groucho)]"
   ]
  },
  {
   "cell_type": "code",
   "execution_count": 29,
   "id": "d945f1a9",
   "metadata": {},
   "outputs": [
    {
     "data": {
      "image/svg+xml": [
       "<svg baseProfile=\"full\" height=\"312px\" preserveAspectRatio=\"xMidYMid meet\" style=\"font-family: times, serif; font-weight: normal; font-style: normal; font-size: 16px;\" version=\"1.1\" viewBox=\"0,0,328.0,312.0\" width=\"328px\" xmlns=\"http://www.w3.org/2000/svg\" xmlns:ev=\"http://www.w3.org/2001/xml-events\" xmlns:xlink=\"http://www.w3.org/1999/xlink\"><defs /><svg width=\"100%\" x=\"0\" y=\"0px\"><defs /><text text-anchor=\"middle\" x=\"50%\" y=\"16px\">S</text></svg><svg width=\"9.7561%\" x=\"0%\" y=\"48px\"><defs /><svg width=\"100%\" x=\"0\" y=\"0px\"><defs /><text text-anchor=\"middle\" x=\"50%\" y=\"16px\">NP</text></svg><svg width=\"100%\" x=\"0%\" y=\"48px\"><defs /><svg width=\"100%\" x=\"0\" y=\"0px\"><defs /><text text-anchor=\"middle\" x=\"50%\" y=\"16px\">I</text></svg></svg><line stroke=\"black\" x1=\"50%\" x2=\"50%\" y1=\"19.2px\" y2=\"48px\" /></svg><line stroke=\"black\" x1=\"50%\" x2=\"4.87805%\" y1=\"19.2px\" y2=\"48px\" /><svg width=\"90.2439%\" x=\"9.7561%\" y=\"48px\"><defs /><svg width=\"100%\" x=\"0\" y=\"0px\"><defs /><text text-anchor=\"middle\" x=\"50%\" y=\"16px\">VP</text></svg><svg width=\"16.2162%\" x=\"0%\" y=\"48px\"><defs /><svg width=\"100%\" x=\"0\" y=\"0px\"><defs /><text text-anchor=\"middle\" x=\"50%\" y=\"16px\">V</text></svg><svg width=\"100%\" x=\"0%\" y=\"48px\"><defs /><svg width=\"100%\" x=\"0\" y=\"0px\"><defs /><text text-anchor=\"middle\" x=\"50%\" y=\"16px\">shot</text></svg></svg><line stroke=\"black\" x1=\"50%\" x2=\"50%\" y1=\"19.2px\" y2=\"48px\" /></svg><line stroke=\"black\" x1=\"50%\" x2=\"8.10811%\" y1=\"19.2px\" y2=\"48px\" /><svg width=\"83.7838%\" x=\"16.2162%\" y=\"48px\"><defs /><svg width=\"100%\" x=\"0\" y=\"0px\"><defs /><text text-anchor=\"middle\" x=\"50%\" y=\"16px\">NP</text></svg><svg width=\"12.9032%\" x=\"0%\" y=\"48px\"><defs /><svg width=\"100%\" x=\"0\" y=\"0px\"><defs /><text text-anchor=\"middle\" x=\"50%\" y=\"16px\">DT</text></svg><svg width=\"100%\" x=\"0%\" y=\"48px\"><defs /><svg width=\"100%\" x=\"0\" y=\"0px\"><defs /><text text-anchor=\"middle\" x=\"50%\" y=\"16px\">an</text></svg></svg><line stroke=\"black\" x1=\"50%\" x2=\"50%\" y1=\"19.2px\" y2=\"48px\" /></svg><line stroke=\"black\" x1=\"50%\" x2=\"6.45161%\" y1=\"19.2px\" y2=\"48px\" /><svg width=\"32.2581%\" x=\"12.9032%\" y=\"48px\"><defs /><svg width=\"100%\" x=\"0\" y=\"0px\"><defs /><text text-anchor=\"middle\" x=\"50%\" y=\"16px\">N</text></svg><svg width=\"100%\" x=\"0%\" y=\"48px\"><defs /><svg width=\"100%\" x=\"0\" y=\"0px\"><defs /><text text-anchor=\"middle\" x=\"50%\" y=\"16px\">elephant</text></svg></svg><line stroke=\"black\" x1=\"50%\" x2=\"50%\" y1=\"19.2px\" y2=\"48px\" /></svg><line stroke=\"black\" x1=\"50%\" x2=\"29.0323%\" y1=\"19.2px\" y2=\"48px\" /><svg width=\"54.8387%\" x=\"45.1613%\" y=\"48px\"><defs /><svg width=\"100%\" x=\"0\" y=\"0px\"><defs /><text text-anchor=\"middle\" x=\"50%\" y=\"16px\">PP</text></svg><svg width=\"23.5294%\" x=\"0%\" y=\"48px\"><defs /><svg width=\"100%\" x=\"0\" y=\"0px\"><defs /><text text-anchor=\"middle\" x=\"50%\" y=\"16px\">P</text></svg><svg width=\"100%\" x=\"0%\" y=\"48px\"><defs /><svg width=\"100%\" x=\"0\" y=\"0px\"><defs /><text text-anchor=\"middle\" x=\"50%\" y=\"16px\">in</text></svg></svg><line stroke=\"black\" x1=\"50%\" x2=\"50%\" y1=\"19.2px\" y2=\"48px\" /></svg><line stroke=\"black\" x1=\"50%\" x2=\"11.7647%\" y1=\"19.2px\" y2=\"48px\" /><svg width=\"76.4706%\" x=\"23.5294%\" y=\"48px\"><defs /><svg width=\"100%\" x=\"0\" y=\"0px\"><defs /><text text-anchor=\"middle\" x=\"50%\" y=\"16px\">NP</text></svg><svg width=\"30.7692%\" x=\"0%\" y=\"48px\"><defs /><svg width=\"100%\" x=\"0\" y=\"0px\"><defs /><text text-anchor=\"middle\" x=\"50%\" y=\"16px\">DT</text></svg><svg width=\"100%\" x=\"0%\" y=\"48px\"><defs /><svg width=\"100%\" x=\"0\" y=\"0px\"><defs /><text text-anchor=\"middle\" x=\"50%\" y=\"16px\">my</text></svg></svg><line stroke=\"black\" x1=\"50%\" x2=\"50%\" y1=\"19.2px\" y2=\"48px\" /></svg><line stroke=\"black\" x1=\"50%\" x2=\"15.3846%\" y1=\"19.2px\" y2=\"48px\" /><svg width=\"69.2308%\" x=\"30.7692%\" y=\"48px\"><defs /><svg width=\"100%\" x=\"0\" y=\"0px\"><defs /><text text-anchor=\"middle\" x=\"50%\" y=\"16px\">N</text></svg><svg width=\"100%\" x=\"0%\" y=\"48px\"><defs /><svg width=\"100%\" x=\"0\" y=\"0px\"><defs /><text text-anchor=\"middle\" x=\"50%\" y=\"16px\">pajamas</text></svg></svg><line stroke=\"black\" x1=\"50%\" x2=\"50%\" y1=\"19.2px\" y2=\"48px\" /></svg><line stroke=\"black\" x1=\"50%\" x2=\"65.3846%\" y1=\"19.2px\" y2=\"48px\" /></svg><line stroke=\"black\" x1=\"50%\" x2=\"61.7647%\" y1=\"19.2px\" y2=\"48px\" /></svg><line stroke=\"black\" x1=\"50%\" x2=\"72.5806%\" y1=\"19.2px\" y2=\"48px\" /></svg><line stroke=\"black\" x1=\"50%\" x2=\"58.1081%\" y1=\"19.2px\" y2=\"48px\" /></svg><line stroke=\"black\" x1=\"50%\" x2=\"54.878%\" y1=\"19.2px\" y2=\"48px\" /></svg>"
      ],
      "text/plain": [
       "Tree('S', [Tree('NP', ['I']), Tree('VP', [Tree('V', ['shot']), Tree('NP', [Tree('DT', ['an']), Tree('N', ['elephant']), Tree('PP', [Tree('P', ['in']), Tree('NP', [Tree('DT', ['my']), Tree('N', ['pajamas'])])])])])])"
      ]
     },
     "execution_count": 29,
     "metadata": {},
     "output_type": "execute_result"
    }
   ],
   "source": [
    "treelist[0]"
   ]
  },
  {
   "cell_type": "code",
   "execution_count": 30,
   "id": "1b9ad894",
   "metadata": {},
   "outputs": [
    {
     "data": {
      "image/svg+xml": [
       "<svg baseProfile=\"full\" height=\"264px\" preserveAspectRatio=\"xMidYMid meet\" style=\"font-family: times, serif; font-weight: normal; font-style: normal; font-size: 16px;\" version=\"1.1\" viewBox=\"0,0,328.0,264.0\" width=\"328px\" xmlns=\"http://www.w3.org/2000/svg\" xmlns:ev=\"http://www.w3.org/2001/xml-events\" xmlns:xlink=\"http://www.w3.org/1999/xlink\"><defs /><svg width=\"100%\" x=\"0\" y=\"0px\"><defs /><text text-anchor=\"middle\" x=\"50%\" y=\"16px\">S</text></svg><svg width=\"9.7561%\" x=\"0%\" y=\"48px\"><defs /><svg width=\"100%\" x=\"0\" y=\"0px\"><defs /><text text-anchor=\"middle\" x=\"50%\" y=\"16px\">NP</text></svg><svg width=\"100%\" x=\"0%\" y=\"48px\"><defs /><svg width=\"100%\" x=\"0\" y=\"0px\"><defs /><text text-anchor=\"middle\" x=\"50%\" y=\"16px\">I</text></svg></svg><line stroke=\"black\" x1=\"50%\" x2=\"50%\" y1=\"19.2px\" y2=\"48px\" /></svg><line stroke=\"black\" x1=\"50%\" x2=\"4.87805%\" y1=\"19.2px\" y2=\"48px\" /><svg width=\"90.2439%\" x=\"9.7561%\" y=\"48px\"><defs /><svg width=\"100%\" x=\"0\" y=\"0px\"><defs /><text text-anchor=\"middle\" x=\"50%\" y=\"16px\">VP</text></svg><svg width=\"16.2162%\" x=\"0%\" y=\"48px\"><defs /><svg width=\"100%\" x=\"0\" y=\"0px\"><defs /><text text-anchor=\"middle\" x=\"50%\" y=\"16px\">V</text></svg><svg width=\"100%\" x=\"0%\" y=\"48px\"><defs /><svg width=\"100%\" x=\"0\" y=\"0px\"><defs /><text text-anchor=\"middle\" x=\"50%\" y=\"16px\">shot</text></svg></svg><line stroke=\"black\" x1=\"50%\" x2=\"50%\" y1=\"19.2px\" y2=\"48px\" /></svg><line stroke=\"black\" x1=\"50%\" x2=\"8.10811%\" y1=\"19.2px\" y2=\"48px\" /><svg width=\"37.8378%\" x=\"16.2162%\" y=\"48px\"><defs /><svg width=\"100%\" x=\"0\" y=\"0px\"><defs /><text text-anchor=\"middle\" x=\"50%\" y=\"16px\">NP</text></svg><svg width=\"28.5714%\" x=\"0%\" y=\"48px\"><defs /><svg width=\"100%\" x=\"0\" y=\"0px\"><defs /><text text-anchor=\"middle\" x=\"50%\" y=\"16px\">DT</text></svg><svg width=\"100%\" x=\"0%\" y=\"48px\"><defs /><svg width=\"100%\" x=\"0\" y=\"0px\"><defs /><text text-anchor=\"middle\" x=\"50%\" y=\"16px\">an</text></svg></svg><line stroke=\"black\" x1=\"50%\" x2=\"50%\" y1=\"19.2px\" y2=\"48px\" /></svg><line stroke=\"black\" x1=\"50%\" x2=\"14.2857%\" y1=\"19.2px\" y2=\"48px\" /><svg width=\"71.4286%\" x=\"28.5714%\" y=\"48px\"><defs /><svg width=\"100%\" x=\"0\" y=\"0px\"><defs /><text text-anchor=\"middle\" x=\"50%\" y=\"16px\">N</text></svg><svg width=\"100%\" x=\"0%\" y=\"48px\"><defs /><svg width=\"100%\" x=\"0\" y=\"0px\"><defs /><text text-anchor=\"middle\" x=\"50%\" y=\"16px\">elephant</text></svg></svg><line stroke=\"black\" x1=\"50%\" x2=\"50%\" y1=\"19.2px\" y2=\"48px\" /></svg><line stroke=\"black\" x1=\"50%\" x2=\"64.2857%\" y1=\"19.2px\" y2=\"48px\" /></svg><line stroke=\"black\" x1=\"50%\" x2=\"35.1351%\" y1=\"19.2px\" y2=\"48px\" /><svg width=\"45.9459%\" x=\"54.0541%\" y=\"48px\"><defs /><svg width=\"100%\" x=\"0\" y=\"0px\"><defs /><text text-anchor=\"middle\" x=\"50%\" y=\"16px\">PP</text></svg><svg width=\"23.5294%\" x=\"0%\" y=\"48px\"><defs /><svg width=\"100%\" x=\"0\" y=\"0px\"><defs /><text text-anchor=\"middle\" x=\"50%\" y=\"16px\">P</text></svg><svg width=\"100%\" x=\"0%\" y=\"48px\"><defs /><svg width=\"100%\" x=\"0\" y=\"0px\"><defs /><text text-anchor=\"middle\" x=\"50%\" y=\"16px\">in</text></svg></svg><line stroke=\"black\" x1=\"50%\" x2=\"50%\" y1=\"19.2px\" y2=\"48px\" /></svg><line stroke=\"black\" x1=\"50%\" x2=\"11.7647%\" y1=\"19.2px\" y2=\"48px\" /><svg width=\"76.4706%\" x=\"23.5294%\" y=\"48px\"><defs /><svg width=\"100%\" x=\"0\" y=\"0px\"><defs /><text text-anchor=\"middle\" x=\"50%\" y=\"16px\">NP</text></svg><svg width=\"30.7692%\" x=\"0%\" y=\"48px\"><defs /><svg width=\"100%\" x=\"0\" y=\"0px\"><defs /><text text-anchor=\"middle\" x=\"50%\" y=\"16px\">DT</text></svg><svg width=\"100%\" x=\"0%\" y=\"48px\"><defs /><svg width=\"100%\" x=\"0\" y=\"0px\"><defs /><text text-anchor=\"middle\" x=\"50%\" y=\"16px\">my</text></svg></svg><line stroke=\"black\" x1=\"50%\" x2=\"50%\" y1=\"19.2px\" y2=\"48px\" /></svg><line stroke=\"black\" x1=\"50%\" x2=\"15.3846%\" y1=\"19.2px\" y2=\"48px\" /><svg width=\"69.2308%\" x=\"30.7692%\" y=\"48px\"><defs /><svg width=\"100%\" x=\"0\" y=\"0px\"><defs /><text text-anchor=\"middle\" x=\"50%\" y=\"16px\">N</text></svg><svg width=\"100%\" x=\"0%\" y=\"48px\"><defs /><svg width=\"100%\" x=\"0\" y=\"0px\"><defs /><text text-anchor=\"middle\" x=\"50%\" y=\"16px\">pajamas</text></svg></svg><line stroke=\"black\" x1=\"50%\" x2=\"50%\" y1=\"19.2px\" y2=\"48px\" /></svg><line stroke=\"black\" x1=\"50%\" x2=\"65.3846%\" y1=\"19.2px\" y2=\"48px\" /></svg><line stroke=\"black\" x1=\"50%\" x2=\"61.7647%\" y1=\"19.2px\" y2=\"48px\" /></svg><line stroke=\"black\" x1=\"50%\" x2=\"77.027%\" y1=\"19.2px\" y2=\"48px\" /></svg><line stroke=\"black\" x1=\"50%\" x2=\"54.878%\" y1=\"19.2px\" y2=\"48px\" /></svg>"
      ],
      "text/plain": [
       "Tree('S', [Tree('NP', ['I']), Tree('VP', [Tree('V', ['shot']), Tree('NP', [Tree('DT', ['an']), Tree('N', ['elephant'])]), Tree('PP', [Tree('P', ['in']), Tree('NP', [Tree('DT', ['my']), Tree('N', ['pajamas'])])])])])"
      ]
     },
     "execution_count": 30,
     "metadata": {},
     "output_type": "execute_result"
    }
   ],
   "source": [
    "treelist[1]"
   ]
  },
  {
   "cell_type": "markdown",
   "id": "19f74ea5",
   "metadata": {},
   "source": [
    "Since our grammar licenses two trees for this sentence, the sentence is said to be structurally\n",
    "ambiguous. \n",
    "\n",
    "Beware that the RecursiveDescentParser is unable to handle leftrecursive\n",
    "productions of the form `X -> X Y`"
   ]
  },
  {
   "cell_type": "markdown",
   "id": "d0938131",
   "metadata": {},
   "source": [
    "##### Dependency Grammar"
   ]
  },
  {
   "cell_type": "markdown",
   "id": "0bdb6465",
   "metadata": {},
   "source": [
    "![ ](https://www.nltk.org/images/depgraph0.png)"
   ]
  },
  {
   "cell_type": "code",
   "execution_count": 36,
   "id": "d7f6c7c5",
   "metadata": {},
   "outputs": [
    {
     "name": "stdout",
     "output_type": "stream",
     "text": [
      "Dependency grammar with 7 productions\n",
      "  'shot' -> 'I'\n",
      "  'shot' -> 'elephant'\n",
      "  'shot' -> 'in'\n",
      "  'elephant' -> 'an'\n",
      "  'elephant' -> 'in'\n",
      "  'in' -> 'pajamas'\n",
      "  'pajamas' -> 'my'\n"
     ]
    }
   ],
   "source": [
    "groucho_dep_grammar = nltk.DependencyGrammar.fromstring(\"\"\"\n",
    "... 'shot' -> 'I' | 'elephant' | 'in'\n",
    "... 'elephant' -> 'an' | 'in'\n",
    "... 'in' -> 'pajamas'\n",
    "... 'pajamas' -> 'my'\n",
    "... \"\"\")\n",
    "print(groucho_dep_grammar)"
   ]
  },
  {
   "cell_type": "code",
   "execution_count": 55,
   "id": "d4aab1c2",
   "metadata": {},
   "outputs": [],
   "source": [
    "pdp = nltk.ProjectiveDependencyParser(groucho_dep_grammar)\n",
    "sentence = nltk.word_tokenize('I shot an elephant in my pajamas')\n",
    "trees = list(pdp.parse(sent))"
   ]
  },
  {
   "cell_type": "code",
   "execution_count": 56,
   "id": "4f5a7291",
   "metadata": {},
   "outputs": [
    {
     "data": {
      "image/svg+xml": [
       "<svg baseProfile=\"full\" height=\"216px\" preserveAspectRatio=\"xMidYMid meet\" style=\"font-family: times, serif; font-weight: normal; font-style: normal; font-size: 16px;\" version=\"1.1\" viewBox=\"0,0,128.0,216.0\" width=\"128px\" xmlns=\"http://www.w3.org/2000/svg\" xmlns:ev=\"http://www.w3.org/2001/xml-events\" xmlns:xlink=\"http://www.w3.org/1999/xlink\"><defs /><svg width=\"100%\" x=\"0\" y=\"0px\"><defs /><text text-anchor=\"middle\" x=\"50%\" y=\"16px\">shot</text></svg><svg width=\"18.75%\" x=\"0%\" y=\"48px\"><defs /><svg width=\"100%\" x=\"0\" y=\"0px\"><defs /><text text-anchor=\"middle\" x=\"50%\" y=\"16px\">I</text></svg></svg><line stroke=\"black\" x1=\"50%\" x2=\"9.375%\" y1=\"19.2px\" y2=\"48px\" /><svg width=\"81.25%\" x=\"18.75%\" y=\"48px\"><defs /><svg width=\"100%\" x=\"0\" y=\"0px\"><defs /><text text-anchor=\"middle\" x=\"50%\" y=\"16px\">elephant</text></svg><svg width=\"30.7692%\" x=\"0%\" y=\"48px\"><defs /><svg width=\"100%\" x=\"0\" y=\"0px\"><defs /><text text-anchor=\"middle\" x=\"50%\" y=\"16px\">an</text></svg></svg><line stroke=\"black\" x1=\"50%\" x2=\"15.3846%\" y1=\"19.2px\" y2=\"48px\" /><svg width=\"69.2308%\" x=\"30.7692%\" y=\"48px\"><defs /><svg width=\"100%\" x=\"0\" y=\"0px\"><defs /><text text-anchor=\"middle\" x=\"50%\" y=\"16px\">in</text></svg><svg width=\"100%\" x=\"0%\" y=\"48px\"><defs /><svg width=\"100%\" x=\"0\" y=\"0px\"><defs /><text text-anchor=\"middle\" x=\"50%\" y=\"16px\">pajamas</text></svg><svg width=\"100%\" x=\"0%\" y=\"48px\"><defs /><svg width=\"100%\" x=\"0\" y=\"0px\"><defs /><text text-anchor=\"middle\" x=\"50%\" y=\"16px\">my</text></svg></svg><line stroke=\"black\" x1=\"50%\" x2=\"50%\" y1=\"19.2px\" y2=\"48px\" /></svg><line stroke=\"black\" x1=\"50%\" x2=\"50%\" y1=\"19.2px\" y2=\"48px\" /></svg><line stroke=\"black\" x1=\"50%\" x2=\"65.3846%\" y1=\"19.2px\" y2=\"48px\" /></svg><line stroke=\"black\" x1=\"50%\" x2=\"59.375%\" y1=\"19.2px\" y2=\"48px\" /></svg>"
      ],
      "text/plain": [
       "Tree('shot', ['I', Tree('elephant', ['an', Tree('in', [Tree('pajamas', ['my'])])])])"
      ]
     },
     "execution_count": 56,
     "metadata": {},
     "output_type": "execute_result"
    }
   ],
   "source": [
    "trees[0]"
   ]
  },
  {
   "cell_type": "code",
   "execution_count": 57,
   "id": "ed29cb02",
   "metadata": {},
   "outputs": [
    {
     "data": {
      "image/svg+xml": [
       "<svg baseProfile=\"full\" height=\"168px\" preserveAspectRatio=\"xMidYMid meet\" style=\"font-family: times, serif; font-weight: normal; font-style: normal; font-size: 16px;\" version=\"1.1\" viewBox=\"0,0,176.0,168.0\" width=\"176px\" xmlns=\"http://www.w3.org/2000/svg\" xmlns:ev=\"http://www.w3.org/2001/xml-events\" xmlns:xlink=\"http://www.w3.org/1999/xlink\"><defs /><svg width=\"100%\" x=\"0\" y=\"0px\"><defs /><text text-anchor=\"middle\" x=\"50%\" y=\"16px\">shot</text></svg><svg width=\"13.6364%\" x=\"0%\" y=\"48px\"><defs /><svg width=\"100%\" x=\"0\" y=\"0px\"><defs /><text text-anchor=\"middle\" x=\"50%\" y=\"16px\">I</text></svg></svg><line stroke=\"black\" x1=\"50%\" x2=\"6.81818%\" y1=\"19.2px\" y2=\"48px\" /><svg width=\"45.4545%\" x=\"13.6364%\" y=\"48px\"><defs /><svg width=\"100%\" x=\"0\" y=\"0px\"><defs /><text text-anchor=\"middle\" x=\"50%\" y=\"16px\">elephant</text></svg><svg width=\"100%\" x=\"0%\" y=\"48px\"><defs /><svg width=\"100%\" x=\"0\" y=\"0px\"><defs /><text text-anchor=\"middle\" x=\"50%\" y=\"16px\">an</text></svg></svg><line stroke=\"black\" x1=\"50%\" x2=\"50%\" y1=\"19.2px\" y2=\"48px\" /></svg><line stroke=\"black\" x1=\"50%\" x2=\"36.3636%\" y1=\"19.2px\" y2=\"48px\" /><svg width=\"40.9091%\" x=\"59.0909%\" y=\"48px\"><defs /><svg width=\"100%\" x=\"0\" y=\"0px\"><defs /><text text-anchor=\"middle\" x=\"50%\" y=\"16px\">in</text></svg><svg width=\"100%\" x=\"0%\" y=\"48px\"><defs /><svg width=\"100%\" x=\"0\" y=\"0px\"><defs /><text text-anchor=\"middle\" x=\"50%\" y=\"16px\">pajamas</text></svg><svg width=\"100%\" x=\"0%\" y=\"48px\"><defs /><svg width=\"100%\" x=\"0\" y=\"0px\"><defs /><text text-anchor=\"middle\" x=\"50%\" y=\"16px\">my</text></svg></svg><line stroke=\"black\" x1=\"50%\" x2=\"50%\" y1=\"19.2px\" y2=\"48px\" /></svg><line stroke=\"black\" x1=\"50%\" x2=\"50%\" y1=\"19.2px\" y2=\"48px\" /></svg><line stroke=\"black\" x1=\"50%\" x2=\"79.5455%\" y1=\"19.2px\" y2=\"48px\" /></svg>"
      ],
      "text/plain": [
       "Tree('shot', ['I', Tree('elephant', ['an']), Tree('in', [Tree('pajamas', ['my'])])])"
      ]
     },
     "execution_count": 57,
     "metadata": {},
     "output_type": "execute_result"
    }
   ],
   "source": [
    "trees[1]"
   ]
  },
  {
   "cell_type": "markdown",
   "id": "73cfe080",
   "metadata": {},
   "source": [
    "##### Summary\n",
    "- Sentences have internal organization that can be represented using a tree.\n",
    "- A grammar is a compact characterization of a potentially infinite set of sentences; we say that a tree is well-formed according to a grammar, or that a grammar licenses a tree.\n",
    "- A grammar is a formal model for describing whether a given phrase can be assigned a particular constituent or dependency structure.\n",
    "- Given a set of syntactic categories, a context-free grammar uses a set of productions to say how a phrase of some category A can be analyzed into a sequence of smaller parts. \n",
    "- A dependency grammar uses productions to specify what the dependents are of a given lexical head.\n",
    "- Syntactic ambiguity arises when one sentence has more than one syntactic analysis. \n",
    "- A parser is a procedure for finding one or more trees corresponding to a grammatically well-formed sentence."
   ]
  }
 ],
 "metadata": {
  "kernelspec": {
   "display_name": "Python 3 (ipykernel)",
   "language": "python",
   "name": "python3"
  },
  "language_info": {
   "codemirror_mode": {
    "name": "ipython",
    "version": 3
   },
   "file_extension": ".py",
   "mimetype": "text/x-python",
   "name": "python",
   "nbconvert_exporter": "python",
   "pygments_lexer": "ipython3",
   "version": "3.9.12"
  }
 },
 "nbformat": 4,
 "nbformat_minor": 5
}
