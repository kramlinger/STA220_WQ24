{
 "cells": [
  {
   "cell_type": "markdown",
   "id": "ff704263",
   "metadata": {
    "slideshow": {
     "slide_type": "slide"
    }
   },
   "source": [
    "# STA 220 Data & Web Technologies for Data Analysis\n",
    "\n",
    "### Lecture 15, 2/27/24, Visualizations for Classification"
   ]
  },
  {
   "cell_type": "markdown",
   "id": "a5b746e5",
   "metadata": {
    "slideshow": {
     "slide_type": "slide"
    }
   },
   "source": [
    "### Last weeks's topics\n",
    "- Classification: \n",
    "    - LDA\n",
    "    - Naive Bayes"
   ]
  },
  {
   "cell_type": "markdown",
   "id": "cf5cb87c",
   "metadata": {
    "slideshow": {
     "slide_type": "slide"
    }
   },
   "source": [
    "### Today's topics\n",
    "- Visualization for classification\n",
    "\n",
    "### References\n",
    "\n",
    "* Jakob Raymaekers & Peter J. Rousseeuw (2022): Silhouettes and Quasi Residual Plots for Neural\n",
    "Nets and Tree-based Classifiers, Journal of Computational and\n",
    "Graphical Statistics, 31:4, 1332-1343\n",
    "* Jakob Raymaekers, Peter J. Rousseeuw & Mia Hubert (2022): Class maps for visualizing\n",
    "classification results, Technometrics, 64 (2)"
   ]
  },
  {
   "cell_type": "markdown",
   "id": "98a2c547",
   "metadata": {
    "slideshow": {
     "slide_type": "slide"
    }
   },
   "source": [
    "For convenience, today's code is in __R__. The data set `data_floralbuds` contains six features and a label with four levels: `bud`, `branch`, `scales` and `support`. "
   ]
  },
  {
   "cell_type": "code",
   "execution_count": null,
   "id": "0d47be8b",
   "metadata": {},
   "outputs": [],
   "source": [
    "library(\"classmap\")"
   ]
  },
  {
   "cell_type": "code",
   "execution_count": null,
   "id": "8e58055b",
   "metadata": {},
   "outputs": [],
   "source": [
    "head(data_floralbuds, 3)"
   ]
  },
  {
   "cell_type": "code",
   "execution_count": null,
   "id": "34925ce5",
   "metadata": {
    "slideshow": {
     "slide_type": "-"
    }
   },
   "outputs": [],
   "source": [
    "summary(data_floralbuds)"
   ]
  },
  {
   "cell_type": "markdown",
   "id": "605f43ea",
   "metadata": {},
   "source": [
    "We are interested in classifying the observations. "
   ]
  },
  {
   "cell_type": "code",
   "execution_count": null,
   "id": "e3c75dbe",
   "metadata": {
    "slideshow": {
     "slide_type": "slide"
    }
   },
   "outputs": [],
   "source": [
    "require(\"MASS\")"
   ]
  },
  {
   "cell_type": "code",
   "execution_count": null,
   "id": "4e51b78e",
   "metadata": {},
   "outputs": [],
   "source": [
    "fit <- lda(y~., data=data_floralbuds) #linear discriminant analysis\n",
    "yhat <- predict(fit)"
   ]
  },
  {
   "cell_type": "code",
   "execution_count": null,
   "id": "83bace2c",
   "metadata": {},
   "outputs": [],
   "source": [
    "head(yhat$posterior, 3)"
   ]
  },
  {
   "cell_type": "markdown",
   "id": "a04e69ab",
   "metadata": {
    "slideshow": {
     "slide_type": "subslide"
    }
   },
   "source": [
    "Either explicitly or implicitly, most classifiers provide posterior probabilities (cf. the latent dirichlet allocation). "
   ]
  },
  {
   "cell_type": "code",
   "execution_count": null,
   "id": "a0ab0744",
   "metadata": {},
   "outputs": [],
   "source": [
    "head(yhat$class)"
   ]
  },
  {
   "cell_type": "code",
   "execution_count": null,
   "id": "9f91e062",
   "metadata": {},
   "outputs": [],
   "source": [
    "caret::confusionMatrix(yhat$class, data_floralbuds$y)$table"
   ]
  },
  {
   "cell_type": "code",
   "execution_count": null,
   "id": "9f96afce",
   "metadata": {
    "slideshow": {
     "slide_type": "subslide"
    }
   },
   "outputs": [],
   "source": [
    "require(viridis)\n",
    "vcrout <- vcr.da.train(data_floralbuds[,-7], data_floralbuds$y) #lda in in classmap"
   ]
  },
  {
   "cell_type": "code",
   "execution_count": null,
   "id": "bb5111c2",
   "metadata": {
    "slideshow": {
     "slide_type": "subslide"
    }
   },
   "outputs": [],
   "source": [
    "yhat <- factor(vcrout$pred, levels = unique(vcrout$pred))"
   ]
  },
  {
   "cell_type": "code",
   "execution_count": null,
   "id": "2f65ffc5",
   "metadata": {
    "slideshow": {
     "slide_type": "subslide"
    }
   },
   "outputs": [],
   "source": [
    "caret::confusionMatrix(yhat, data_floralbuds$y)$table"
   ]
  },
  {
   "cell_type": "code",
   "execution_count": null,
   "id": "1e0bdef4",
   "metadata": {},
   "outputs": [],
   "source": [
    "options(repr.plot.width=12, repr.plot.height=6)"
   ]
  },
  {
   "cell_type": "code",
   "execution_count": null,
   "id": "1a769e69",
   "metadata": {},
   "outputs": [],
   "source": [
    "stackedplot(vcrout, classCols=viridis::viridis(4), showOutliers = FALSE)"
   ]
  },
  {
   "cell_type": "markdown",
   "id": "698a206f",
   "metadata": {
    "slideshow": {
     "slide_type": "slide"
    }
   },
   "source": [
    "Suppose we have objects denoted by their index $i$ where $i = 1, \\dots, n$, and there are classes\n",
    "(labels, groups) $g$ with $g = 1, ..., G$. The target is thus a discrete variable with $G$ levels.\n",
    "Consider a case $i$ in the training set or a test set. \n",
    "\n",
    "Denote the posterior probabilities $\\hat{p}(i, g)$ of object $i$ belonging to each of the classes $g$, with\n",
    "$\\sum_{g}\\hat{p}(i, g) = 1$ for each $i$. "
   ]
  },
  {
   "cell_type": "markdown",
   "id": "270ae47c",
   "metadata": {
    "slideshow": {
     "slide_type": "-"
    }
   },
   "source": [
    "Now assume that object $i$ has a known given label $g_i$. We wish to measure to what extent\n",
    "the given label $g_i$ agrees with the classiffcation. For this purpose we denote the highest\n",
    "$\\hat{p}(i, g)$ attained by a class different from $g_i$ as\n",
    "$$\\tilde{p}(i) = max_g\\{\\hat{p}(i, g); g \\neq g_i\\}$$\n",
    "The class attaining this maximum can be seen as the best alternative class. \n",
    "If $\\hat{p}(i, g_i) > \\tilde{p}(i)$ it follows that $g_i$ attains the overall highest value of $\\hat{p}(i, g)$ \n",
    "so the classiffer agrees with the\n",
    "given class $g_i$. \n",
    "On the other hand, if $\\hat{p}(i, g_i) < \\tilde{p}(i)$ the classiffer will not assign object $i$ to\n",
    "class $g_i$."
   ]
  },
  {
   "cell_type": "markdown",
   "id": "6f660f2f",
   "metadata": {},
   "source": [
    "We now compute the conditional posterior *probability of the best alternative class* when\n",
    "comparing it with the given class $g_i$ as\n",
    "$$\n",
    "PAC(i) \n",
    "= \n",
    "\\frac{\\tilde{p}(i)}{\\hat{p}(i, g_i) + \\tilde{p}(i)}\n",
    "$$"
   ]
  },
  {
   "cell_type": "markdown",
   "id": "1cae26b9",
   "metadata": {
    "slideshow": {
     "slide_type": "subslide"
    }
   },
   "source": [
    "We will produce a silhouette plot to visualize the classification. For each $i$, the silhouette width is defined as \n",
    "$$\n",
    "s(i) = 1 - 2PAC(i).\n",
    "$$\n",
    "$s(i)$ ranges from $−1$ to $1$, with high values\n",
    "reflecting that the given class of case $i$ fits very well, and negative\n",
    "values indicating that the given class fits less well than the best\n",
    "alternative class."
   ]
  },
  {
   "cell_type": "code",
   "execution_count": null,
   "id": "e88a4519",
   "metadata": {},
   "outputs": [],
   "source": [
    "silplot(vcrout, classCols=viridis::viridis(4))"
   ]
  },
  {
   "cell_type": "markdown",
   "id": "6a12b18a",
   "metadata": {
    "slideshow": {
     "slide_type": "subslide"
    }
   },
   "source": [
    "Another graphical display is obtained by plotting the PAC versus\n",
    "a relevant data variable. This is not unlike plotting the absolute\n",
    "residuals in regression, since small values of $PAC(i)$ indicate\n",
    "that the model fits the data point nearly perfectly, whereas a\n",
    "high $PAC(i)$ alerts us to a poorly fitted data point."
   ]
  },
  {
   "cell_type": "code",
   "execution_count": null,
   "id": "d4f6c5ed",
   "metadata": {},
   "outputs": [],
   "source": [
    "label = 'bud' # bud, branch, scales, support\n",
    "PAC <- vcrout$PAC[vcrout$y==label] \n",
    "feat <- data_floralbuds[vcrout$y==label,3] # feature does not have to be part of the classification\n",
    "qresplot(PAC, feat, plotErrorBars = TRUE)"
   ]
  },
  {
   "cell_type": "markdown",
   "id": "ca15b306",
   "metadata": {
    "slideshow": {
     "slide_type": "subslide"
    }
   },
   "source": [
    "The data feature on the x-axis does not have to be part of the classification\n",
    "model, and it could also be a quantity derived from the data\n",
    "features such as a principal component score or a prediction,\n",
    "or just the index i of the data point if the data were recorded\n",
    "sequentially."
   ]
  },
  {
   "cell_type": "markdown",
   "id": "bfd21cd9",
   "metadata": {
    "slideshow": {
     "slide_type": "slide"
    }
   },
   "source": [
    "Class maps are quasi residual plots versus a feature reflecting how far\n",
    "each case is from its class. This is based on some distance\n",
    "measure $D(i, g)$ of a case $i$ relative to a class $g$. \n",
    "\n",
    "Next we estimate the cumulative distribution function of\n",
    "$D(x, g)$ where $x$ is a random object generated from class $g$ . The\n",
    "farness of the object $i$ to the class $g$ is then defined as\n",
    "$$\n",
    "farness(i, g) = P[D(x, g) \\leq D(i, g)].\n",
    "$$"
   ]
  },
  {
   "cell_type": "code",
   "execution_count": null,
   "id": "37a282e4",
   "metadata": {},
   "outputs": [],
   "source": [
    "classmap(vcrout, 'bud', classCols=viridis::viridis(4)) # bud, branch, scales, support"
   ]
  },
  {
   "cell_type": "markdown",
   "id": "8924ae79",
   "metadata": {
    "slideshow": {
     "slide_type": "slide"
    }
   },
   "source": [
    "Now, consider another data set. "
   ]
  },
  {
   "cell_type": "code",
   "execution_count": null,
   "id": "f7ab4695",
   "metadata": {},
   "outputs": [],
   "source": [
    "head(data_titanic, 3)"
   ]
  },
  {
   "cell_type": "code",
   "execution_count": null,
   "id": "7868f25c",
   "metadata": {},
   "outputs": [],
   "source": [
    "data_titanic <- na.omit(data_titanic)"
   ]
  },
  {
   "cell_type": "code",
   "execution_count": null,
   "id": "af8ba953",
   "metadata": {
    "slideshow": {
     "slide_type": "subslide"
    }
   },
   "outputs": [],
   "source": [
    "help(data_titanic)"
   ]
  },
  {
   "cell_type": "code",
   "execution_count": null,
   "id": "a7f94c2a",
   "metadata": {
    "slideshow": {
     "slide_type": "subslide"
    }
   },
   "outputs": [],
   "source": [
    "traindata <- data_titanic[which(data_titanic$dataType == \"train\"), -13]\n",
    "str(traindata); table(traindata$y)\n",
    "set.seed(123) # rpart is not deterministic"
   ]
  },
  {
   "cell_type": "markdown",
   "id": "e2f8150c",
   "metadata": {
    "slideshow": {
     "slide_type": "subslide"
    }
   },
   "source": [
    "First, we will consider a tree-based classification. "
   ]
  },
  {
   "cell_type": "code",
   "execution_count": null,
   "id": "9d5a5828",
   "metadata": {
    "slideshow": {
     "slide_type": "-"
    }
   },
   "outputs": [],
   "source": [
    "rpart.out <- rpart::rpart(y ~ Pclass + Sex + SibSp + Parch + Fare + Embarked, \n",
    "                   data = data_titanic, method = 'class', model = TRUE)"
   ]
  },
  {
   "cell_type": "code",
   "execution_count": null,
   "id": "d8b81f87",
   "metadata": {
    "slideshow": {
     "slide_type": "subslide"
    }
   },
   "outputs": [],
   "source": [
    "rpart.plot::rpart.plot(rpart.out)"
   ]
  },
  {
   "cell_type": "markdown",
   "id": "4f39f301",
   "metadata": {
    "slideshow": {
     "slide_type": "subslide"
    }
   },
   "source": [
    "Be careful in how to read the tree. "
   ]
  },
  {
   "cell_type": "code",
   "execution_count": null,
   "id": "5b1879b7",
   "metadata": {},
   "outputs": [],
   "source": [
    "mean(data_titanic$y=='survived')"
   ]
  },
  {
   "cell_type": "code",
   "execution_count": null,
   "id": "408c403e",
   "metadata": {},
   "outputs": [],
   "source": [
    "mean((data_titanic$y=='survived')[data_titanic['Sex']=='male'])"
   ]
  },
  {
   "cell_type": "code",
   "execution_count": null,
   "id": "7098b3ac",
   "metadata": {},
   "outputs": [],
   "source": [
    "sum(data_titanic['Sex']!='male' & data_titanic['Pclass']>=3 & data_titanic['Fare']>=23) #few obs"
   ]
  },
  {
   "cell_type": "code",
   "execution_count": null,
   "id": "eb304f02",
   "metadata": {
    "slideshow": {
     "slide_type": "slide"
    }
   },
   "outputs": [],
   "source": [
    "mytype <- list(nominal = c(\"Name\", \"Sex\", \"Ticket\", \"Cabin\", \"Embarked\"), ordratio = c(\"Pclass\"))\n",
    "vcrtrain <- vcr.rpart.train(data_titanic[, -12], data_titanic$y, rpart.out, mytype)"
   ]
  },
  {
   "cell_type": "code",
   "execution_count": null,
   "id": "61e02061",
   "metadata": {},
   "outputs": [],
   "source": [
    "confmat.vcr(vcrtrain)"
   ]
  },
  {
   "cell_type": "code",
   "execution_count": null,
   "id": "298616d7",
   "metadata": {},
   "outputs": [],
   "source": [
    "stackedplot(vcrtrain, classCols=c(2,4))"
   ]
  },
  {
   "cell_type": "code",
   "execution_count": null,
   "id": "ac2bbb96",
   "metadata": {
    "slideshow": {
     "slide_type": "subslide"
    }
   },
   "outputs": [],
   "source": [
    "silplot(vcrtrain, classCols = c(2, 4))"
   ]
  },
  {
   "cell_type": "code",
   "execution_count": null,
   "id": "d3efe500",
   "metadata": {
    "slideshow": {
     "slide_type": "subslide"
    }
   },
   "outputs": [],
   "source": [
    "classmap(vcrtrain, \"casualty\", classCols = c(2, 4))"
   ]
  },
  {
   "cell_type": "code",
   "execution_count": null,
   "id": "44ecd532",
   "metadata": {
    "slideshow": {
     "slide_type": "subslide"
    }
   },
   "outputs": [],
   "source": [
    "classmap(vcrtrain, \"survived\", classCols = c(2, 4))"
   ]
  },
  {
   "cell_type": "markdown",
   "id": "ec5130a5",
   "metadata": {
    "slideshow": {
     "slide_type": "slide"
    }
   },
   "source": [
    "Compare these visualizations to a logistic regression. "
   ]
  },
  {
   "cell_type": "code",
   "execution_count": null,
   "id": "df9d8083",
   "metadata": {
    "scrolled": true
   },
   "outputs": [],
   "source": [
    "str(vcrtrain)"
   ]
  },
  {
   "cell_type": "markdown",
   "id": "965f8fe9",
   "metadata": {
    "slideshow": {
     "slide_type": "subslide"
    }
   },
   "source": [
    "Update `pred`, `predint` and `PAC` for the logistic regression. "
   ]
  },
  {
   "cell_type": "code",
   "execution_count": null,
   "id": "c8a23f90",
   "metadata": {
    "scrolled": true,
    "slideshow": {
     "slide_type": "-"
    }
   },
   "outputs": [],
   "source": [
    "str(vcrtrain)"
   ]
  },
  {
   "cell_type": "code",
   "execution_count": null,
   "id": "bde30954",
   "metadata": {
    "slideshow": {
     "slide_type": "slide"
    }
   },
   "outputs": [],
   "source": [
    "vcrtrain2 <- vcrtrain\n",
    "fit <- glm(y~Pclass+Sex+Age+SibSp+Parch,family=binomial(link = logit),data=data_titanic)\n",
    "pred <- fitted(fit) "
   ]
  },
  {
   "cell_type": "code",
   "execution_count": null,
   "id": "834de1b8",
   "metadata": {
    "slideshow": {
     "slide_type": "-"
    }
   },
   "outputs": [],
   "source": [
    "head(pred)"
   ]
  },
  {
   "cell_type": "code",
   "execution_count": null,
   "id": "6f144c8d",
   "metadata": {
    "slideshow": {
     "slide_type": "-"
    }
   },
   "outputs": [],
   "source": [
    "vcrtrain2$pred <- ifelse(pred<0.5, \"casualty\", \"survived\")\n",
    "head(vcrtrain2$pred)"
   ]
  },
  {
   "cell_type": "code",
   "execution_count": null,
   "id": "ef5cd330",
   "metadata": {
    "slideshow": {
     "slide_type": "-"
    }
   },
   "outputs": [],
   "source": [
    "head(data_titanic$y)"
   ]
  },
  {
   "cell_type": "code",
   "execution_count": null,
   "id": "586185d2",
   "metadata": {},
   "outputs": [],
   "source": [
    "# manually add to vcrtrain2 the predictions ... \n",
    "vcrtrain2$predint <- ifelse(pred<0.5, 1, 2)\n",
    "head(vcrtrain2$predint)"
   ]
  },
  {
   "cell_type": "code",
   "execution_count": null,
   "id": "2b93b83f",
   "metadata": {},
   "outputs": [],
   "source": [
    "# ... and compute success probs\n",
    "vcrtrain2$PAC <- ifelse(data_titanic$y=='casualty', pred, 1-pred) \n",
    "head(vcrtrain2$PAC)"
   ]
  },
  {
   "cell_type": "code",
   "execution_count": null,
   "id": "679e97f8",
   "metadata": {
    "slideshow": {
     "slide_type": "subslide"
    }
   },
   "outputs": [],
   "source": [
    "confmat.vcr(vcrtrain)"
   ]
  },
  {
   "cell_type": "code",
   "execution_count": null,
   "id": "05e3188b",
   "metadata": {},
   "outputs": [],
   "source": [
    "caret::confusionMatrix(data_titanic$y[!is.na(data_titanic$Age)], factor(vcrtrain2$pred), \n",
    "                       dnn = c(\"Reference\", \"Prediction\"))$table # same as confmat.vcr(vcrtrain2)"
   ]
  },
  {
   "cell_type": "code",
   "execution_count": null,
   "id": "2e48ea23",
   "metadata": {
    "slideshow": {
     "slide_type": "subslide"
    }
   },
   "outputs": [],
   "source": [
    "gridExtra::grid.arrange(\n",
    "    stackedplot(vcrtrain, classCols=c(2,4)),\n",
    "    stackedplot(vcrtrain2, classCols=c(2,4)), ncol = 2)"
   ]
  },
  {
   "cell_type": "code",
   "execution_count": null,
   "id": "70a10cfc",
   "metadata": {
    "slideshow": {
     "slide_type": "subslide"
    }
   },
   "outputs": [],
   "source": [
    "gridExtra::grid.arrange(gridExtra::arrangeGrob(\n",
    "    silplot(vcrtrain, classCols = c(2, 4)), \n",
    "    silplot(vcrtrain2, classCols = c(2, 4)), ncol=2))"
   ]
  },
  {
   "cell_type": "code",
   "execution_count": null,
   "id": "32a3465f",
   "metadata": {
    "slideshow": {
     "slide_type": "subslide"
    }
   },
   "outputs": [],
   "source": [
    "par(mfrow = c(1,2))\n",
    "classmap(vcrtrain, \"survived\", classCols = c(2, 4)) # survived #casualty\n",
    "classmap(vcrtrain2, \"survived\", classCols = c(2, 4))"
   ]
  },
  {
   "cell_type": "markdown",
   "id": "216a8d5b",
   "metadata": {
    "slideshow": {
     "slide_type": "subslide"
    }
   },
   "source": [
    "Lets investigate the mis-classification for non-far observations for `casualty`. "
   ]
  },
  {
   "cell_type": "code",
   "execution_count": null,
   "id": "ad3b8a4b",
   "metadata": {
    "slideshow": {
     "slide_type": "-"
    }
   },
   "outputs": [],
   "source": [
    "# str(vcrtrain2)"
   ]
  },
  {
   "cell_type": "code",
   "execution_count": null,
   "id": "04b7487d",
   "metadata": {
    "slideshow": {
     "slide_type": "-"
    }
   },
   "outputs": [],
   "source": [
    "cas <- vcrtrain2$y=='casualty' #& vcrtrain2$farness==0\n",
    "idx <- which.max(vcrtrain2$farness[cas]); idx"
   ]
  },
  {
   "cell_type": "code",
   "execution_count": null,
   "id": "be2ae8c2",
   "metadata": {
    "slideshow": {
     "slide_type": "-"
    }
   },
   "outputs": [],
   "source": [
    "vcrtrain2$X[cas,][idx,]"
   ]
  },
  {
   "cell_type": "code",
   "execution_count": null,
   "id": "08f2729f",
   "metadata": {
    "slideshow": {
     "slide_type": "-"
    }
   },
   "outputs": [],
   "source": [
    "vcrtrain2$y[cas][idx]"
   ]
  },
  {
   "cell_type": "markdown",
   "id": "e390ae33",
   "metadata": {
    "slideshow": {
     "slide_type": "subslide"
    }
   },
   "source": [
    "Her fate is statistically unlikely, but well-known and documented ([wiki](https://en.wikipedia.org/wiki/Ida_Straus)). \n",
    "\n",
    ">  _We have lived together for many years. Where you go, I go._\n"
   ]
  },
  {
   "cell_type": "code",
   "execution_count": null,
   "id": "9fc35943",
   "metadata": {
    "slideshow": {
     "slide_type": "subslide"
    }
   },
   "outputs": [],
   "source": [
    "index = vcrtrain$X$Sex=='male'\n",
    "index2 = data_titanic$Sex=='male' \n",
    "par(mfrow = c(1,2))\n",
    "qresplot(vcrtrain$PAC[index], vcrtrain$X$Age[index], plotErrorBars = TRUE)\n",
    "qresplot(vcrtrain2$PAC[index2], data_titanic$Age[index], plotErrorBars = TRUE)"
   ]
  },
  {
   "cell_type": "code",
   "execution_count": null,
   "id": "87f940e7",
   "metadata": {
    "slideshow": {
     "slide_type": "slide"
    }
   },
   "outputs": [],
   "source": [
    "require(\"pROC\")"
   ]
  },
  {
   "cell_type": "code",
   "execution_count": null,
   "id": "b45d1974",
   "metadata": {},
   "outputs": [],
   "source": [
    "roc1 <- roc(fit$y, pred)\n",
    "auc(roc1)"
   ]
  },
  {
   "cell_type": "code",
   "execution_count": null,
   "id": "507486f0",
   "metadata": {},
   "outputs": [],
   "source": [
    "head(probs <- predict(rpart.out, type = \"prob\")[,1])"
   ]
  },
  {
   "cell_type": "code",
   "execution_count": null,
   "id": "eb6aace2",
   "metadata": {},
   "outputs": [],
   "source": [
    "roc0 <- roc(data_titanic$y,probs)\n",
    "auc(roc0)"
   ]
  },
  {
   "cell_type": "code",
   "execution_count": null,
   "id": "e7fe722a",
   "metadata": {
    "slideshow": {
     "slide_type": "subslide"
    }
   },
   "outputs": [],
   "source": [
    "plot(roc0)\n",
    "plot(roc1, col = 2, add = T)"
   ]
  },
  {
   "cell_type": "markdown",
   "id": "f5624b41",
   "metadata": {
    "slideshow": {
     "slide_type": "slide"
    }
   },
   "source": [
    "### Summary\n",
    "\n",
    "The proposed visualizations focus on the cases in a classification. The new silhouette plot describes the strength of each object’s classification, grouped by class. Quasi residual plots yield other insights, such as trends in subsets of the data like the effect of age for male passengers on the Titanic. The class map provides additional information, as it can tell us which cases lie between classes, which cases are far from their given class, and some cases maybe far from all classes. The class map allowed us to distinguish between feature noise and label noise. The displays also drew our attention to atypical cases that were inspected in more detail, providing further insights in the data. "
   ]
  }
 ],
 "metadata": {
  "celltoolbar": "Slideshow",
  "kernelspec": {
   "display_name": "R",
   "language": "R",
   "name": "ir"
  },
  "language_info": {
   "codemirror_mode": "r",
   "file_extension": ".r",
   "mimetype": "text/x-r-source",
   "name": "R",
   "pygments_lexer": "r",
   "version": "4.3.1"
  },
  "vscode": {
   "interpreter": {
    "hash": "b2b12ec50b0a525a62abe739e766b0c808eccd181e3f804cedbbca00f4d5b392"
   }
  }
 },
 "nbformat": 4,
 "nbformat_minor": 5
}
