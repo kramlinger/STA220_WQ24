{
 "cells": [
  {
   "cell_type": "markdown",
   "id": "ff704263",
   "metadata": {
    "slideshow": {
     "slide_type": "slide"
    }
   },
   "source": [
    "# STA 220 Data & Web Technologies for Data Analysis\n",
    "\n",
    "### Lecture 1, 1/9/24, Memory handling\n"
   ]
  },
  {
   "cell_type": "markdown",
   "id": "522ed175",
   "metadata": {
    "slideshow": {
     "slide_type": "slide"
    }
   },
   "source": [
    "### Today's topics\n",
    " - Course outline\n",
    " - Memory Handling in Python\n",
    "     - Stack and Heap\n",
    "     - Types\n",
    "     - Reference Semantics\n",
    "     - Interning"
   ]
  },
  {
   "cell_type": "markdown",
   "id": "4f4d634f",
   "metadata": {
    "slideshow": {
     "slide_type": "slide"
    }
   },
   "source": [
    "### Course Outline\n",
    "\n",
    "In this course we will learn how to acquire and process publicly available information from the internet. To this end, we will inspect the structure of websites, monitor their communication with servers, and retrieve the data we are interested in. The acquired data is then processed for further analysis, i.e., brought into tidy form, and visualized using static and interactive methods. Natural language data is processed to obtain insights into its topics or sentiments.\n"
   ]
  },
  {
   "cell_type": "markdown",
   "id": "a01bdbdb",
   "metadata": {
    "slideshow": {
     "slide_type": "slide"
    }
   },
   "source": [
    "The final grade is determined by \n",
    "- homework assignments (40%),\n",
    "- project due March 20th (60%).\n",
    "\n",
    "For comprehensive and updated information about the course, please consult [Canvas](https://canvas.ucdavis.edu/courses/866299).  \n",
    "\n",
    "The project will be collaborative work with two to three group members. You will use the methods learn in this class to procure a data set, preferrably from multiple sources, and process it to make it accessible for further investigation. This involves displaying its properties by visual means, so that statistical hypotheses can be formed. "
   ]
  },
  {
   "cell_type": "markdown",
   "id": "7ef85869",
   "metadata": {
    "slideshow": {
     "slide_type": "slide"
    }
   },
   "source": [
    "All material of this course will be made available online [GitHub](https://github.com/kramlinger/STA220_WQ24). Use [Piazza](https://piazza.com/class/lr575o6i3nk330/), for any inquiries regarding organization, homework or lectures. We will monitor this site M-F during business hours. Please do not write emails! Screen recordings and all other class related administrative information will be made available on Canvas. \n",
    "\n",
    "Office hours: \n",
    "* Peter Kramlinger: T 11-12 AM, MSB 1143\n",
    "* Sophia Sun, t.b.a."
   ]
  },
  {
   "cell_type": "markdown",
   "id": "0ef2316b",
   "metadata": {
    "slideshow": {
     "slide_type": "slide"
    }
   },
   "source": [
    "#### Ethics\n",
    "\n",
    "This is a programming class. Using assistance is part of programming and is encouraged. This can be AI based, or from online sources (e.g., [stackoverflow](https://stackoverflow.com/questions)). \n",
    "\n",
    "However, you will be graded by your proficiency in coding. In all assignments, make sure that you display your own contribution. Submitting AI generated code, answers from online sources, or even classmates' solutions will not be enough to pass the course. Furthermore, if you pass off someone else's work as your own, then you are engaging in academic misconduct. \n"
   ]
  },
  {
   "cell_type": "markdown",
   "id": "45d3dec1",
   "metadata": {
    "slideshow": {
     "slide_type": "slide"
    }
   },
   "source": [
    "### Stack and Heap"
   ]
  },
  {
   "cell_type": "code",
   "execution_count": 1,
   "id": "c1155bb4",
   "metadata": {
    "slideshow": {
     "slide_type": "-"
    }
   },
   "outputs": [
    {
     "data": {
      "text/plain": [
       "bool"
      ]
     },
     "execution_count": 1,
     "metadata": {},
     "output_type": "execute_result"
    }
   ],
   "source": [
    "x = True\n",
    "type(x)"
   ]
  },
  {
   "cell_type": "markdown",
   "id": "168dcdf3",
   "metadata": {},
   "source": [
    "`x` is a variable, which corresponds to an <kbd>bool</kbd> object with value `True`. The variable itself holds merely a reference to a specific object. This reference is stored in local memory (the *stack*). Our compiler takes care in allocating stack memory, we don't have to do that. \n",
    "\n",
    "The <kbd>bool</kbd>-object and its value are stored on the random access memory (RAM, the *heap*). We can access the address of the object on the heap (and, conversely, the refrence on the stack): "
   ]
  },
  {
   "cell_type": "code",
   "execution_count": 2,
   "id": "3b7802d9",
   "metadata": {},
   "outputs": [
    {
     "data": {
      "text/plain": [
       "'0x1011e7530'"
      ]
     },
     "execution_count": 2,
     "metadata": {},
     "output_type": "execute_result"
    }
   ],
   "source": [
    "hex(id(x))"
   ]
  },
  {
   "cell_type": "code",
   "execution_count": 3,
   "id": "5e4ff36c",
   "metadata": {},
   "outputs": [
    {
     "data": {
      "text/plain": [
       "'0x7facf8bff2d0'"
      ]
     },
     "execution_count": 3,
     "metadata": {},
     "output_type": "execute_result"
    }
   ],
   "source": [
    "y = float(x)\n",
    "hex(id(y))"
   ]
  },
  {
   "cell_type": "markdown",
   "id": "e0c86dc6",
   "metadata": {
    "slideshow": {
     "slide_type": "slide"
    }
   },
   "source": [
    "In Python, we can change the type of a variable."
   ]
  },
  {
   "cell_type": "code",
   "execution_count": 4,
   "id": "e8af07cd",
   "metadata": {},
   "outputs": [
    {
     "data": {
      "text/plain": [
       "'0x1011e7530'"
      ]
     },
     "execution_count": 4,
     "metadata": {},
     "output_type": "execute_result"
    }
   ],
   "source": [
    "hex(id(x))"
   ]
  },
  {
   "cell_type": "code",
   "execution_count": 5,
   "id": "abeef072",
   "metadata": {},
   "outputs": [
    {
     "data": {
      "text/plain": [
       "int"
      ]
     },
     "execution_count": 5,
     "metadata": {},
     "output_type": "execute_result"
    }
   ],
   "source": [
    "x = int(x)\n",
    "type(x)"
   ]
  },
  {
   "cell_type": "code",
   "execution_count": 6,
   "id": "16a0d9a0",
   "metadata": {},
   "outputs": [
    {
     "data": {
      "text/plain": [
       "'0x7fad2802e930'"
      ]
     },
     "execution_count": 6,
     "metadata": {},
     "output_type": "execute_result"
    }
   ],
   "source": [
    "hex(id(x))"
   ]
  },
  {
   "cell_type": "markdown",
   "id": "1f756ea0",
   "metadata": {
    "slideshow": {
     "slide_type": "slide"
    }
   },
   "source": [
    "<img src=\"../images/memory1.png\" alt=\"\" width=\"1000\"/>"
   ]
  },
  {
   "cell_type": "markdown",
   "id": "b33451dd",
   "metadata": {},
   "source": [
    "As soon as the `x`-variable, which previously referenced to the <kbd>bool</kbd> object is out of scope (either by deletion or recasting), the object on the heap is ready to be overwritten by the garbage collector. \n",
    "\n"
   ]
  },
  {
   "cell_type": "markdown",
   "id": "3c641a41",
   "metadata": {
    "slideshow": {
     "slide_type": "slide"
    }
   },
   "source": [
    "Let's work through the phrases: *Everything in Python is an object*. Some basic default objects (*types*) are \n",
    "\n",
    "- Numeric: <kbd>int</kbd>, <kbd>floats</kbd>, <kbd>complex</kbd>\n",
    "- Boolean: <kbd>bool</kbd>\n",
    "- String: <kbd>str</kbd>\n",
    "- Sequence: <kbd>list</kbd>, <kbd>tuple</kbd>, <kbd>range</kbd>\n",
    "- Mapping: <kbd>dict</kbd>\n",
    "\n",
    "The function `sys.getsizeof` ([docs](https://docs.python.org/3/library/sys.html?highlight=getsizeof#sys.getsizeof)) returns the size in bytes of the object the variable points to. "
   ]
  },
  {
   "cell_type": "code",
   "execution_count": 7,
   "id": "1c6ff0aa",
   "metadata": {},
   "outputs": [
    {
     "data": {
      "text/plain": [
       "28"
      ]
     },
     "execution_count": 7,
     "metadata": {},
     "output_type": "execute_result"
    }
   ],
   "source": [
    "import sys\n",
    "sys.getsizeof(x)"
   ]
  },
  {
   "cell_type": "code",
   "execution_count": 8,
   "id": "ce0d41c5",
   "metadata": {},
   "outputs": [
    {
     "data": {
      "text/plain": [
       "24"
      ]
     },
     "execution_count": 8,
     "metadata": {},
     "output_type": "execute_result"
    }
   ],
   "source": [
    "sys.getsizeof(y)"
   ]
  },
  {
   "cell_type": "markdown",
   "id": "b0e02e1e",
   "metadata": {
    "slideshow": {
     "slide_type": "slide"
    }
   },
   "source": [
    "A <kbd>float</kbd> is less expensive than an <kbd>integer</kbd>. This is because <kbd>integer</kbd> stores additional information about size together with the actual value. The larger the integer, the more memory required. "
   ]
  },
  {
   "cell_type": "code",
   "execution_count": 9,
   "id": "c2a27001",
   "metadata": {},
   "outputs": [
    {
     "data": {
      "text/plain": [
       "36"
      ]
     },
     "execution_count": 9,
     "metadata": {},
     "output_type": "execute_result"
    }
   ],
   "source": [
    "sys.getsizeof(100 ** 10)"
   ]
  },
  {
   "cell_type": "code",
   "execution_count": 10,
   "id": "b0d70e59",
   "metadata": {},
   "outputs": [
    {
     "data": {
      "text/plain": [
       "24"
      ]
     },
     "execution_count": 10,
     "metadata": {},
     "output_type": "execute_result"
    }
   ],
   "source": [
    "sys.getsizeof(100.0 ** 10)"
   ]
  },
  {
   "cell_type": "markdown",
   "id": "9c373a3d",
   "metadata": {
    "slideshow": {
     "slide_type": "slide"
    }
   },
   "source": [
    "However, <kbd>integer</kbd> can store larger values than <kbd>float</kbd>. "
   ]
  },
  {
   "cell_type": "code",
   "execution_count": 11,
   "id": "fbe6bb5f",
   "metadata": {},
   "outputs": [
    {
     "data": {
      "text/plain": [
       "int"
      ]
     },
     "execution_count": 11,
     "metadata": {},
     "output_type": "execute_result"
    }
   ],
   "source": [
    "x = 500 ** 500 \n",
    "type(x)"
   ]
  },
  {
   "cell_type": "code",
   "execution_count": 12,
   "id": "65f89f7a",
   "metadata": {},
   "outputs": [
    {
     "data": {
      "text/plain": [
       "305493636349960468205197939321361769978940274057232666389361390928129162652472045770185723510801522825687515269359046715531785342780428396973513311420091788963072442053377285222203558881953188370081650866793017948791366338993705251636497892270212003524508209121908744820211960149463721109340307985507678283651836204093399373959982767701148986816406250000000000000000000000000000000000000000000000000000000000000000000000000000000000000000000000000000000000000000000000000000000000000000000000000000000000000000000000000000000000000000000000000000000000000000000000000000000000000000000000000000000000000000000000000000000000000000000000000000000000000000000000000000000000000000000000000000000000000000000000000000000000000000000000000000000000000000000000000000000000000000000000000000000000000000000000000000000000000000000000000000000000000000000000000000000000000000000000000000000000000000000000000000000000000000000000000000000000000000000000000000000000000000000000000000000000000000000000000000000000000000000000000000000000000000000000000000000000000000000000000000000000000000000000000000000000000000000000000000000000000000000000000000000000000000000000000000000000000000000000000000000000000000000000000000000000000000000000000000000000000000000000000000000000000000000000000000000000000000000000000000000000000000000000000000000000000000"
      ]
     },
     "execution_count": 12,
     "metadata": {},
     "output_type": "execute_result"
    }
   ],
   "source": [
    "x"
   ]
  },
  {
   "cell_type": "code",
   "execution_count": 13,
   "id": "91820f76",
   "metadata": {},
   "outputs": [
    {
     "data": {
      "text/plain": [
       "624"
      ]
     },
     "execution_count": 13,
     "metadata": {},
     "output_type": "execute_result"
    }
   ],
   "source": [
    "sys.getsizeof(x)"
   ]
  },
  {
   "cell_type": "code",
   "execution_count": 14,
   "id": "8afb2844",
   "metadata": {
    "scrolled": true
   },
   "outputs": [
    {
     "ename": "OverflowError",
     "evalue": "int too large to convert to float",
     "output_type": "error",
     "traceback": [
      "\u001b[0;31m---------------------------------------------------------------------------\u001b[0m",
      "\u001b[0;31mOverflowError\u001b[0m                             Traceback (most recent call last)",
      "\u001b[0;32m/var/folders/fh/hvkm2z9n7631q5058px_kqg80000gr/T/ipykernel_17844/697041749.py\u001b[0m in \u001b[0;36m<module>\u001b[0;34m\u001b[0m\n\u001b[0;32m----> 1\u001b[0;31m \u001b[0mfloat\u001b[0m\u001b[0;34m(\u001b[0m\u001b[0mx\u001b[0m\u001b[0;34m)\u001b[0m\u001b[0;34m\u001b[0m\u001b[0;34m\u001b[0m\u001b[0m\n\u001b[0m",
      "\u001b[0;31mOverflowError\u001b[0m: int too large to convert to float"
     ]
    }
   ],
   "source": [
    "float(x)"
   ]
  },
  {
   "cell_type": "markdown",
   "id": "0d4ff389",
   "metadata": {
    "slideshow": {
     "slide_type": "slide"
    }
   },
   "source": [
    "The function `range(start, stop, step)` ([docs](https://docs.python.org/3/library/stdtypes.html#range)) creates a <kbd>range</kbd> type object. It starts at `start` and ends at `stop - 1`, but does not instantiate an object of that length. "
   ]
  },
  {
   "cell_type": "code",
   "execution_count": 15,
   "id": "2e4c49cb",
   "metadata": {},
   "outputs": [
    {
     "data": {
      "text/plain": [
       "48"
      ]
     },
     "execution_count": 15,
     "metadata": {},
     "output_type": "execute_result"
    }
   ],
   "source": [
    "x = range(0, 500**500)\n",
    "sys.getsizeof(x)"
   ]
  },
  {
   "cell_type": "code",
   "execution_count": 16,
   "id": "e40b58bd",
   "metadata": {
    "scrolled": false
   },
   "outputs": [
    {
     "data": {
      "text/plain": [
       "624"
      ]
     },
     "execution_count": 16,
     "metadata": {},
     "output_type": "execute_result"
    }
   ],
   "source": [
    "sys.getsizeof(500**500)"
   ]
  },
  {
   "cell_type": "markdown",
   "id": "03978048",
   "metadata": {
    "slideshow": {
     "slide_type": "slide"
    }
   },
   "source": [
    "A <kbd>tuple</kbd> is an ordered collection of values. Think of coordinates. <kbd>tuple</kbd> is immutable, which means they can't be changed after they're created."
   ]
  },
  {
   "cell_type": "code",
   "execution_count": 18,
   "id": "99a4affa",
   "metadata": {},
   "outputs": [
    {
     "data": {
      "text/plain": [
       "(1, 3.0, 'horse')"
      ]
     },
     "execution_count": 18,
     "metadata": {},
     "output_type": "execute_result"
    }
   ],
   "source": [
    "x = (1, 3.0, \"horse\") # parenthesis are optional, but should be used for clarity \n",
    "x"
   ]
  },
  {
   "cell_type": "code",
   "execution_count": 19,
   "id": "f4751e72",
   "metadata": {},
   "outputs": [
    {
     "data": {
      "text/plain": [
       "tuple"
      ]
     },
     "execution_count": 19,
     "metadata": {},
     "output_type": "execute_result"
    }
   ],
   "source": [
    "type(x)"
   ]
  },
  {
   "cell_type": "code",
   "execution_count": 20,
   "id": "f8b186cb",
   "metadata": {},
   "outputs": [
    {
     "data": {
      "text/plain": [
       "64"
      ]
     },
     "execution_count": 20,
     "metadata": {},
     "output_type": "execute_result"
    }
   ],
   "source": [
    "sys.getsizeof(x)"
   ]
  },
  {
   "cell_type": "markdown",
   "id": "f717e01c",
   "metadata": {
    "slideshow": {
     "slide_type": "slide"
    }
   },
   "source": [
    "A <kbd>tuple</kbd> is inmutable. We have learned that once created, it can't be changed!"
   ]
  },
  {
   "cell_type": "code",
   "execution_count": 21,
   "id": "c3ca5893",
   "metadata": {},
   "outputs": [
    {
     "ename": "TypeError",
     "evalue": "'tuple' object does not support item assignment",
     "output_type": "error",
     "traceback": [
      "\u001b[0;31m---------------------------------------------------------------------------\u001b[0m",
      "\u001b[0;31mTypeError\u001b[0m                                 Traceback (most recent call last)",
      "\u001b[0;32m/var/folders/fh/hvkm2z9n7631q5058px_kqg80000gr/T/ipykernel_17844/798553507.py\u001b[0m in \u001b[0;36m<module>\u001b[0;34m\u001b[0m\n\u001b[0;32m----> 1\u001b[0;31m \u001b[0mx\u001b[0m\u001b[0;34m[\u001b[0m\u001b[0;36m2\u001b[0m\u001b[0;34m]\u001b[0m \u001b[0;34m=\u001b[0m \u001b[0;34m'horsies'\u001b[0m\u001b[0;34m\u001b[0m\u001b[0;34m\u001b[0m\u001b[0m\n\u001b[0m",
      "\u001b[0;31mTypeError\u001b[0m: 'tuple' object does not support item assignment"
     ]
    }
   ],
   "source": [
    "x[2] = 'horsies' "
   ]
  },
  {
   "cell_type": "code",
   "execution_count": 23,
   "id": "885ab43f",
   "metadata": {},
   "outputs": [
    {
     "name": "stdout",
     "output_type": "stream",
     "text": [
      "Tuples are inmutable!\n"
     ]
    }
   ],
   "source": [
    "try: x[2] = 'horsies' \n",
    "except TypeError: \n",
    "    print('Tuples are inmutable!')"
   ]
  },
  {
   "cell_type": "markdown",
   "id": "eea5d34c",
   "metadata": {
    "slideshow": {
     "slide_type": "slide"
    }
   },
   "source": [
    "This is a feature, not shortcoming of <kbd>tuple</kbd>. Since they cannot be changed nor appended, they are more  economical than <kbd>list</kbd>. <kbd>list</kbd> is the mutable counterpart of <kbd>tuple</kbd>. They are instantiated with square brackets. "
   ]
  },
  {
   "cell_type": "code",
   "execution_count": 24,
   "id": "1eb959b8",
   "metadata": {},
   "outputs": [
    {
     "data": {
      "text/plain": [
       "[1, 3.0, 'horse']"
      ]
     },
     "execution_count": 24,
     "metadata": {},
     "output_type": "execute_result"
    }
   ],
   "source": [
    "y = [1, 3.0, \"horse\"]\n",
    "y"
   ]
  },
  {
   "cell_type": "code",
   "execution_count": 25,
   "id": "d987968b",
   "metadata": {},
   "outputs": [
    {
     "data": {
      "text/plain": [
       "list"
      ]
     },
     "execution_count": 25,
     "metadata": {},
     "output_type": "execute_result"
    }
   ],
   "source": [
    "type(y)"
   ]
  },
  {
   "cell_type": "code",
   "execution_count": 26,
   "id": "bc4c9202",
   "metadata": {},
   "outputs": [
    {
     "data": {
      "text/plain": [
       "120"
      ]
     },
     "execution_count": 26,
     "metadata": {},
     "output_type": "execute_result"
    }
   ],
   "source": [
    "sys.getsizeof(y)"
   ]
  },
  {
   "cell_type": "markdown",
   "id": "8d50cb44",
   "metadata": {
    "slideshow": {
     "slide_type": "slide"
    }
   },
   "source": [
    "Lists are mutable, and in particular appendable. Since these actions are allowed, <kbd>list</kbd> objects require  more memory. The return of `sys.getsizeof` does not coincide with the values in the list! Instead, `y` is a variable with a reference to a <kbd>list</kbd> object on the heap, *which itself is a collection of adresses*. This collection of adresses takes $120$ bytes. "
   ]
  },
  {
   "cell_type": "code",
   "execution_count": 27,
   "id": "587f5b6f",
   "metadata": {},
   "outputs": [
    {
     "data": {
      "text/plain": [
       "120"
      ]
     },
     "execution_count": 27,
     "metadata": {},
     "output_type": "execute_result"
    }
   ],
   "source": [
    "sys.getsizeof(y)"
   ]
  },
  {
   "cell_type": "code",
   "execution_count": 28,
   "id": "1a16403f",
   "metadata": {},
   "outputs": [
    {
     "data": {
      "text/plain": [
       "106"
      ]
     },
     "execution_count": 28,
     "metadata": {},
     "output_type": "execute_result"
    }
   ],
   "source": [
    "sum([sys.getsizeof(i) for i in y])"
   ]
  },
  {
   "cell_type": "code",
   "execution_count": 29,
   "id": "41606b13",
   "metadata": {},
   "outputs": [
    {
     "data": {
      "text/plain": [
       "106"
      ]
     },
     "execution_count": 29,
     "metadata": {},
     "output_type": "execute_result"
    }
   ],
   "source": [
    "sys.getsizeof(1) + sys.getsizeof(3.0) + sys.getsizeof(\"horse\")"
   ]
  },
  {
   "cell_type": "markdown",
   "id": "f8e2f67c",
   "metadata": {
    "slideshow": {
     "slide_type": "slide"
    }
   },
   "source": [
    "In contrast to <kbd>tuples</kbd>, they are however mutable. "
   ]
  },
  {
   "cell_type": "code",
   "execution_count": 30,
   "id": "520d1f7e",
   "metadata": {
    "scrolled": true
   },
   "outputs": [
    {
     "data": {
      "text/plain": [
       "[1, 3.0, 'horsies']"
      ]
     },
     "execution_count": 30,
     "metadata": {},
     "output_type": "execute_result"
    }
   ],
   "source": [
    "y[2] = \"horsies\"\n",
    "y"
   ]
  },
  {
   "cell_type": "markdown",
   "id": "27dad8e8",
   "metadata": {
    "slideshow": {
     "slide_type": "slide"
    }
   },
   "source": [
    "### Reference Semantics\n",
    "\n",
    "Lists use *reference semantics*, which means that if you assign a list to two different variables, there's still only one list in memory, and both variables refer to it. As a result, changing the list with one variable changes the list for the other variable."
   ]
  },
  {
   "cell_type": "code",
   "execution_count": 37,
   "id": "fd5a7a4f",
   "metadata": {},
   "outputs": [],
   "source": [
    "x = y"
   ]
  },
  {
   "cell_type": "code",
   "execution_count": 32,
   "id": "e16a9055",
   "metadata": {},
   "outputs": [
    {
     "data": {
      "text/plain": [
       "'0x7fad08eba4c0'"
      ]
     },
     "execution_count": 32,
     "metadata": {},
     "output_type": "execute_result"
    }
   ],
   "source": [
    "hex(id(x))"
   ]
  },
  {
   "cell_type": "code",
   "execution_count": 34,
   "id": "d15d0ecb",
   "metadata": {},
   "outputs": [
    {
     "data": {
      "text/plain": [
       "'0x7fad08eba4c0'"
      ]
     },
     "execution_count": 34,
     "metadata": {},
     "output_type": "execute_result"
    }
   ],
   "source": [
    "hex(id(y))"
   ]
  },
  {
   "cell_type": "code",
   "execution_count": 42,
   "id": "c45f6df0",
   "metadata": {},
   "outputs": [
    {
     "data": {
      "text/plain": [
       "True"
      ]
     },
     "execution_count": 42,
     "metadata": {},
     "output_type": "execute_result"
    }
   ],
   "source": [
    "x is y "
   ]
  },
  {
   "cell_type": "code",
   "execution_count": 43,
   "id": "2e76ec0f",
   "metadata": {},
   "outputs": [
    {
     "data": {
      "text/plain": [
       "['my', 3.0, 'horsies']"
      ]
     },
     "execution_count": 43,
     "metadata": {},
     "output_type": "execute_result"
    }
   ],
   "source": [
    "x[0] = \"my\"\n",
    "y"
   ]
  },
  {
   "cell_type": "markdown",
   "id": "46cf316a",
   "metadata": {
    "slideshow": {
     "slide_type": "slide"
    }
   },
   "source": [
    "A new, non-referenced object can be created by slicing. "
   ]
  },
  {
   "cell_type": "code",
   "execution_count": 44,
   "id": "fd2348db",
   "metadata": {},
   "outputs": [],
   "source": [
    "z = y[:]"
   ]
  },
  {
   "cell_type": "code",
   "execution_count": 49,
   "id": "6077733b",
   "metadata": {},
   "outputs": [
    {
     "data": {
      "text/plain": [
       "'0x7facf8c099c0'"
      ]
     },
     "execution_count": 49,
     "metadata": {},
     "output_type": "execute_result"
    }
   ],
   "source": [
    "hex(id(z))"
   ]
  },
  {
   "cell_type": "code",
   "execution_count": 48,
   "id": "f45ca6ce",
   "metadata": {},
   "outputs": [
    {
     "data": {
      "text/plain": [
       "'0x7fad08eba4c0'"
      ]
     },
     "execution_count": 48,
     "metadata": {},
     "output_type": "execute_result"
    }
   ],
   "source": [
    "hex(id(y))"
   ]
  },
  {
   "cell_type": "code",
   "execution_count": 46,
   "id": "5868a72b",
   "metadata": {},
   "outputs": [
    {
     "data": {
      "text/plain": [
       "False"
      ]
     },
     "execution_count": 46,
     "metadata": {},
     "output_type": "execute_result"
    }
   ],
   "source": [
    "z is y"
   ]
  },
  {
   "cell_type": "code",
   "execution_count": 50,
   "id": "e3216c71",
   "metadata": {},
   "outputs": [
    {
     "data": {
      "text/plain": [
       "['my', 3.0, 'horsies']"
      ]
     },
     "execution_count": 50,
     "metadata": {},
     "output_type": "execute_result"
    }
   ],
   "source": [
    "z"
   ]
  },
  {
   "cell_type": "code",
   "execution_count": 51,
   "id": "aecca19e",
   "metadata": {},
   "outputs": [],
   "source": [
    "z[1] = 3"
   ]
  },
  {
   "cell_type": "code",
   "execution_count": 52,
   "id": "5fde2bb7",
   "metadata": {},
   "outputs": [
    {
     "data": {
      "text/plain": [
       "['my', 3.0, 'horsies']"
      ]
     },
     "execution_count": 52,
     "metadata": {},
     "output_type": "execute_result"
    }
   ],
   "source": [
    "y"
   ]
  },
  {
   "cell_type": "code",
   "execution_count": 53,
   "id": "9e3da1ce",
   "metadata": {},
   "outputs": [
    {
     "data": {
      "text/plain": [
       "['my', 3, 'horsies']"
      ]
     },
     "execution_count": 53,
     "metadata": {},
     "output_type": "execute_result"
    }
   ],
   "source": [
    "z"
   ]
  },
  {
   "cell_type": "markdown",
   "id": "07a3c6e1",
   "metadata": {
    "slideshow": {
     "slide_type": "slide"
    }
   },
   "source": [
    "<img src=\"../images/memory2.png\" alt=\"\" width=\"1000\"/>"
   ]
  },
  {
   "cell_type": "markdown",
   "id": "df2c0132",
   "metadata": {
    "slideshow": {
     "slide_type": "slide"
    }
   },
   "source": [
    "Alternatively, we can use the copy method ([docs](https://docs.python.org/3/library/copy.html)) to the original list. "
   ]
  },
  {
   "cell_type": "code",
   "execution_count": 54,
   "id": "844716e4",
   "metadata": {},
   "outputs": [
    {
     "data": {
      "text/plain": [
       "'0x7face80f8b80'"
      ]
     },
     "execution_count": 54,
     "metadata": {},
     "output_type": "execute_result"
    }
   ],
   "source": [
    "z = y.copy()\n",
    "hex(id(z))"
   ]
  },
  {
   "cell_type": "code",
   "execution_count": 56,
   "id": "e3c3eadf",
   "metadata": {},
   "outputs": [
    {
     "data": {
      "text/plain": [
       "'0x7fad08eba4c0'"
      ]
     },
     "execution_count": 56,
     "metadata": {},
     "output_type": "execute_result"
    }
   ],
   "source": [
    "hex(id(y))"
   ]
  },
  {
   "cell_type": "code",
   "execution_count": 58,
   "id": "a6e7f27a",
   "metadata": {},
   "outputs": [
    {
     "data": {
      "text/plain": [
       "True"
      ]
     },
     "execution_count": 58,
     "metadata": {},
     "output_type": "execute_result"
    }
   ],
   "source": [
    "y == z"
   ]
  },
  {
   "cell_type": "code",
   "execution_count": 59,
   "id": "dd28076b",
   "metadata": {},
   "outputs": [
    {
     "data": {
      "text/plain": [
       "False"
      ]
     },
     "execution_count": 59,
     "metadata": {},
     "output_type": "execute_result"
    }
   ],
   "source": [
    "y is z"
   ]
  },
  {
   "cell_type": "markdown",
   "id": "9073e74f",
   "metadata": {
    "slideshow": {
     "slide_type": "slide"
    }
   },
   "source": [
    "While the copies `y` and `z` are *equal*, the are not *identical*, because they point to different objects. "
   ]
  },
  {
   "cell_type": "code",
   "execution_count": null,
   "id": "fc6807c9",
   "metadata": {},
   "outputs": [],
   "source": [
    "y == z # equal"
   ]
  },
  {
   "cell_type": "code",
   "execution_count": null,
   "id": "79b45998",
   "metadata": {},
   "outputs": [],
   "source": [
    "y is z # identical"
   ]
  },
  {
   "cell_type": "code",
   "execution_count": null,
   "id": "2fb72ffb",
   "metadata": {
    "scrolled": true
   },
   "outputs": [],
   "source": [
    "y is x # identical"
   ]
  },
  {
   "cell_type": "code",
   "execution_count": 60,
   "id": "e16033a7",
   "metadata": {
    "slideshow": {
     "slide_type": "slide"
    }
   },
   "outputs": [
    {
     "name": "stdout",
     "output_type": "stream",
     "text": [
      "['my', 2, 'horsies']\n",
      "['my', 3.0, 'horsies']\n"
     ]
    }
   ],
   "source": [
    "y[1] = 2\n",
    "print(y)\n",
    "print(z) "
   ]
  },
  {
   "cell_type": "markdown",
   "id": "8c79976e",
   "metadata": {
    "slideshow": {
     "slide_type": "-"
    }
   },
   "source": [
    "Attention! This is a *shallow copy*, i.e., objects whithin the list will not be be reinstantiated! Above, the command `y[1] = 2` just instantiates a new <kbd>int</kbd> object of value `2` on the heap and replaces the former reference in `y` with the reference to that new object. "
   ]
  },
  {
   "cell_type": "code",
   "execution_count": 62,
   "id": "b4684b45",
   "metadata": {},
   "outputs": [
    {
     "data": {
      "text/plain": [
       "False"
      ]
     },
     "execution_count": 62,
     "metadata": {},
     "output_type": "execute_result"
    }
   ],
   "source": [
    "hex(id(z[1])) == hex(id(y[1]))"
   ]
  },
  {
   "cell_type": "code",
   "execution_count": 65,
   "id": "b1a83353",
   "metadata": {},
   "outputs": [
    {
     "data": {
      "text/plain": [
       "True"
      ]
     },
     "execution_count": 65,
     "metadata": {},
     "output_type": "execute_result"
    }
   ],
   "source": [
    "z[0] is y[0]"
   ]
  },
  {
   "cell_type": "markdown",
   "id": "b30b8b33",
   "metadata": {
    "slideshow": {
     "slide_type": "slide"
    }
   },
   "source": [
    "This becomes tricky if the list references to another list: "
   ]
  },
  {
   "cell_type": "code",
   "execution_count": 66,
   "id": "63e8f00e",
   "metadata": {},
   "outputs": [],
   "source": [
    "a = ['a', 'list']"
   ]
  },
  {
   "cell_type": "code",
   "execution_count": 67,
   "id": "b391b72c",
   "metadata": {},
   "outputs": [],
   "source": [
    "y = [1, 2, 'three', a]"
   ]
  },
  {
   "cell_type": "code",
   "execution_count": 68,
   "id": "0efb7e3b",
   "metadata": {},
   "outputs": [],
   "source": [
    "z = y.copy()"
   ]
  },
  {
   "cell_type": "code",
   "execution_count": 69,
   "id": "f7f1d76b",
   "metadata": {},
   "outputs": [
    {
     "data": {
      "text/plain": [
       "'0x7face80fa0c0'"
      ]
     },
     "execution_count": 69,
     "metadata": {},
     "output_type": "execute_result"
    }
   ],
   "source": [
    "hex(id(y))"
   ]
  },
  {
   "cell_type": "code",
   "execution_count": 70,
   "id": "acd4d06a",
   "metadata": {},
   "outputs": [
    {
     "data": {
      "text/plain": [
       "'0x7fad286dbc00'"
      ]
     },
     "execution_count": 70,
     "metadata": {},
     "output_type": "execute_result"
    }
   ],
   "source": [
    "hex(id(z))"
   ]
  },
  {
   "cell_type": "code",
   "execution_count": 71,
   "id": "4a4239a9",
   "metadata": {},
   "outputs": [
    {
     "data": {
      "text/plain": [
       "'0x7face80ff400'"
      ]
     },
     "execution_count": 71,
     "metadata": {},
     "output_type": "execute_result"
    }
   ],
   "source": [
    "hex(id(y[3]))"
   ]
  },
  {
   "cell_type": "code",
   "execution_count": 76,
   "id": "daa3d41b",
   "metadata": {},
   "outputs": [
    {
     "data": {
      "text/plain": [
       "'0x7face80ff400'"
      ]
     },
     "execution_count": 76,
     "metadata": {},
     "output_type": "execute_result"
    }
   ],
   "source": [
    "hex(id(z[3]))"
   ]
  },
  {
   "cell_type": "code",
   "execution_count": 75,
   "id": "258f59f4",
   "metadata": {},
   "outputs": [],
   "source": [
    "del a"
   ]
  },
  {
   "cell_type": "code",
   "execution_count": 77,
   "id": "6cd6ed1d",
   "metadata": {
    "slideshow": {
     "slide_type": "slide"
    }
   },
   "outputs": [],
   "source": [
    "z[0] = 3"
   ]
  },
  {
   "cell_type": "code",
   "execution_count": 78,
   "id": "d5771a4e",
   "metadata": {},
   "outputs": [
    {
     "data": {
      "text/plain": [
       "[1, 2, 'three', ['a', 'list']]"
      ]
     },
     "execution_count": 78,
     "metadata": {},
     "output_type": "execute_result"
    }
   ],
   "source": [
    "y"
   ]
  },
  {
   "cell_type": "code",
   "execution_count": 79,
   "id": "d8914ea1",
   "metadata": {},
   "outputs": [
    {
     "data": {
      "text/plain": [
       "[3, 2, 'three', ['a', 'list']]"
      ]
     },
     "execution_count": 79,
     "metadata": {},
     "output_type": "execute_result"
    }
   ],
   "source": [
    "z"
   ]
  },
  {
   "cell_type": "code",
   "execution_count": 82,
   "id": "df6cc394",
   "metadata": {},
   "outputs": [],
   "source": [
    "y[3][1] = 'ha'"
   ]
  },
  {
   "cell_type": "code",
   "execution_count": 83,
   "id": "83a9106d",
   "metadata": {},
   "outputs": [
    {
     "name": "stdout",
     "output_type": "stream",
     "text": [
      "[1, 2, 'three', ['a', 'ha']]\n",
      "[3, 2, 'three', ['a', 'ha']]\n"
     ]
    }
   ],
   "source": [
    "print(y)\n",
    "print(z)"
   ]
  },
  {
   "cell_type": "code",
   "execution_count": 81,
   "id": "12e51e7c",
   "metadata": {},
   "outputs": [
    {
     "data": {
      "text/plain": [
       "True"
      ]
     },
     "execution_count": 81,
     "metadata": {},
     "output_type": "execute_result"
    }
   ],
   "source": [
    "hex(id(z[3])) == hex(id(y[3])) "
   ]
  },
  {
   "cell_type": "markdown",
   "id": "5d0c515c",
   "metadata": {
    "slideshow": {
     "slide_type": "slide"
    }
   },
   "source": [
    "Although both lists are real copies, they reference to the same other list `a`, which has not been copied. "
   ]
  },
  {
   "cell_type": "code",
   "execution_count": 84,
   "id": "c568f092",
   "metadata": {},
   "outputs": [
    {
     "data": {
      "text/plain": [
       "True"
      ]
     },
     "execution_count": 84,
     "metadata": {},
     "output_type": "execute_result"
    }
   ],
   "source": [
    "hex(id(z[3])) == hex(id(y[3]))"
   ]
  },
  {
   "cell_type": "markdown",
   "id": "e777ab77",
   "metadata": {
    "slideshow": {
     "slide_type": "slide"
    }
   },
   "source": [
    "This behaviour is irrespecive of the variable `a`. We can remove it from the scope. Since the list object `a` has pointed to still is in scope, it will not be taken by the garbage collector. "
   ]
  },
  {
   "cell_type": "code",
   "execution_count": null,
   "id": "de95df72",
   "metadata": {},
   "outputs": [],
   "source": [
    "hex(id(a))"
   ]
  },
  {
   "cell_type": "code",
   "execution_count": null,
   "id": "29df1e90",
   "metadata": {},
   "outputs": [],
   "source": [
    "del(a)"
   ]
  },
  {
   "cell_type": "code",
   "execution_count": null,
   "id": "30e1bb12",
   "metadata": {},
   "outputs": [],
   "source": [
    "hex(id(z[3]))"
   ]
  },
  {
   "cell_type": "markdown",
   "id": "99975325",
   "metadata": {
    "slideshow": {
     "slide_type": "slide"
    }
   },
   "source": [
    "We can copy the upper-level lists as well by calling the `copy.deepcopy`. "
   ]
  },
  {
   "cell_type": "code",
   "execution_count": 129,
   "id": "5527b3bf",
   "metadata": {},
   "outputs": [],
   "source": [
    "y = [2, 2.0, [2, 'hi']]"
   ]
  },
  {
   "cell_type": "code",
   "execution_count": 130,
   "id": "8b7325c6",
   "metadata": {},
   "outputs": [],
   "source": [
    "z = deepcopy(y)"
   ]
  },
  {
   "cell_type": "code",
   "execution_count": 131,
   "id": "4a637ee3",
   "metadata": {},
   "outputs": [
    {
     "data": {
      "text/plain": [
       "[2, 2.0, [2, 'hi']]"
      ]
     },
     "execution_count": 131,
     "metadata": {},
     "output_type": "execute_result"
    }
   ],
   "source": [
    "y"
   ]
  },
  {
   "cell_type": "code",
   "execution_count": 132,
   "id": "0d7458a9",
   "metadata": {},
   "outputs": [
    {
     "data": {
      "text/plain": [
       "True"
      ]
     },
     "execution_count": 132,
     "metadata": {},
     "output_type": "execute_result"
    }
   ],
   "source": [
    "y[0] is z[0]"
   ]
  },
  {
   "cell_type": "code",
   "execution_count": 133,
   "id": "cad1f6e5",
   "metadata": {},
   "outputs": [
    {
     "data": {
      "text/plain": [
       "True"
      ]
     },
     "execution_count": 133,
     "metadata": {},
     "output_type": "execute_result"
    }
   ],
   "source": [
    "y[1] is z[1]"
   ]
  },
  {
   "cell_type": "code",
   "execution_count": 134,
   "id": "67ffc3cd",
   "metadata": {},
   "outputs": [
    {
     "data": {
      "text/plain": [
       "False"
      ]
     },
     "execution_count": 134,
     "metadata": {},
     "output_type": "execute_result"
    }
   ],
   "source": [
    "y[2] is z[2]"
   ]
  },
  {
   "cell_type": "markdown",
   "id": "8d67efb5",
   "metadata": {
    "slideshow": {
     "slide_type": "slide"
    }
   },
   "source": [
    "While the copies `y` and `z` are *equal*, the are not *identical*, because they point to different objects. "
   ]
  },
  {
   "cell_type": "code",
   "execution_count": 98,
   "id": "211d7adf",
   "metadata": {},
   "outputs": [
    {
     "data": {
      "text/plain": [
       "True"
      ]
     },
     "execution_count": 98,
     "metadata": {},
     "output_type": "execute_result"
    }
   ],
   "source": [
    "y == z # equal"
   ]
  },
  {
   "cell_type": "code",
   "execution_count": 99,
   "id": "9c8e6317",
   "metadata": {
    "scrolled": true
   },
   "outputs": [
    {
     "data": {
      "text/plain": [
       "False"
      ]
     },
     "execution_count": 99,
     "metadata": {},
     "output_type": "execute_result"
    }
   ],
   "source": [
    "y is z # identical"
   ]
  },
  {
   "cell_type": "markdown",
   "id": "7f28af78",
   "metadata": {
    "slideshow": {
     "slide_type": "slide"
    }
   },
   "source": [
    "### Interning \n",
    "\n",
    "The heap memory is memory that can be accessed and reserved by the programmer. Usually, this is tedious and automatically done. To optimize this process, Python uses *interning* to allocate ressources. Since `x` is merely a pointer to the <kbd>int</kbd> type object with value `1`, any other variable can point to the same adress.  "
   ]
  },
  {
   "cell_type": "code",
   "execution_count": 100,
   "id": "d8c0b872",
   "metadata": {},
   "outputs": [],
   "source": [
    "x = 1"
   ]
  },
  {
   "cell_type": "code",
   "execution_count": 101,
   "id": "85894156",
   "metadata": {},
   "outputs": [],
   "source": [
    "y = 1"
   ]
  },
  {
   "cell_type": "code",
   "execution_count": 102,
   "id": "deca088e",
   "metadata": {},
   "outputs": [
    {
     "data": {
      "text/plain": [
       "True"
      ]
     },
     "execution_count": 102,
     "metadata": {},
     "output_type": "execute_result"
    }
   ],
   "source": [
    "hex(id(x)) == hex(id(y))"
   ]
  },
  {
   "cell_type": "markdown",
   "id": "60e6ab00",
   "metadata": {
    "slideshow": {
     "slide_type": "slide"
    }
   },
   "source": [
    "This does not mean that integers use reference semantics! "
   ]
  },
  {
   "cell_type": "code",
   "execution_count": 105,
   "id": "e810c111",
   "metadata": {},
   "outputs": [
    {
     "data": {
      "text/plain": [
       "1"
      ]
     },
     "execution_count": 105,
     "metadata": {},
     "output_type": "execute_result"
    }
   ],
   "source": [
    "y = 1\n",
    "x"
   ]
  },
  {
   "cell_type": "code",
   "execution_count": 106,
   "id": "384f9618",
   "metadata": {},
   "outputs": [
    {
     "data": {
      "text/plain": [
       "True"
      ]
     },
     "execution_count": 106,
     "metadata": {},
     "output_type": "execute_result"
    }
   ],
   "source": [
    "x is y"
   ]
  },
  {
   "cell_type": "markdown",
   "id": "d000b531",
   "metadata": {
    "slideshow": {
     "slide_type": "slide"
    }
   },
   "source": [
    "Integer internalization is only done from `-5` to `255`. "
   ]
  },
  {
   "cell_type": "code",
   "execution_count": 127,
   "id": "4b2d2e07",
   "metadata": {},
   "outputs": [
    {
     "data": {
      "text/plain": [
       "False"
      ]
     },
     "execution_count": 127,
     "metadata": {},
     "output_type": "execute_result"
    }
   ],
   "source": [
    "x = 200.0\n",
    "y = 200.0\n",
    "x is y  # hex(id(x)) == hex(id(y))"
   ]
  },
  {
   "cell_type": "markdown",
   "id": "249e2c10",
   "metadata": {},
   "source": [
    "Interning works for several simple types: "
   ]
  },
  {
   "cell_type": "code",
   "execution_count": 110,
   "id": "52d63d22",
   "metadata": {},
   "outputs": [],
   "source": [
    "x = \"Hi\"\n",
    "y = \"Hi\""
   ]
  },
  {
   "cell_type": "code",
   "execution_count": 111,
   "id": "31657686",
   "metadata": {},
   "outputs": [
    {
     "data": {
      "text/plain": [
       "True"
      ]
     },
     "execution_count": 111,
     "metadata": {},
     "output_type": "execute_result"
    }
   ],
   "source": [
    "x is y"
   ]
  },
  {
   "cell_type": "markdown",
   "id": "c5f7d9f3",
   "metadata": {
    "slideshow": {
     "slide_type": "slide"
    }
   },
   "source": [
    "Interning can be forced using `sys.intern`. "
   ]
  },
  {
   "cell_type": "code",
   "execution_count": 112,
   "id": "19232506",
   "metadata": {},
   "outputs": [],
   "source": [
    "a = \"This is quite a long string.\"\n",
    "b = \"This is quite a long string.\""
   ]
  },
  {
   "cell_type": "code",
   "execution_count": 113,
   "id": "83ca4115",
   "metadata": {},
   "outputs": [
    {
     "data": {
      "text/plain": [
       "False"
      ]
     },
     "execution_count": 113,
     "metadata": {},
     "output_type": "execute_result"
    }
   ],
   "source": [
    "a is b "
   ]
  },
  {
   "cell_type": "code",
   "execution_count": 114,
   "id": "9433b5c9",
   "metadata": {},
   "outputs": [],
   "source": [
    "a = sys.intern(\"This is quite a long string.\")\n",
    "b = sys.intern(\"This is quite a long string.\")"
   ]
  },
  {
   "cell_type": "code",
   "execution_count": 115,
   "id": "e21e20ce",
   "metadata": {},
   "outputs": [
    {
     "data": {
      "text/plain": [
       "True"
      ]
     },
     "execution_count": 115,
     "metadata": {},
     "output_type": "execute_result"
    }
   ],
   "source": [
    "a is b"
   ]
  },
  {
   "cell_type": "code",
   "execution_count": 116,
   "id": "35cd2a19",
   "metadata": {},
   "outputs": [],
   "source": [
    "c = \"This is quite a long string.\""
   ]
  },
  {
   "cell_type": "code",
   "execution_count": 117,
   "id": "87cd9f63",
   "metadata": {},
   "outputs": [
    {
     "data": {
      "text/plain": [
       "False"
      ]
     },
     "execution_count": 117,
     "metadata": {},
     "output_type": "execute_result"
    }
   ],
   "source": [
    "a is c"
   ]
  },
  {
   "cell_type": "code",
   "execution_count": 124,
   "id": "061a442c",
   "metadata": {
    "slideshow": {
     "slide_type": "slide"
    }
   },
   "outputs": [
    {
     "name": "stdout",
     "output_type": "stream",
     "text": [
      "0x7face8121850\n"
     ]
    }
   ],
   "source": [
    "a = sys.intern(\"This is another long string!\") # alternative \n",
    "print(hex(id(a))) "
   ]
  },
  {
   "cell_type": "code",
   "execution_count": 125,
   "id": "7b6f112d",
   "metadata": {
    "slideshow": {
     "slide_type": "slide"
    }
   },
   "outputs": [
    {
     "name": "stdout",
     "output_type": "stream",
     "text": [
      "0x7face8121f80\n"
     ]
    }
   ],
   "source": [
    "del a\n",
    "b = \"This is another long string!\"\n",
    "print(hex(id(b)))"
   ]
  },
  {
   "cell_type": "code",
   "execution_count": 126,
   "id": "7cdeebbc",
   "metadata": {
    "slideshow": {
     "slide_type": "-"
    }
   },
   "outputs": [
    {
     "name": "stdout",
     "output_type": "stream",
     "text": [
      "0x7face8121bc0\n"
     ]
    }
   ],
   "source": [
    "c = sys.intern(\"This is another long string!\")\n",
    "print(hex(id(c)))"
   ]
  },
  {
   "cell_type": "markdown",
   "id": "e59c6eb2",
   "metadata": {},
   "source": [
    "For reoccuring data, interning allows to use the heap economically. "
   ]
  },
  {
   "cell_type": "markdown",
   "id": "f40076ee",
   "metadata": {
    "slideshow": {
     "slide_type": "slide"
    }
   },
   "source": [
    "### Summary \n",
    "\n",
    "- There is stack and heap memory\n",
    "- All objects are stored on the heap\n",
    "- Lists are versatile, but generally inefficient\n",
    "- Optimize heap usage via interning"
   ]
  }
 ],
 "metadata": {
  "celltoolbar": "Slideshow",
  "kernelspec": {
   "display_name": "Python 3 (ipykernel)",
   "language": "python",
   "name": "python3"
  },
  "language_info": {
   "codemirror_mode": {
    "name": "ipython",
    "version": 3
   },
   "file_extension": ".py",
   "mimetype": "text/x-python",
   "name": "python",
   "nbconvert_exporter": "python",
   "pygments_lexer": "ipython3",
   "version": "3.9.12"
  },
  "rise": {
   "progress": true,
   "scroll": true,
   "theme": "white"
  }
 },
 "nbformat": 4,
 "nbformat_minor": 5
}
