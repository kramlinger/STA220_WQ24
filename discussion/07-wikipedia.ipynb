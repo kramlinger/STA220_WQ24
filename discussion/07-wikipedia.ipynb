{
 "cells": [
  {
   "cell_type": "markdown",
   "metadata": {},
   "source": [
    "### Problem 1 : Getting to Philosophy \n",
    "\n",
    "Lets play a variation of the [wiki game](https://en.wikipedia.org/wiki/Wikipedia:Wiki_Game) to learn about [this](https://en.wikipedia.org/wiki/Wikipedia:Getting_to_Philosophy) phenomenon. The rules are as follows: \n",
    " - Start using the random article link (wiki menu on the left hand side)\n",
    " - Click on the first non-italicized link outside of parentheses \n",
    " - Ignore external links (e.g., `/wiki/File:...` or `/wiki/Category:...`), links to the current page\n",
    " - Stop when reaching \"Philosophy\", a dead end (page with no links) or when a loop occurs"
   ]
  },
  {
   "cell_type": "markdown",
   "metadata": {},
   "source": [
    "#### Exercise\n",
    "\n",
    "Write a function `play` that plays the game and stops if \"Philosophy\" is not reached after `maxiter = 1000` steps. This function should return information to compute the quantities below. \n",
    "\n",
    "Play the game $200$ times. Report \n",
    " - the mean number of sites visited per game, \n",
    " - the maximum number of sites visited per game,\n",
    " - and number of convergences to \"Philosophy\" and \n",
    " - the 20 most visited sites over all 200 games. \n",
    " \n",
    "You may want to use the module `lxml.html` and the function `tostring` `lxml.etree` or similar packages to to parse the html. Besides these, you are allowed to use `requests`, `re`, and `time`. To display the results, you may use `pandas` and its method `pandas.Series.value_counts()` or similar packages. You might find [regexr.com](https://regexr.com/) helpful. "
   ]
  },
  {
   "cell_type": "markdown",
   "metadata": {},
   "source": [
    "__Hint:__ Consider the results below from the function `play`, which takes the wiki-style url as argument and returns a dictionary. "
   ]
  },
  {
   "cell_type": "markdown",
   "metadata": {},
   "source": []
  },
  {
   "cell_type": "code",
   "execution_count": 1,
   "metadata": {},
   "outputs": [],
   "source": [
    "import lxml.html as lx\n",
    "import requests\n",
    "from lxml.etree import tostring\n",
    "import re \n",
    "import tim\n",
    "\n"
   ]
  },
  {
   "cell_type": "code",
   "execution_count": 2,
   "metadata": {},
   "outputs": [
    {
     "data": {
      "text/plain": [
       "[['/wiki/Gardena_elkinsi',\n",
       "  '/wiki/Thread-legged_bug',\n",
       "  '/wiki/Reduviidae',\n",
       "  '/wiki/Cosmopolitan_distribution',\n",
       "  '/wiki/Biogeography',\n",
       "  '/wiki/Species_distribution',\n",
       "  '/wiki/Taxon',\n",
       "  '/wiki/Biology',\n",
       "  '/wiki/Science',\n",
       "  '/wiki/Scientific_method',\n",
       "  '/wiki/Empirical_evidence',\n",
       "  '/wiki/Proposition',\n",
       "  '/wiki/Philosophy_of_language',\n",
       "  '/wiki/Analytic_philosophy',\n",
       "  '/wiki/Philosophy'],\n",
       " [15],\n",
       " ['philosophy']]"
      ]
     },
     "execution_count": 2,
     "metadata": {},
     "output_type": "execute_result"
    }
   ],
   "source": [
    "sim(1) # takes ~ 20 min, use sim(1) for a single result"
   ]
  },
  {
   "cell_type": "code",
   "execution_count": 6,
   "metadata": {},
   "outputs": [
    {
     "name": "stdout",
     "output_type": "stream",
     "text": [
      "18.595\n"
     ]
    }
   ],
   "source": [
    "import pandas as pd \n",
    "print(pd.Series(result[1]).mean()) "
   ]
  },
  {
   "cell_type": "code",
   "execution_count": 7,
   "metadata": {},
   "outputs": [
    {
     "name": "stdout",
     "output_type": "stream",
     "text": [
      "31\n"
     ]
    }
   ],
   "source": [
    "print(pd.Series(result[1]).max())"
   ]
  },
  {
   "cell_type": "code",
   "execution_count": 8,
   "metadata": {},
   "outputs": [
    {
     "data": {
      "text/plain": [
       "philosophy    186\n",
       "loop           13\n",
       "deadend         1\n",
       "dtype: int64"
      ]
     },
     "execution_count": 8,
     "metadata": {},
     "output_type": "execute_result"
    }
   ],
   "source": [
    "pd.Series(result[2]).value_counts()"
   ]
  },
  {
   "cell_type": "code",
   "execution_count": 9,
   "metadata": {},
   "outputs": [
    {
     "data": {
      "text/plain": [
       "/wiki/Philosophy                186\n",
       "/wiki/Outline_of_philosophy     167\n",
       "/wiki/Epistemology              167\n",
       "/wiki/Descriptive_knowledge     167\n",
       "/wiki/Knowledge                 167\n",
       "/wiki/Academic_discipline       143\n",
       "/wiki/Analytic_philosophy       142\n",
       "/wiki/Philosophy_of_language    142\n",
       "/wiki/Proposition               142\n",
       "/wiki/Empirical_evidence        142\n",
       "/wiki/Scientific_method         139\n",
       "/wiki/Science                   135\n",
       "/wiki/Branches_of_science        59\n",
       "/wiki/Psychology                 42\n",
       "/wiki/Politics                   31\n",
       "/wiki/Decision-making            31\n",
       "/wiki/Social_science             31\n",
       "/wiki/Physics                    28\n",
       "/wiki/Natural_science            28\n",
       "/wiki/Social_group               26\n",
       "dtype: int64"
      ]
     },
     "execution_count": 9,
     "metadata": {},
     "output_type": "execute_result"
    }
   ],
   "source": [
    "pd.Series(result[0]).value_counts().head(20)"
   ]
  }
 ],
 "metadata": {
  "kernelspec": {
   "display_name": "Python 3 (ipykernel)",
   "language": "python",
   "name": "python3"
  },
  "language_info": {
   "codemirror_mode": {
    "name": "ipython",
    "version": 3
   },
   "file_extension": ".py",
   "mimetype": "text/x-python",
   "name": "python",
   "nbconvert_exporter": "python",
   "pygments_lexer": "ipython3",
   "version": "3.10.9"
  }
 },
 "nbformat": 4,
 "nbformat_minor": 2
}
