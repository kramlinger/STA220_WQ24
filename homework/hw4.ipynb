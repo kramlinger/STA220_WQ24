{
 "cells": [
  {
   "cell_type": "markdown",
   "id": "7b4bee3a",
   "metadata": {
    "tags": [
     "header"
    ]
   },
   "source": [
    "# STA 220 Assignment 4\n",
    "\n",
    "Due __March 8, 2024__ by __11:59pm__. Submit your work by uploading it to Gradescope through Canvas.\n",
    "\n",
    "Instructions:\n",
    "\n",
    "1. Provide your solutions in new cells following each exercise description. Create as many new cells as necessary. Use code cells for your Python scripts and Markdown cells for explanatory text or answers to non-coding questions. Answer all textual questions in complete sentences.\n",
    "2. The use of assistive tools is permitted, but must be indicated. You will be graded on you proficiency in coding. Produce high quality code by adhering to proper programming principles. \n",
    "3. Export the .jpynb as .pdf and submit it on Gradescope in time. To facilitate grading, indicate the area of the solution on the submission. Submissions without indication will be marked down. No late submissions accepted. \n",
    "4. If test cases are given, your solution must be in the same format. \n",
    "5. The total number of points is 10. "
   ]
  },
  {
   "cell_type": "markdown",
   "id": "4f1d2feb",
   "metadata": {},
   "source": [
    "__Exercise 1__ Lets retrieve data from the [CIA World Factbook](https://www.cia.gov/the-world-factbook/) and visualize parts of it. "
   ]
  },
  {
   "cell_type": "markdown",
   "id": "e2c1097f",
   "metadata": {
    "tags": [
     "exercise"
    ]
   },
   "source": [
    "__(a)__ Using devtools, find a way to retrieve the names of all listed world entities. In order to navigate to their respective site, I assembled the path by processing the country names. To this end, __(i)__ write a function `process_names` that processes the name as string according to the requests query parameter. _Run:_ \n",
    "```\n",
    "process_names('Falkland Islands (Islas Malvinas)')\n",
    "```"
   ]
  },
  {
   "cell_type": "code",
   "execution_count": 682,
   "id": "5564e334",
   "metadata": {
    "tags": [
     "test"
    ]
   },
   "outputs": [
    {
     "name": "stdout",
     "output_type": "stream",
     "text": [
      "french-southern-and-antarctic-lands\n",
      "bahamas-the\n"
     ]
    }
   ],
   "source": [
    "print(process_names('French Southern and Antarctic Lands'))\n",
    "print(process_names('Bahamas, The'))"
   ]
  },
  {
   "cell_type": "markdown",
   "id": "56a33c2a",
   "metadata": {},
   "source": [
    "__(ii)__ Obtain all world entity names. _How many have you found? Hint: I could not retrieve data for all 266 entities that the CIA WFB claims to have._"
   ]
  },
  {
   "cell_type": "markdown",
   "id": "7ba0cdab",
   "metadata": {},
   "source": [
    "__(iii)__ Write a function `get_info` takes a country name as string as input and return all the information as json that is displayed on its respective site. Use the retrieved data set for the next exercises. _Hint: If you rate-limit your requests (you should!) this may take up to 10 minutes._"
   ]
  },
  {
   "cell_type": "markdown",
   "id": "cedd5398",
   "metadata": {},
   "source": [
    "__(b)__ Lets learn about the newest updated data points in the CIA world factbook - the merchant marine! __(i)__ Write a function `ports` that returns a list of all major seaports of a given country. _Run:_\n",
    "\n",
    "```\n",
    "ports('United States')\n",
    "```"
   ]
  },
  {
   "cell_type": "markdown",
   "id": "5feec690",
   "metadata": {},
   "source": [
    "__(ii)__ Lets put a marker on a world map corresponding to the location of all major seaports that you retrieved. Use the [Nominatim](https://nominatim.org/) API to get latitute-longitude pairs. Make structured queries and pass the `city` and `country` keys. Use the first value that is returned. \n",
    "\n",
    "_Print the world map. Name three markers that are apparently misplaced._"
   ]
  },
  {
   "cell_type": "markdown",
   "id": "daaf88c8",
   "metadata": {},
   "source": [
    "__(iii)__ Amongst all countries with a major seaport, return the four that have the largest fleet of _bulk carriers_. Amongst all countries with no coastline, return the four that have the largest merchant marine fleet overall. "
   ]
  },
  {
   "cell_type": "markdown",
   "id": "ba217d38",
   "metadata": {},
   "source": [
    "__(c)__ Now, lets classify whether a country is or has been controlled by the United Kingdom by analyzing the provided background information text. __(i)__ Implement a (very simple!) classification method that performs this task. My function `was_british` correctly identifies the countries of Pakistan and Russia, but incorrectly classifies Spain and the United States. \n",
    "\n",
    "_How many world entities do you find to be current or former parts of the British Empire?_"
   ]
  },
  {
   "cell_type": "code",
   "execution_count": 538,
   "id": "3048ecbb",
   "metadata": {
    "tags": [
     "test"
    ]
   },
   "outputs": [
    {
     "name": "stdout",
     "output_type": "stream",
     "text": [
      "True\n",
      "False\n"
     ]
    }
   ],
   "source": [
    "print(was_british('Pakistan'))\n",
    "print(was_british('Russia'))"
   ]
  },
  {
   "cell_type": "code",
   "execution_count": 539,
   "id": "4a896e20",
   "metadata": {
    "scrolled": false,
    "tags": [
     "test"
    ]
   },
   "outputs": [
    {
     "name": "stdout",
     "output_type": "stream",
     "text": [
      "True\n",
      "False\n"
     ]
    }
   ],
   "source": [
    "print(was_british('Spain'))\n",
    "print(was_british('United States'))"
   ]
  },
  {
   "cell_type": "markdown",
   "id": "f4238892",
   "metadata": {},
   "source": [
    "__(ii)__ Retrieve the ISO codes from [here](https://www.cia.gov/the-world-factbook/references/country-data-codes/) and use them to color all countries on a world map that you have determined to be former parts of the British Empire. The map should look something like [this](https://en.wikipedia.org/wiki/British_Empire#/media/File:The_British_Empire_5.png). "
   ]
  },
  {
   "cell_type": "markdown",
   "id": "d297eeab",
   "metadata": {},
   "source": [
    "__(d)__ Lets build our own population pyramide (with only three steps) according to the obtained data (`0-14`, `15-64`, `65+`). Given the current health expenditure as threshold, we want to obtain create a population pyramide for all aggregated population values. __(i)__ Assemble a data frame that given a threshold shows the aggregated population values of all data points which current health expenditure does not exceed the threshold, separated by gender. The first four rows of data frame `df` are given below. \n",
    "\n",
    "_How many distinct thresholds do you find?_"
   ]
  },
  {
   "cell_type": "code",
   "execution_count": 925,
   "id": "4b3642b8",
   "metadata": {
    "tags": [
     "hint"
    ]
   },
   "outputs": [
    {
     "data": {
      "text/html": [
       "<div>\n",
       "<style scoped>\n",
       "    .dataframe tbody tr th:only-of-type {\n",
       "        vertical-align: middle;\n",
       "    }\n",
       "\n",
       "    .dataframe tbody tr th {\n",
       "        vertical-align: top;\n",
       "    }\n",
       "\n",
       "    .dataframe thead th {\n",
       "        text-align: right;\n",
       "    }\n",
       "</style>\n",
       "<table border=\"1\" class=\"dataframe\">\n",
       "  <thead>\n",
       "    <tr style=\"text-align: right;\">\n",
       "      <th></th>\n",
       "      <th>Groups</th>\n",
       "      <th>Male</th>\n",
       "      <th>Female</th>\n",
       "      <th>Threshold</th>\n",
       "    </tr>\n",
       "  </thead>\n",
       "  <tbody>\n",
       "    <tr>\n",
       "      <th>0</th>\n",
       "      <td>0-14 years</td>\n",
       "      <td>999784527</td>\n",
       "      <td>940797401</td>\n",
       "      <td>1.7</td>\n",
       "    </tr>\n",
       "    <tr>\n",
       "      <th>1</th>\n",
       "      <td>15-64 years</td>\n",
       "      <td>2595737039</td>\n",
       "      <td>2532780848</td>\n",
       "      <td>1.7</td>\n",
       "    </tr>\n",
       "    <tr>\n",
       "      <th>2</th>\n",
       "      <td>65 years and over</td>\n",
       "      <td>356032162</td>\n",
       "      <td>441482834</td>\n",
       "      <td>1.7</td>\n",
       "    </tr>\n",
       "    <tr>\n",
       "      <th>3</th>\n",
       "      <td>0-14 years</td>\n",
       "      <td>927167037</td>\n",
       "      <td>870891052</td>\n",
       "      <td>2.9</td>\n",
       "    </tr>\n",
       "  </tbody>\n",
       "</table>\n",
       "</div>"
      ],
      "text/plain": [
       "              Groups        Male      Female  Threshold\n",
       "0         0-14 years   999784527   940797401        1.7\n",
       "1        15-64 years  2595737039  2532780848        1.7\n",
       "2  65 years and over   356032162   441482834        1.7\n",
       "3         0-14 years   927167037   870891052        2.9"
      ]
     },
     "execution_count": 925,
     "metadata": {},
     "output_type": "execute_result"
    }
   ],
   "source": [
    "df.head(4)"
   ]
  },
  {
   "cell_type": "markdown",
   "id": "7448e0ca",
   "metadata": {},
   "source": [
    "__(ii)__ Using `bokeh.io`, create a client-based interactive opulation pyramid that displays the data from (i) according to a set threshold (or the closest threshold that exists). Make sure that the pyramid is well crafted, similar to [this](https://en.wikipedia.org/wiki/Population_pyramid#/media/File:Angola_population_pyramid_2005.svg), but with a slider and only three population groups. \n",
    "\n",
    "_Either provide a link to a site that hosts the interactive graphic, or provide a non-interactive for threshold value `10`._"
   ]
  }
 ],
 "metadata": {
  "celltoolbar": "Tags",
  "kernelspec": {
   "display_name": "Python 3 (ipykernel)",
   "language": "python",
   "name": "python3"
  },
  "language_info": {
   "codemirror_mode": {
    "name": "ipython",
    "version": 3
   },
   "file_extension": ".py",
   "mimetype": "text/x-python",
   "name": "python",
   "nbconvert_exporter": "python",
   "pygments_lexer": "ipython3",
   "version": "3.9.12"
  }
 },
 "nbformat": 4,
 "nbformat_minor": 5
}
