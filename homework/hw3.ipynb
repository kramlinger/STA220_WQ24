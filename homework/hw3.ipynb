{
 "cells": [
  {
   "cell_type": "markdown",
   "id": "7b4bee3a",
   "metadata": {
    "tags": [
     "header"
    ]
   },
   "source": [
    "# STA 220 Assignment 3\n",
    "\n",
    "Due __Februrary 23, 2024__ by __11:59pm__. Submit your work by uploading it to Gradescope through Canvas.\n",
    "\n",
    "Instructions:\n",
    "\n",
    "1. Provide your solutions in new cells following each exercise description. Create as many new cells as necessary. Use code cells for your Python scripts and Markdown cells for explanatory text or answers to non-coding questions. Answer all textual questions in complete sentences.\n",
    "2. The use of assistive tools is permitted, but must be indicated. You will be graded on you proficiency in coding. Produce high quality code by adhering to proper programming principles. \n",
    "3. Export the .jpynb as .pdf and submit it on Gradescope in time. To facilitate grading, indicate the area of the solution on the submission. Submissions without indication will be marked down. No late submissions accepted. \n",
    "4. If test cases are given, your solution must be in the same format. \n",
    "5. The total number of points is 10. "
   ]
  },
  {
   "cell_type": "markdown",
   "id": "17c77449",
   "metadata": {
    "tags": [
     "exercise"
    ]
   },
   "source": [
    "__(a, i)__ Write a function that retrieves all links to movies in the database by scraping the _alphabetical_ section on [imsdb.com](https://imsdb.com/) and retrieve the links. _How many links did you find?_ __(ii)__ Write a function `fetch_script` that, given the link of a movie retrieved in (i), returns a dictionary that contains all relevant information of the movie: \n",
    "\n",
    "```python\n",
    "fetch_script('/Movie Scripts/10 Things I Hate About You Script.html')\n",
    "\n",
    ">>> {'title': '10 Things I Hate About You',\n",
    "     'writers': ['Karen McCullah Lutz', 'Kirsten Smith', 'William Shakespeare'],\n",
    "     'genres': ['Comedy', 'Romance'],\n",
    "     'date': 1997,\n",
    "     'script': '...'}\n",
    "```\n",
    "\n",
    "The `script` field contains a string of the scraped script. Retrieve the information for all movies. _How many scripts did you retrieve?_"
   ]
  },
  {
   "cell_type": "markdown",
   "id": "9b612cdc",
   "metadata": {
    "tags": [
     "exercise"
    ]
   },
   "source": [
    "__(b)__ We are interested in the genres `'Musical'`, `'Horror'`, and `'Romance'`. Craft a barplot displaying the absolute counts for each of these categories. In each bar, color-code the fractions of movies that are also counted in another genres. "
   ]
  },
  {
   "cell_type": "markdown",
   "id": "8358fa83",
   "metadata": {
    "tags": [
     "exercise"
    ]
   },
   "source": [
    "__(c, i)__ Using only regex, write a function `tokenizer` that returns bigrams of all non-whitespace and non-punctuation characters, according to the test case below: \n",
    "\n",
    "```python\n",
    "test = '''\n",
    "    Neque porro quisquam est, qui dolorem ipsum quia dolor sit amet, \n",
    "    consectetur, adipisci velit, sed quia non numquam eius modi tempora \n",
    "    incidunt ut labore et dolore magnam aliquam quaerat voluptatem.\n",
    "'''\n",
    "tokenizer(test)\n",
    ">>> ['neque porro',\n",
    " 'porro quisquam',\n",
    " 'quisquam est',\n",
    " 'qui dolorem',\n",
    " 'dolorem ipsum',\n",
    " 'ipsum quia',\n",
    " 'quia dolor',\n",
    " 'dolor sit',\n",
    " 'sit amet',\n",
    " 'adipisci velit',\n",
    " 'sed quia',\n",
    " 'quia non',\n",
    " 'non numquam',\n",
    " 'numquam eius',\n",
    " 'eius modi',\n",
    " 'modi tempora',\n",
    " 'incidunt ut',\n",
    " 'ut labore',\n",
    " 'labore et',\n",
    " 'et dolore',\n",
    " 'dolore magnam',\n",
    " 'magnam aliquam',\n",
    " 'aliquam quaerat',\n",
    " 'quaerat voluptatem']\n",
    " ```"
   ]
  },
  {
   "cell_type": "markdown",
   "id": "1241f210",
   "metadata": {
    "tags": [
     "exercise"
    ]
   },
   "source": [
    "__(ii)__ Use the tokenizer to obtain a tf-idf vector for each movie. Perform a (non-centered) principal component analysis (`sklearn.decomposition.TruncatedSVD`). _What fraction of variation is explained by the first principal component?_ __(iii)__ Generate a strip-plot for the first principal components versus all three genres. Does visualization indicate that a good classification could result from this approach? "
   ]
  }
 ],
 "metadata": {
  "celltoolbar": "Tags",
  "kernelspec": {
   "display_name": "Python 3 (ipykernel)",
   "language": "python",
   "name": "python3"
  },
  "language_info": {
   "codemirror_mode": {
    "name": "ipython",
    "version": 3
   },
   "file_extension": ".py",
   "mimetype": "text/x-python",
   "name": "python",
   "nbconvert_exporter": "python",
   "pygments_lexer": "ipython3",
   "version": "3.9.12"
  }
 },
 "nbformat": 4,
 "nbformat_minor": 5
}
