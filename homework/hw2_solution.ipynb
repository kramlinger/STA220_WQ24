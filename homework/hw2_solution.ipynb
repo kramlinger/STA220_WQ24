{
 "cells": [
  {
   "cell_type": "markdown",
   "id": "7b4bee3a",
   "metadata": {
    "tags": [
     "header"
    ]
   },
   "source": [
    "# STA 220 Assignment 2\n",
    "\n",
    "Due __Februrary 9, 2024__ by __11:59pm__. Submit your work by uploading it to Gradescope through Canvas.\n",
    "\n",
    "Instructions:\n",
    "\n",
    "1. Provide your solutions in new cells following each exercise description. Create as many new cells as necessary. Use code cells for your Python scripts and Markdown cells for explanatory text or answers to non-coding questions. Answer all textual questions in complete sentences.\n",
    "2. The use of assistive tools is permitted, but must be indicated. You will be graded on you proficiency in coding. Produce high quality code by adhering to proper programming principles. \n",
    "3. Export the .jpynb as .pdf and submit it on Gradescope in time. To facilitate grading, indicate the area of the solution on the submission. Submissions without indication will be marked down. No late submissions accepted. \n",
    "4. If test cases are given, your solution must be in the same format. \n",
    "5. The total number of points is 10. "
   ]
  },
  {
   "cell_type": "markdown",
   "id": "ec303493",
   "metadata": {
    "tags": [
     "exercise"
    ]
   },
   "source": [
    "__Exercise 1__\n",
    "\n",
    "We will compute the [PageRank](https://en.wikipedia.org/wiki/PageRank) of the articles of the [Sinhala](https://en.wikipedia.org/wiki/Sinhala_language) wikipedia, which is available at [si.wikipedia.org](https://si.wikipedia.org/wiki/%E0%B6%B8%E0%B7%94%E0%B6%BD%E0%B7%8A_%E0%B6%B4%E0%B7%92%E0%B6%A7%E0%B7%94%E0%B7%80). Additional information of the Sinhala wiki can be found [here](https://meta.wikimedia.org/wiki/List_of_Wikipedias). \n",
    "\n",
    "_Hints: If you don't speak Sinhalese, you might want to learn the wiki logic from the english wikipedia, and translate your findings. Also, caching is highly recommended._"
   ]
  },
  {
   "cell_type": "markdown",
   "id": "ef02d940",
   "metadata": {
    "tags": [
     "exercise"
    ]
   },
   "source": [
    "__(a)__ Use the special [AllPages](https://si.wikipedia.org/wiki/%E0%B7%80%E0%B7%92%E0%B7%81%E0%B7%9A%E0%B7%82:%E0%B7%83%E0%B7%92%E0%B6%BA%E0%B7%85%E0%B7%94_%E0%B6%B4%E0%B7%92%E0%B6%A7%E0%B7%94) page and understand its logic to retrieve the url of all articles in the sinhalese wikipedia. Make sure to skip redirections.\n",
    "\n",
    "_How many articles are there?_"
   ]
  },
  {
   "cell_type": "code",
   "execution_count": 1,
   "id": "405ee97d",
   "metadata": {
    "tags": [
     "solution"
    ]
   },
   "outputs": [],
   "source": [
    "# a) \n",
    "\n",
    "import requests\n",
    "import requests_cache\n",
    "import lxml.html as lx\n",
    "import re"
   ]
  },
  {
   "cell_type": "code",
   "execution_count": 2,
   "id": "a9e9ce9a",
   "metadata": {
    "tags": [
     "solution"
    ]
   },
   "outputs": [],
   "source": [
    "# විශේෂ:සියළු_පිටු is retrived from changing over from the english version\n",
    "url = '/w/index.php?title=විශේෂ:සියළු_පිටු&from='\n",
    "session = requests_cache.CachedSession('hw2')\n",
    "articles = []"
   ]
  },
  {
   "cell_type": "code",
   "execution_count": 3,
   "id": "dac4e38a",
   "metadata": {
    "tags": [
     "solution"
    ]
   },
   "outputs": [],
   "source": [
    "while True: \n",
    "    result = session.get('https://si.wikipedia.org' + url)\n",
    "    if result.raise_for_status(): break    \n",
    "    html = lx.fromstring(result.text)\n",
    "    # ignore all entries in the index that are redirections\n",
    "    # the class attributes are found via inspecting the html\n",
    "    articles.extend(html.xpath('//ul[@class=\"mw-allpages-chunk\"]/li[not(@class=\"allpagesredirect\")]/a/@href'))\n",
    "\n",
    "    try: \n",
    "        # මීළඟ පිටුව means Next Page\n",
    "        url = html.xpath('//div[@class=\"mw-allpages-nav\"]/a[contains(text(), \"මීළඟ පිටුව\")]/@href')[0]\n",
    "    except: \n",
    "        break"
   ]
  },
  {
   "cell_type": "code",
   "execution_count": 4,
   "id": "ea8260df",
   "metadata": {
    "tags": [
     "solution"
    ]
   },
   "outputs": [
    {
     "data": {
      "text/plain": [
       "24123"
      ]
     },
     "execution_count": 4,
     "metadata": {},
     "output_type": "execute_result"
    }
   ],
   "source": [
    "len(articles) # 24123"
   ]
  },
  {
   "cell_type": "markdown",
   "id": "4a738826",
   "metadata": {
    "tags": [
     "exercise"
    ]
   },
   "source": [
    "__(b, i)__ Scan all articles in the sinhalese wikipedia and retrieve all links to other articles. Avoid links to special pages, images or the ones that point to another website. Only count the proper article for links that point to a specific section. Use regular expressions to manage these cases. \n",
    "__(ii)__ Make sure to match redirections to their correct destiation article. To this end, find how wikipedia treats redirections and retrieve the true article. _(Help: Try searching for 'uc davis' on en.wikipedia.org')_\n",
    "__(iii)__ Use threading to request all articles and obtain all links to other articles. _(Attention: This takes about thirty minutes!)_\n",
    "\n",
    "\n",
    "_How many links to other articles are there?_"
   ]
  },
  {
   "cell_type": "code",
   "execution_count": 5,
   "id": "f13144fe",
   "metadata": {
    "scrolled": false,
    "tags": [
     "solution"
    ]
   },
   "outputs": [],
   "source": [
    "# (b,i)\n",
    "\n",
    "def fetch_links(article):\n",
    "    session = get_session()\n",
    "    result = session.get('https://si.wikipedia.org' + article)\n",
    "    try: \n",
    "        result.raise_for_status()\n",
    "    except:\n",
    "        return None\n",
    "    \n",
    "    html = lx.fromstring(result.text)\n",
    "    links = html.xpath('//div[@id=\"bodyContent\"]//a/@href')\n",
    "    \n",
    "    # match all that are not preceded by 'org', ...\n",
    "    # contain a '/wiki/' term, ...\n",
    "    # and the term after if that does not contain a colon\n",
    "    # and only match the parts preceding a within-page reference (#)\n",
    "    links = [re.findall('(?<!org)\\/wiki\\/(?!.*:)[^#]*', link) for link in links]\n",
    "    links = [link[0] for link in links if link != []] # remove unmatched links\n",
    "\n",
    "    return set(links)"
   ]
  },
  {
   "cell_type": "code",
   "execution_count": 6,
   "id": "a0e1b9e4",
   "metadata": {
    "tags": [
     "solution"
    ]
   },
   "outputs": [],
   "source": [
    "# (ii)\n",
    "lookup = {key: value for value, key in enumerate(articles)}\n",
    "\n",
    "def catch_redirect(link):\n",
    "    if lookup.get(link, None) is None: # redirect must have taken place, or link doesn't exist\n",
    "        name = re.findall('(?<=\\/wiki\\/).*', link)[0]\n",
    "        url = 'https://si.wikipedia.org/w/index.php?title=' + name + '&redirect=no' # this is how wiki treats redirects\n",
    "        result = requests.get(url)\n",
    "        html = lx.fromstring(result.text)\n",
    "        \n",
    "        try: link = html.xpath('//ul[@class=\"redirectText\"]//a/@href|//span[@class=\"mw-redirectedfrom\"]//a/@href')[0]\n",
    "        except: link\n",
    "        \n",
    "        #remove all within-page references\n",
    "        link = re.findall('(?<!org)\\/wiki\\/(?!.*:)[^#]*', link)\n",
    "        if link != []: link = link[0]\n",
    "        else: link = None\n",
    "        \n",
    "    return link"
   ]
  },
  {
   "cell_type": "code",
   "execution_count": 7,
   "id": "73471f25",
   "metadata": {
    "tags": [
     "solution"
    ]
   },
   "outputs": [],
   "source": [
    "# (iii)\n",
    "\n",
    "import concurrent.futures, threading\n",
    "\n",
    "thread_local = threading.local() # instantiates thread to create local data (here: session-attr.)\n",
    "\n",
    "def get_session():\n",
    "    if not hasattr(thread_local, \"session\"): \n",
    "        thread_local.session = requests.Session()\n",
    "    return thread_local.session"
   ]
  },
  {
   "cell_type": "code",
   "execution_count": 8,
   "id": "f8a3a3fd",
   "metadata": {
    "tags": [
     "solution"
    ]
   },
   "outputs": [],
   "source": [
    "def download_site(article):\n",
    "    session = get_session()\n",
    "    article_id = lookup.get(article)\n",
    "    links = fetch_links(article)\n",
    "    if links is None: pairs = []\n",
    "    elif links == []: pairs = []\n",
    "    else:\n",
    "        links = [catch_redirect(link) for link in links]\n",
    "        pairs = [(article_id, lookup.get(link)) for link in links if lookup.get(link) is not None]\n",
    "    return pairs"
   ]
  },
  {
   "cell_type": "code",
   "execution_count": 9,
   "id": "7aa31351",
   "metadata": {
    "tags": [
     "solution"
    ]
   },
   "outputs": [],
   "source": [
    "def download_all_sites(sites):\n",
    "    with concurrent.futures.ThreadPoolExecutor(max_workers = 12) as executor:\n",
    "        results = executor.map(download_site, sites)\n",
    "    return results "
   ]
  },
  {
   "cell_type": "code",
   "execution_count": 10,
   "id": "39747464",
   "metadata": {
    "tags": [
     "solution"
    ]
   },
   "outputs": [],
   "source": [
    "result = download_all_sites(articles)\n",
    "\n",
    "pairs = []\n",
    "for i in result: pairs.append(i)"
   ]
  },
  {
   "cell_type": "code",
   "execution_count": 11,
   "id": "38b7d303",
   "metadata": {
    "tags": [
     "solution"
    ]
   },
   "outputs": [
    {
     "name": "stdout",
     "output_type": "stream",
     "text": [
      "340148\n"
     ]
    }
   ],
   "source": [
    "print(sum([len(p) for p in pairs])) # 340148 "
   ]
  },
  {
   "cell_type": "markdown",
   "id": "cb7651d4",
   "metadata": {
    "tags": [
     "exercise"
    ]
   },
   "source": [
    "__(c)__ Compute the transition matrix (see [here](https://en.wikipedia.org/wiki/Google_matrix) and [here](https://www.amsi.org.au/teacher_modules/pdfs/Maths_delivers/Pagerank5.pdf) for step-by-step instructions). Make sure to tread dangling nodes. You may want to use: \n",
    "```\n",
    "import numpy as np\n",
    "from scipy.sparse import csr_matrix\n",
    "```"
   ]
  },
  {
   "cell_type": "code",
   "execution_count": 13,
   "id": "a1a15759",
   "metadata": {
    "tags": [
     "solution"
    ]
   },
   "outputs": [],
   "source": [
    "# (c)\n",
    "\n",
    "import numpy as np\n",
    "from scipy.sparse import csr_matrix\n",
    "\n",
    "# \n",
    "n = len(articles)\n",
    "row, col, data = zip(*((row, col, 1 / len(p)) for p in pairs for row, col in p))\n",
    "H = csr_matrix((data, (row, col)), shape = (n, n))\n",
    "\n",
    "dangling = [p==[] for p in pairs]\n",
    "H[dangling,:] = 1 / n"
   ]
  },
  {
   "cell_type": "markdown",
   "id": "a0caa3a1",
   "metadata": {
    "tags": [
     "exercise"
    ]
   },
   "source": [
    "__(d, i)__ Set the damping factor to `0.85` and compute the PageRank for each article, using fourty iterations and starting with a vector with equal entries. __(ii)__ Obtain the top ten articles in terms of PageRank, and, retrieving the articles again, find the correponding English article, if available. \n",
    "\n",
    "_Return the corresponding English article titles of the top ten articles from the Sinhalese wikipedia._"
   ]
  },
  {
   "cell_type": "code",
   "execution_count": 30,
   "id": "bc852a4c",
   "metadata": {
    "tags": [
     "solution"
    ]
   },
   "outputs": [],
   "source": [
    "# (d, i)\n",
    "\n",
    "vH = lambda v: 0.85 * (v @ H) + 0.15 * np.mean(v)\n",
    "v = np.array([1 / n] * n)\n",
    "vold = np.array([1] * n)\n",
    "for _ in range(40):\n",
    "    vold = v\n",
    "    v = vH(v)"
   ]
  },
  {
   "cell_type": "code",
   "execution_count": 61,
   "id": "9e4b2270",
   "metadata": {
    "tags": [
     "comments"
    ]
   },
   "outputs": [
    {
     "data": {
      "image/png": "[encoded data removed]",
      "text/plain": [
       "<Figure size 640x480 with 1 Axes>"
      ]
     },
     "metadata": {},
     "output_type": "display_data"
    }
   ],
   "source": [
    "import matplotlib.pyplot as plt\n",
    "plt.plot(range(n), v, label = \"PageRank\") \n",
    "plt.legend() \n",
    "plt.show()"
   ]
  },
  {
   "cell_type": "code",
   "execution_count": 67,
   "id": "7ac57080",
   "metadata": {
    "tags": [
     "solution"
    ]
   },
   "outputs": [],
   "source": [
    "import pandas as pd\n",
    "pagerank = pd.Series(v).sort_values(ascending = False).head(10)\n",
    "page_id = list(pagerank.index)"
   ]
  },
  {
   "cell_type": "code",
   "execution_count": 59,
   "id": "e764eb7d",
   "metadata": {
    "tags": [
     "solution"
    ]
   },
   "outputs": [],
   "source": [
    "top10 = [articles[p] for p in page_id]"
   ]
  },
  {
   "cell_type": "code",
   "execution_count": 54,
   "id": "9c81711c",
   "metadata": {
    "tags": [
     "solution"
    ]
   },
   "outputs": [],
   "source": [
    "def get_english_article(link): \n",
    "\n",
    "    result = requests.get('https://si.wikipedia.org' + link)\n",
    "    html = lx.fromstring(result.text)\n",
    "    english = html.xpath('//li[@class=\"interlanguage-link interwiki-en mw-list-item\"]/a/@href')\n",
    "\n",
    "    try: url = english[0]\n",
    "    except: url = None\n",
    "\n",
    "    return url\n",
    "\n",
    "def get_title(url): \n",
    "\n",
    "    result = requests.get(url)\n",
    "    html = lx.fromstring(result.text)\n",
    "    titlelist = html.xpath('//span[@class=\"mw-page-title-main\"]')\n",
    "\n",
    "    try: title = titlelist[0].text\n",
    "    except: title = None\n",
    "\n",
    "    return title"
   ]
  },
  {
   "cell_type": "code",
   "execution_count": null,
   "id": "caa7f8d8",
   "metadata": {
    "tags": [
     "solution"
    ]
   },
   "outputs": [],
   "source": [
    "english_urls = [get_english_article(link) for link in top10] # one is None\n",
    "title = [get_title(link) for link in english_urls if link is not None]\n",
    "title\n",
    "\n",
    "#Sri Lanka\n",
    "#Wayback Machine\n",
    "#ISBN\n",
    "#Time zone\n",
    "#United Kingdom\n",
    "#Sri Lanka Standard Time\n",
    "#Daughter\n",
    "#United States\n",
    "#Coordinated Universal Time"
   ]
  }
 ],
 "metadata": {
  "celltoolbar": "Tags",
  "kernelspec": {
   "display_name": "Python 3 (ipykernel)",
   "language": "python",
   "name": "python3"
  },
  "language_info": {
   "codemirror_mode": {
    "name": "ipython",
    "version": 3
   },
   "file_extension": ".py",
   "mimetype": "text/x-python",
   "name": "python",
   "nbconvert_exporter": "python",
   "pygments_lexer": "ipython3",
   "version": "3.9.12"
  }
 },
 "nbformat": 4,
 "nbformat_minor": 5
}
